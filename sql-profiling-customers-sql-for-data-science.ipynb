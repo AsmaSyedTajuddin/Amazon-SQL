{
 "cells": [
  {
   "cell_type": "code",
   "execution_count": 1,
   "id": "detailed-pearl",
   "metadata": {
    "_cell_guid": "b1076dfc-b9ad-4769-8c92-a6c4dae69d19",
    "_uuid": "8f2839f25d086af736a60e9eeb907d3b93b6e0e5",
    "execution": {
     "iopub.execute_input": "2021-06-03T10:06:38.018726Z",
     "iopub.status.busy": "2021-06-03T10:06:38.018073Z",
     "iopub.status.idle": "2021-06-03T10:06:38.025383Z",
     "shell.execute_reply": "2021-06-03T10:06:38.025972Z",
     "shell.execute_reply.started": "2021-06-03T09:29:08.54061Z"
    },
    "papermill": {
     "duration": 0.039704,
     "end_time": "2021-06-03T10:06:38.026281",
     "exception": false,
     "start_time": "2021-06-03T10:06:37.986577",
     "status": "completed"
    },
    "tags": []
   },
   "outputs": [
    {
     "name": "stdout",
     "output_type": "stream",
     "text": [
      "/kaggle/input/amazon-customers-data/Reviews.csv\n",
      "/kaggle/input/amazon-customers-data/database.sqlite\n"
     ]
    }
   ],
   "source": [
    "# This Python 3 environment comes with many helpful analytics libraries installed\n",
    "# It is defined by the kaggle/python Docker image: https://github.com/kaggle/docker-python\n",
    "# For example, here's several helpful packages to load\n",
    "\n",
    "import numpy as np # linear algebra\n",
    "import pandas as pd # data processing, CSV file I/O (e.g. pd.read_csv)\n",
    "\n",
    "# Input data files are available in the read-only \"../input/\" directory\n",
    "# For example, running this (by clicking run or pressing Shift+Enter) will list all files under the input directory\n",
    "\n",
    "import os\n",
    "for dirname, _, filenames in os.walk('/kaggle/input'):\n",
    "    for filename in filenames:\n",
    "        print(os.path.join(dirname, filename))\n",
    "\n",
    "# You can write up to 20GB to the current directory (/kaggle/working/) that gets preserved as output when you create a version using \"Save & Run All\" \n",
    "# You can also write temporary files to /kaggle/temp/, but they won't be saved outside of the current session"
   ]
  },
  {
   "cell_type": "code",
   "execution_count": 2,
   "id": "angry-mistake",
   "metadata": {
    "execution": {
     "iopub.execute_input": "2021-06-03T10:06:38.062795Z",
     "iopub.status.busy": "2021-06-03T10:06:38.062079Z",
     "iopub.status.idle": "2021-06-03T10:06:39.780150Z",
     "shell.execute_reply": "2021-06-03T10:06:39.779432Z",
     "shell.execute_reply.started": "2021-06-03T09:29:08.560376Z"
    },
    "papermill": {
     "duration": 1.738078,
     "end_time": "2021-06-03T10:06:39.780302",
     "exception": false,
     "start_time": "2021-06-03T10:06:38.042224",
     "status": "completed"
    },
    "tags": []
   },
   "outputs": [],
   "source": [
    "import pandas as pd\n",
    "import numpy as np\n",
    "import matplotlib.pyplot as plt\n",
    "import seaborn as sns\n",
    "import sqlite3\n",
    "import nltk\n",
    "import string"
   ]
  },
  {
   "cell_type": "code",
   "execution_count": 3,
   "id": "integral-seventh",
   "metadata": {
    "execution": {
     "iopub.execute_input": "2021-06-03T10:06:39.814948Z",
     "iopub.status.busy": "2021-06-03T10:06:39.814238Z",
     "iopub.status.idle": "2021-06-03T10:06:39.822616Z",
     "shell.execute_reply": "2021-06-03T10:06:39.821953Z",
     "shell.execute_reply.started": "2021-06-03T09:29:10.44859Z"
    },
    "papermill": {
     "duration": 0.027353,
     "end_time": "2021-06-03T10:06:39.822757",
     "exception": false,
     "start_time": "2021-06-03T10:06:39.795404",
     "status": "completed"
    },
    "tags": []
   },
   "outputs": [],
   "source": [
    "#create a SQL connection to our SQLite database\n",
    "con = sqlite3.connect('../input/amazon-customers-data/database.sqlite')"
   ]
  },
  {
   "cell_type": "code",
   "execution_count": 4,
   "id": "expanded-clarity",
   "metadata": {
    "execution": {
     "iopub.execute_input": "2021-06-03T10:06:39.856365Z",
     "iopub.status.busy": "2021-06-03T10:06:39.855683Z",
     "iopub.status.idle": "2021-06-03T10:06:47.905082Z",
     "shell.execute_reply": "2021-06-03T10:06:47.905750Z",
     "shell.execute_reply.started": "2021-06-03T09:31:24.977502Z"
    },
    "papermill": {
     "duration": 8.067657,
     "end_time": "2021-06-03T10:06:47.905988",
     "exception": false,
     "start_time": "2021-06-03T10:06:39.838331",
     "status": "completed"
    },
    "tags": []
   },
   "outputs": [],
   "source": [
    "df = pd.read_csv(\"../input/amazon-customers-data/Reviews.csv\") "
   ]
  },
  {
   "cell_type": "code",
   "execution_count": 5,
   "id": "baking-bacteria",
   "metadata": {
    "execution": {
     "iopub.execute_input": "2021-06-03T10:06:47.939235Z",
     "iopub.status.busy": "2021-06-03T10:06:47.938538Z",
     "iopub.status.idle": "2021-06-03T10:06:47.946160Z",
     "shell.execute_reply": "2021-06-03T10:06:47.946670Z",
     "shell.execute_reply.started": "2021-06-03T09:31:33.324853Z"
    },
    "papermill": {
     "duration": 0.025791,
     "end_time": "2021-06-03T10:06:47.946863",
     "exception": false,
     "start_time": "2021-06-03T10:06:47.921072",
     "status": "completed"
    },
    "tags": []
   },
   "outputs": [
    {
     "data": {
      "text/plain": [
       "Index(['Id', 'ProductId', 'UserId', 'ProfileName', 'HelpfulnessNumerator',\n",
       "       'HelpfulnessDenominator', 'Score', 'Time', 'Summary', 'Text'],\n",
       "      dtype='object')"
      ]
     },
     "execution_count": 5,
     "metadata": {},
     "output_type": "execute_result"
    }
   ],
   "source": [
    "df.columns"
   ]
  },
  {
   "cell_type": "code",
   "execution_count": 6,
   "id": "induced-mobility",
   "metadata": {
    "execution": {
     "iopub.execute_input": "2021-06-03T10:06:47.980734Z",
     "iopub.status.busy": "2021-06-03T10:06:47.980047Z",
     "iopub.status.idle": "2021-06-03T10:06:57.442978Z",
     "shell.execute_reply": "2021-06-03T10:06:57.443481Z"
    },
    "papermill": {
     "duration": 9.48142,
     "end_time": "2021-06-03T10:06:57.443651",
     "exception": false,
     "start_time": "2021-06-03T10:06:47.962231",
     "status": "completed"
    },
    "tags": []
   },
   "outputs": [
    {
     "data": {
      "text/html": [
       "<div>\n",
       "<style scoped>\n",
       "    .dataframe tbody tr th:only-of-type {\n",
       "        vertical-align: middle;\n",
       "    }\n",
       "\n",
       "    .dataframe tbody tr th {\n",
       "        vertical-align: top;\n",
       "    }\n",
       "\n",
       "    .dataframe thead th {\n",
       "        text-align: right;\n",
       "    }\n",
       "</style>\n",
       "<table border=\"1\" class=\"dataframe\">\n",
       "  <thead>\n",
       "    <tr style=\"text-align: right;\">\n",
       "      <th></th>\n",
       "      <th>Id</th>\n",
       "      <th>ProductId</th>\n",
       "      <th>UserId</th>\n",
       "      <th>ProfileName</th>\n",
       "      <th>HelpfulnessNumerator</th>\n",
       "      <th>HelpfulnessDenominator</th>\n",
       "      <th>Score</th>\n",
       "      <th>Time</th>\n",
       "      <th>Summary</th>\n",
       "      <th>Text</th>\n",
       "    </tr>\n",
       "  </thead>\n",
       "  <tbody>\n",
       "    <tr>\n",
       "      <th>0</th>\n",
       "      <td>1</td>\n",
       "      <td>B001E4KFG0</td>\n",
       "      <td>A3SGXH7AUHU8GW</td>\n",
       "      <td>delmartian</td>\n",
       "      <td>1</td>\n",
       "      <td>1</td>\n",
       "      <td>5</td>\n",
       "      <td>1303862400</td>\n",
       "      <td>Good Quality Dog Food</td>\n",
       "      <td>I have bought several of the Vitality canned d...</td>\n",
       "    </tr>\n",
       "    <tr>\n",
       "      <th>1</th>\n",
       "      <td>2</td>\n",
       "      <td>B00813GRG4</td>\n",
       "      <td>A1D87F6ZCVE5NK</td>\n",
       "      <td>dll pa</td>\n",
       "      <td>0</td>\n",
       "      <td>0</td>\n",
       "      <td>1</td>\n",
       "      <td>1346976000</td>\n",
       "      <td>Not as Advertised</td>\n",
       "      <td>Product arrived labeled as Jumbo Salted Peanut...</td>\n",
       "    </tr>\n",
       "    <tr>\n",
       "      <th>2</th>\n",
       "      <td>3</td>\n",
       "      <td>B000LQOCH0</td>\n",
       "      <td>ABXLMWJIXXAIN</td>\n",
       "      <td>Natalia Corres \"Natalia Corres\"</td>\n",
       "      <td>1</td>\n",
       "      <td>1</td>\n",
       "      <td>4</td>\n",
       "      <td>1219017600</td>\n",
       "      <td>\"Delight\" says it all</td>\n",
       "      <td>This is a confection that has been around a fe...</td>\n",
       "    </tr>\n",
       "    <tr>\n",
       "      <th>3</th>\n",
       "      <td>4</td>\n",
       "      <td>B000UA0QIQ</td>\n",
       "      <td>A395BORC6FGVXV</td>\n",
       "      <td>Karl</td>\n",
       "      <td>3</td>\n",
       "      <td>3</td>\n",
       "      <td>2</td>\n",
       "      <td>1307923200</td>\n",
       "      <td>Cough Medicine</td>\n",
       "      <td>If you are looking for the secret ingredient i...</td>\n",
       "    </tr>\n",
       "    <tr>\n",
       "      <th>4</th>\n",
       "      <td>5</td>\n",
       "      <td>B006K2ZZ7K</td>\n",
       "      <td>A1UQRSCLF8GW1T</td>\n",
       "      <td>Michael D. Bigham \"M. Wassir\"</td>\n",
       "      <td>0</td>\n",
       "      <td>0</td>\n",
       "      <td>5</td>\n",
       "      <td>1350777600</td>\n",
       "      <td>Great taffy</td>\n",
       "      <td>Great taffy at a great price.  There was a wid...</td>\n",
       "    </tr>\n",
       "    <tr>\n",
       "      <th>...</th>\n",
       "      <td>...</td>\n",
       "      <td>...</td>\n",
       "      <td>...</td>\n",
       "      <td>...</td>\n",
       "      <td>...</td>\n",
       "      <td>...</td>\n",
       "      <td>...</td>\n",
       "      <td>...</td>\n",
       "      <td>...</td>\n",
       "      <td>...</td>\n",
       "    </tr>\n",
       "    <tr>\n",
       "      <th>568449</th>\n",
       "      <td>568450</td>\n",
       "      <td>B001EO7N10</td>\n",
       "      <td>A28KG5XORO54AY</td>\n",
       "      <td>Lettie D. Carter</td>\n",
       "      <td>0</td>\n",
       "      <td>0</td>\n",
       "      <td>5</td>\n",
       "      <td>1299628800</td>\n",
       "      <td>Will not do without</td>\n",
       "      <td>Great for sesame chicken..this is a good if no...</td>\n",
       "    </tr>\n",
       "    <tr>\n",
       "      <th>568450</th>\n",
       "      <td>568451</td>\n",
       "      <td>B003S1WTCU</td>\n",
       "      <td>A3I8AFVPEE8KI5</td>\n",
       "      <td>R. Sawyer</td>\n",
       "      <td>0</td>\n",
       "      <td>0</td>\n",
       "      <td>2</td>\n",
       "      <td>1331251200</td>\n",
       "      <td>disappointed</td>\n",
       "      <td>I'm disappointed with the flavor. The chocolat...</td>\n",
       "    </tr>\n",
       "    <tr>\n",
       "      <th>568451</th>\n",
       "      <td>568452</td>\n",
       "      <td>B004I613EE</td>\n",
       "      <td>A121AA1GQV751Z</td>\n",
       "      <td>pksd \"pk_007\"</td>\n",
       "      <td>2</td>\n",
       "      <td>2</td>\n",
       "      <td>5</td>\n",
       "      <td>1329782400</td>\n",
       "      <td>Perfect for our maltipoo</td>\n",
       "      <td>These stars are small, so you can give 10-15 o...</td>\n",
       "    </tr>\n",
       "    <tr>\n",
       "      <th>568452</th>\n",
       "      <td>568453</td>\n",
       "      <td>B004I613EE</td>\n",
       "      <td>A3IBEVCTXKNOH</td>\n",
       "      <td>Kathy A. Welch \"katwel\"</td>\n",
       "      <td>1</td>\n",
       "      <td>1</td>\n",
       "      <td>5</td>\n",
       "      <td>1331596800</td>\n",
       "      <td>Favorite Training and reward treat</td>\n",
       "      <td>These are the BEST treats for training and rew...</td>\n",
       "    </tr>\n",
       "    <tr>\n",
       "      <th>568453</th>\n",
       "      <td>568454</td>\n",
       "      <td>B001LR2CU2</td>\n",
       "      <td>A3LGQPJCZVL9UC</td>\n",
       "      <td>srfell17</td>\n",
       "      <td>0</td>\n",
       "      <td>0</td>\n",
       "      <td>5</td>\n",
       "      <td>1338422400</td>\n",
       "      <td>Great Honey</td>\n",
       "      <td>I am very satisfied ,product is as advertised,...</td>\n",
       "    </tr>\n",
       "  </tbody>\n",
       "</table>\n",
       "<p>568454 rows × 10 columns</p>\n",
       "</div>"
      ],
      "text/plain": [
       "            Id   ProductId          UserId                      ProfileName  \\\n",
       "0            1  B001E4KFG0  A3SGXH7AUHU8GW                       delmartian   \n",
       "1            2  B00813GRG4  A1D87F6ZCVE5NK                           dll pa   \n",
       "2            3  B000LQOCH0   ABXLMWJIXXAIN  Natalia Corres \"Natalia Corres\"   \n",
       "3            4  B000UA0QIQ  A395BORC6FGVXV                             Karl   \n",
       "4            5  B006K2ZZ7K  A1UQRSCLF8GW1T    Michael D. Bigham \"M. Wassir\"   \n",
       "...        ...         ...             ...                              ...   \n",
       "568449  568450  B001EO7N10  A28KG5XORO54AY                 Lettie D. Carter   \n",
       "568450  568451  B003S1WTCU  A3I8AFVPEE8KI5                        R. Sawyer   \n",
       "568451  568452  B004I613EE  A121AA1GQV751Z                    pksd \"pk_007\"   \n",
       "568452  568453  B004I613EE   A3IBEVCTXKNOH          Kathy A. Welch \"katwel\"   \n",
       "568453  568454  B001LR2CU2  A3LGQPJCZVL9UC                         srfell17   \n",
       "\n",
       "        HelpfulnessNumerator  HelpfulnessDenominator  Score        Time  \\\n",
       "0                          1                       1      5  1303862400   \n",
       "1                          0                       0      1  1346976000   \n",
       "2                          1                       1      4  1219017600   \n",
       "3                          3                       3      2  1307923200   \n",
       "4                          0                       0      5  1350777600   \n",
       "...                      ...                     ...    ...         ...   \n",
       "568449                     0                       0      5  1299628800   \n",
       "568450                     0                       0      2  1331251200   \n",
       "568451                     2                       2      5  1329782400   \n",
       "568452                     1                       1      5  1331596800   \n",
       "568453                     0                       0      5  1338422400   \n",
       "\n",
       "                                   Summary  \\\n",
       "0                    Good Quality Dog Food   \n",
       "1                        Not as Advertised   \n",
       "2                    \"Delight\" says it all   \n",
       "3                           Cough Medicine   \n",
       "4                              Great taffy   \n",
       "...                                    ...   \n",
       "568449                 Will not do without   \n",
       "568450                        disappointed   \n",
       "568451            Perfect for our maltipoo   \n",
       "568452  Favorite Training and reward treat   \n",
       "568453                         Great Honey   \n",
       "\n",
       "                                                     Text  \n",
       "0       I have bought several of the Vitality canned d...  \n",
       "1       Product arrived labeled as Jumbo Salted Peanut...  \n",
       "2       This is a confection that has been around a fe...  \n",
       "3       If you are looking for the secret ingredient i...  \n",
       "4       Great taffy at a great price.  There was a wid...  \n",
       "...                                                   ...  \n",
       "568449  Great for sesame chicken..this is a good if no...  \n",
       "568450  I'm disappointed with the flavor. The chocolat...  \n",
       "568451  These stars are small, so you can give 10-15 o...  \n",
       "568452  These are the BEST treats for training and rew...  \n",
       "568453  I am very satisfied ,product is as advertised,...  \n",
       "\n",
       "[568454 rows x 10 columns]"
      ]
     },
     "execution_count": 6,
     "metadata": {},
     "output_type": "execute_result"
    }
   ],
   "source": [
    "pd.read_sql_query(\"SELECT * FROM Reviews\", con)"
   ]
  },
  {
   "cell_type": "markdown",
   "id": "specified-subdivision",
   "metadata": {
    "papermill": {
     "duration": 0.015577,
     "end_time": "2021-06-03T10:06:57.475520",
     "exception": false,
     "start_time": "2021-06-03T10:06:57.459943",
     "status": "completed"
    },
    "tags": []
   },
   "source": [
    "# THESE ARE USEFUL QUERIES THAT ARE CAN BE CUSTOMIZED FOR THIS DATASET : "
   ]
  },
  {
   "cell_type": "code",
   "execution_count": 7,
   "id": "harmful-moderator",
   "metadata": {
    "execution": {
     "iopub.execute_input": "2021-06-03T10:06:57.510702Z",
     "iopub.status.busy": "2021-06-03T10:06:57.510048Z",
     "iopub.status.idle": "2021-06-03T10:06:57.514903Z",
     "shell.execute_reply": "2021-06-03T10:06:57.515395Z"
    },
    "papermill": {
     "duration": 0.024149,
     "end_time": "2021-06-03T10:06:57.515562",
     "exception": false,
     "start_time": "2021-06-03T10:06:57.491413",
     "status": "completed"
    },
    "tags": []
   },
   "outputs": [
    {
     "data": {
      "text/plain": [
       "'\\nSELECT City,\\n       COUNT(*)\\nFROM Customers\\nGROUP BY City\\nORDER BY COUNT(*) DESC\\n\\n'"
      ]
     },
     "execution_count": 7,
     "metadata": {},
     "output_type": "execute_result"
    }
   ],
   "source": [
    "#Find the cities with the most customers and rank in descending order. \n",
    "\"\"\"\n",
    "SELECT City,\n",
    "       COUNT(*)\n",
    "FROM Customers\n",
    "GROUP BY City\n",
    "ORDER BY COUNT(*) DESC\n",
    "\n",
    "\"\"\""
   ]
  },
  {
   "cell_type": "code",
   "execution_count": 8,
   "id": "further-cyprus",
   "metadata": {
    "execution": {
     "iopub.execute_input": "2021-06-03T10:06:57.552037Z",
     "iopub.status.busy": "2021-06-03T10:06:57.551349Z",
     "iopub.status.idle": "2021-06-03T10:06:57.557517Z",
     "shell.execute_reply": "2021-06-03T10:06:57.556983Z"
    },
    "papermill": {
     "duration": 0.02554,
     "end_time": "2021-06-03T10:06:57.557663",
     "exception": false,
     "start_time": "2021-06-03T10:06:57.532123",
     "status": "completed"
    },
    "tags": []
   },
   "outputs": [
    {
     "data": {
      "text/plain": [
       "\"\\nSELECT FirstName, LastName, Birthdate, Address, City, State \\nFROM Employees\\nWHERE BirthDate = '1965-03-03 00:00:00'\\n\\n\""
      ]
     },
     "execution_count": 8,
     "metadata": {},
     "output_type": "execute_result"
    }
   ],
   "source": [
    "#Retrieve all the records from the Employees table.\n",
    "\n",
    "\"\"\"\n",
    "\n",
    "SELECT * FROM Employees\n",
    "\n",
    "\"\"\"\n",
    "#Retrieve the FirstName, LastName, Birthdate, Address, City, and State from the Employees table.\n",
    "\n",
    "\"\"\"\n",
    "SELECT FirstName, LastName, Birthdate, Address, City, State \n",
    "FROM Employees\n",
    "WHERE BirthDate = '1965-03-03 00:00:00'\n",
    "\n",
    "\"\"\""
   ]
  },
  {
   "cell_type": "code",
   "execution_count": 9,
   "id": "dirty-greenhouse",
   "metadata": {
    "execution": {
     "iopub.execute_input": "2021-06-03T10:06:57.596550Z",
     "iopub.status.busy": "2021-06-03T10:06:57.595834Z",
     "iopub.status.idle": "2021-06-03T10:06:57.599714Z",
     "shell.execute_reply": "2021-06-03T10:06:57.600294Z"
    },
    "papermill": {
     "duration": 0.025786,
     "end_time": "2021-06-03T10:06:57.600478",
     "exception": false,
     "start_time": "2021-06-03T10:06:57.574692",
     "status": "completed"
    },
    "tags": []
   },
   "outputs": [
    {
     "data": {
      "text/plain": [
       "'\\n\\nSELECT * from Tracks\\nLIMIT 20\\n\\n'"
      ]
     },
     "execution_count": 9,
     "metadata": {},
     "output_type": "execute_result"
    }
   ],
   "source": [
    "#Retrieve all the columns from the Tracks table, but only return 20 rows.\n",
    "\n",
    "\"\"\"\n",
    "\n",
    "SELECT * from Tracks\n",
    "LIMIT 20\n",
    "\n",
    "\"\"\""
   ]
  },
  {
   "cell_type": "code",
   "execution_count": 10,
   "id": "driving-trinidad",
   "metadata": {
    "execution": {
     "iopub.execute_input": "2021-06-03T10:06:57.639100Z",
     "iopub.status.busy": "2021-06-03T10:06:57.638434Z",
     "iopub.status.idle": "2021-06-03T10:06:57.643784Z",
     "shell.execute_reply": "2021-06-03T10:06:57.643183Z"
    },
    "papermill": {
     "duration": 0.025672,
     "end_time": "2021-06-03T10:06:57.643932",
     "exception": false,
     "start_time": "2021-06-03T10:06:57.618260",
     "status": "completed"
    },
    "tags": []
   },
   "outputs": [
    {
     "data": {
      "text/plain": [
       "'\\nSELECT COUNT(TrackId)\\nFROM TRACKS\\nWHERE Milliseconds >= 5000000 \\n'"
      ]
     },
     "execution_count": 10,
     "metadata": {},
     "output_type": "execute_result"
    }
   ],
   "source": [
    "#Find all the tracks that have a length of 5,000,000 milliseconds or more.\n",
    "\n",
    "\"\"\"\n",
    "SELECT COUNT(TrackId)\n",
    "FROM TRACKS\n",
    "WHERE Milliseconds >= 5000000 \n",
    "\"\"\""
   ]
  },
  {
   "cell_type": "code",
   "execution_count": 11,
   "id": "boxed-delicious",
   "metadata": {
    "execution": {
     "iopub.execute_input": "2021-06-03T10:06:57.685171Z",
     "iopub.status.busy": "2021-06-03T10:06:57.684271Z",
     "iopub.status.idle": "2021-06-03T10:06:57.688623Z",
     "shell.execute_reply": "2021-06-03T10:06:57.688022Z"
    },
    "papermill": {
     "duration": 0.026826,
     "end_time": "2021-06-03T10:06:57.688792",
     "exception": false,
     "start_time": "2021-06-03T10:06:57.661966",
     "status": "completed"
    },
    "tags": []
   },
   "outputs": [
    {
     "data": {
      "text/plain": [
       "'\\n\\nSELECT InvoiceID,Total\\nFROM Invoices\\nWHERE Total > 5 AND Total < 15\\n\\n\\n'"
      ]
     },
     "execution_count": 11,
     "metadata": {},
     "output_type": "execute_result"
    }
   ],
   "source": [
    "#Find all the invoices whose total is between $5 and $15 dollars.\n",
    "\n",
    "\"\"\"\n",
    "\n",
    "SELECT InvoiceID,Total\n",
    "FROM Invoices\n",
    "WHERE Total > 5 AND Total < 15\n",
    "\n",
    "\n",
    "\"\"\""
   ]
  },
  {
   "cell_type": "code",
   "execution_count": 12,
   "id": "dressed-emerald",
   "metadata": {
    "execution": {
     "iopub.execute_input": "2021-06-03T10:06:57.731741Z",
     "iopub.status.busy": "2021-06-03T10:06:57.730913Z",
     "iopub.status.idle": "2021-06-03T10:06:57.735409Z",
     "shell.execute_reply": "2021-06-03T10:06:57.734836Z"
    },
    "papermill": {
     "duration": 0.028324,
     "end_time": "2021-06-03T10:06:57.735552",
     "exception": false,
     "start_time": "2021-06-03T10:06:57.707228",
     "status": "completed"
    },
    "tags": []
   },
   "outputs": [
    {
     "data": {
      "text/plain": [
       "\"\\nSELECT FirstName, LastName, Company, State\\nFROM Customers\\nWHERE State IN ('RJ','DF','AB','BC','CA','WA','NY')\\n\""
      ]
     },
     "execution_count": 12,
     "metadata": {},
     "output_type": "execute_result"
    }
   ],
   "source": [
    "#Find all the customers from the following States: RJ, DF, AB, BC, CA, WA, NY.\n",
    "\n",
    "\"\"\"\n",
    "SELECT FirstName, LastName, Company, State\n",
    "FROM Customers\n",
    "WHERE State IN ('RJ','DF','AB','BC','CA','WA','NY')\n",
    "\"\"\""
   ]
  },
  {
   "cell_type": "code",
   "execution_count": 13,
   "id": "noticed-production",
   "metadata": {
    "execution": {
     "iopub.execute_input": "2021-06-03T10:06:57.779859Z",
     "iopub.status.busy": "2021-06-03T10:06:57.778990Z",
     "iopub.status.idle": "2021-06-03T10:06:57.783816Z",
     "shell.execute_reply": "2021-06-03T10:06:57.782994Z"
    },
    "papermill": {
     "duration": 0.02934,
     "end_time": "2021-06-03T10:06:57.783967",
     "exception": false,
     "start_time": "2021-06-03T10:06:57.754627",
     "status": "completed"
    },
    "tags": []
   },
   "outputs": [
    {
     "data": {
      "text/plain": [
       "'\\n\\nSELECT CustomerId, InvoiceId, Total, InvoiceDate\\nFROM Invoices\\nWHERE CustomerID IN (56,58) AND \\nTotal BETWEEN 1 AND 5\\n\\n'"
      ]
     },
     "execution_count": 13,
     "metadata": {},
     "output_type": "execute_result"
    }
   ],
   "source": [
    "#Find all the invoices for customer 56 and 58 where the total was between $1.00 and $5.00.\n",
    "\n",
    "\"\"\"\n",
    "\n",
    "SELECT CustomerId, InvoiceId, Total, InvoiceDate\n",
    "FROM Invoices\n",
    "WHERE CustomerID IN (56,58) AND \n",
    "Total BETWEEN 1 AND 5\n",
    "\n",
    "\"\"\""
   ]
  },
  {
   "cell_type": "code",
   "execution_count": 14,
   "id": "yellow-hollow",
   "metadata": {
    "execution": {
     "iopub.execute_input": "2021-06-03T10:06:57.828296Z",
     "iopub.status.busy": "2021-06-03T10:06:57.827395Z",
     "iopub.status.idle": "2021-06-03T10:06:57.832115Z",
     "shell.execute_reply": "2021-06-03T10:06:57.831520Z"
    },
    "papermill": {
     "duration": 0.028647,
     "end_time": "2021-06-03T10:06:57.832265",
     "exception": false,
     "start_time": "2021-06-03T10:06:57.803618",
     "status": "completed"
    },
    "tags": []
   },
   "outputs": [
    {
     "data": {
      "text/plain": [
       "\"\\n\\nSELECT TrackId, Name\\nFROM Tracks\\nWHERE Name LIKE 'All%'\\n\\n\""
      ]
     },
     "execution_count": 14,
     "metadata": {},
     "output_type": "execute_result"
    }
   ],
   "source": [
    "#Find all the tracks whose name starts with 'All'.\n",
    "\n",
    "\"\"\"\n",
    "\n",
    "SELECT TrackId, Name\n",
    "FROM Tracks\n",
    "WHERE Name LIKE 'All%'\n",
    "\n",
    "\"\"\""
   ]
  },
  {
   "cell_type": "code",
   "execution_count": 15,
   "id": "partial-algorithm",
   "metadata": {
    "execution": {
     "iopub.execute_input": "2021-06-03T10:06:57.878016Z",
     "iopub.status.busy": "2021-06-03T10:06:57.877250Z",
     "iopub.status.idle": "2021-06-03T10:06:57.881199Z",
     "shell.execute_reply": "2021-06-03T10:06:57.881649Z"
    },
    "papermill": {
     "duration": 0.029681,
     "end_time": "2021-06-03T10:06:57.881844",
     "exception": false,
     "start_time": "2021-06-03T10:06:57.852163",
     "status": "completed"
    },
    "tags": []
   },
   "outputs": [
    {
     "data": {
      "text/plain": [
       "'\\n\\nSELECT CustomerId, Email\\nFROM Customers\\nWHERE Email LIKE \"J%@gmail.com\"\\n\\n\\n'"
      ]
     },
     "execution_count": 15,
     "metadata": {},
     "output_type": "execute_result"
    }
   ],
   "source": [
    "#Find all the customer emails that start with \"J\" and are from gmail.com.\n",
    "\n",
    "\"\"\"\n",
    "\n",
    "SELECT CustomerId, Email\n",
    "FROM Customers\n",
    "WHERE Email LIKE \"J%@gmail.com\"\n",
    "\n",
    "\n",
    "\"\"\" "
   ]
  },
  {
   "cell_type": "code",
   "execution_count": 16,
   "id": "periodic-reset",
   "metadata": {
    "execution": {
     "iopub.execute_input": "2021-06-03T10:06:57.928833Z",
     "iopub.status.busy": "2021-06-03T10:06:57.927919Z",
     "iopub.status.idle": "2021-06-03T10:06:57.932058Z",
     "shell.execute_reply": "2021-06-03T10:06:57.932510Z"
    },
    "papermill": {
     "duration": 0.030484,
     "end_time": "2021-06-03T10:06:57.932683",
     "exception": false,
     "start_time": "2021-06-03T10:06:57.902199",
     "status": "completed"
    },
    "tags": []
   },
   "outputs": [
    {
     "data": {
      "text/plain": [
       "'\\n\\nSELECT AlbumId, Count(*) AS Ntracks\\nFROM Tracks\\nGROUP BY AlbumId\\nHAVING COUNT (*) >= 12\\n\\n'"
      ]
     },
     "execution_count": 16,
     "metadata": {},
     "output_type": "execute_result"
    }
   ],
   "source": [
    "#Find all the invoices from Brasilia, Edmonton, and Vancouver and sort in descending order by invoice ID.\n",
    "\n",
    "\"\"\"\n",
    "SELECT InvoiceId, BillingCity, Total\n",
    "FROM Invoices\n",
    "WHERE BillingCity IN ('Brasilia','Edmonton','Vancouver')\n",
    "ORDER BY InvoiceId DESC\n",
    "\n",
    "\"\"\"\n",
    "#Show the number of orders placed by each customer and sort the result by the number of orders in descending order.\n",
    "\n",
    "\"\"\"\n",
    "\n",
    "SELECT CustomerId, COUNT(*) AS Orders\n",
    "FROM Invoices\n",
    "GROUP BY CustomerId\n",
    "ORDER BY Orders DESC\n",
    "\n",
    "\"\"\"\n",
    "\n",
    "#Find the albums with 12 or more tracks.\n",
    "\n",
    "\"\"\"\n",
    "\n",
    "SELECT AlbumId, Count(*) AS Ntracks\n",
    "FROM Tracks\n",
    "GROUP BY AlbumId\n",
    "HAVING COUNT (*) >= 12\n",
    "\n",
    "\"\"\""
   ]
  },
  {
   "cell_type": "code",
   "execution_count": 17,
   "id": "sexual-problem",
   "metadata": {
    "execution": {
     "iopub.execute_input": "2021-06-03T10:06:57.996844Z",
     "iopub.status.busy": "2021-06-03T10:06:57.995897Z",
     "iopub.status.idle": "2021-06-03T10:06:58.001964Z",
     "shell.execute_reply": "2021-06-03T10:06:58.001371Z"
    },
    "papermill": {
     "duration": 0.048789,
     "end_time": "2021-06-03T10:06:58.002114",
     "exception": false,
     "start_time": "2021-06-03T10:06:57.953325",
     "status": "completed"
    },
    "tags": []
   },
   "outputs": [
    {
     "ename": "IndentationError",
     "evalue": "unindent does not match any outer indentation level (<tokenize>, line 69)",
     "output_type": "error",
     "traceback": [
      "\u001b[0;36m  File \u001b[0;32m\"<tokenize>\"\u001b[0;36m, line \u001b[0;32m69\u001b[0m\n\u001b[0;31m    SELECT c_ID,\u001b[0m\n\u001b[0m    ^\u001b[0m\n\u001b[0;31mIndentationError\u001b[0m\u001b[0;31m:\u001b[0m unindent does not match any outer indentation level\n"
     ]
    }
   ],
   "source": [
    "SELECT  count(gender), max(revenu), min(revenu), avg(revenu) avg_revenue, count(behavior) FROM user_tables \n",
    "GROUP BY region\n",
    "WHERE gender = \"M\" and revenu > avg_revenue and region = 'la marsa' \n",
    "\n",
    "----------------------------------------------------------------------------------------------------------------------------------------\n",
    "2- \n",
    "Here’s an example of an SQL query that pulls client performance data by  c_ID , region ,Group , Subsciption and  metrics (i.e. purchases , behavior ) \n",
    "\n",
    "SELECT c_ID, region ,Group , Subsciption, SUM(purchases) toatal purchases, SUM(behavior) total behavior , AVG(purchases) , AVG(behavior)   \n",
    "\n",
    "FROM `my-dataset`\n",
    "\n",
    "GROUP BY c_ID, region , Group\n",
    "\n",
    "ORDER BY toatal purchases DESC\n",
    "\n",
    "LIMIT 1000\n",
    "----------------------------------------------------------------------------------\n",
    "3- \n",
    "\n",
    "SELECT Date,\n",
    "       SUM(purchases) AS total_purchases\n",
    "FROM my_dataset\n",
    "WHERE Date BETWEEN '2021-05-01' AND '2021-06-01'\n",
    "GROUP BY Date\n",
    "HAVING  SUM(total_purchases) > 100\n",
    "ORDER BY Date DESC \n",
    "---------------------------------------------------------------------------------------------------------------------------------------\n",
    "4- \n",
    "\n",
    "SELECT AVG(purchases)\n",
    "FROM my_dataset \n",
    "\n",
    "SELECT c_ID, SUM(purchases) , AVG(purchases) \n",
    " WHERE (region, Group, age_range) = ('TUNIS', 'high users', '18-24')  \n",
    " FROM products\n",
    " GROUP BY c_ID  \n",
    "-------------------------------------------------------------------------------------------------------------------\n",
    "5- \n",
    "SQL statement which selects the highest purchases  for each of the regions of the customers.\n",
    "\n",
    "SELECT region ,MAX(purchases) \n",
    "FROM my_datatset\n",
    "GROUP BY region\n",
    "-----------------------------------------------------------------------------------------------------------------------\n",
    "6- \n",
    "\n",
    "#purchases greater than the average \n",
    "SELECT COUNT(*) FROM products WHERE purchases > AVG(purchases) \n",
    "-------------------------------------------------------------\n",
    "7- \n",
    "#select the c_ID , region , group with maximum purchases\n",
    "SELECT c_ID, region,Group MAX(purchases) FROM products\n",
    "SELECT c_ID, region,Group  MAX(behavior) FROM products\n",
    "--------------------------------------------------------------\n",
    "8- \n",
    "# extract the region where there are low purchases amounts\n",
    "\n",
    "SELECT MIN(purchases)\n",
    "FROM `my_dataset`\n",
    "WHERE `Group` = 'High value customers' AND `region` = 'TUNIS' \n",
    "\n",
    "\n",
    "SELECT c_ID, Group, purchases\n",
    "  FROM titles\n",
    "  WHERE NOT Group = 'Y' OR Group = 'Z'\n",
    "        AND NOT purchases < 20;  \n",
    "\n",
    " SELECT c_ID,\n",
    "         type = 'X' AS \"X_type\",\n",
    "         type = 'Y' AS \"Y_type\",\n",
    "         purchases,\n",
    "         purchases < 20 AS \"<20?\"\n",
    "    FROM my_dataset;  \n",
    "     \n",
    "--------------------------------------------------------------\n",
    "9-\n",
    "SELECT `Group`, MIN(purchases)\n",
    "FROM `my_dataset`\n",
    "GROUP BY `Group` \n",
    "--------------------------------------------------------------\n",
    "10- \n",
    "SELECT c_ID , SUM(purchases) AS total_purchases\n",
    "FROM my_dataset\n",
    "WHERE region = 'TUNIS' \n",
    "--------------------------------------------------------------\n",
    "11- \n",
    "SELECT * FROM my_dataset\n",
    "WHERE Group = 'x' AND purchases < 20 \n",
    "\n",
    "SELECT * FROM my_dataset\n",
    "WHERE region = 'Monastir' OR purchases = AVG(purchases)  \n",
    "\n",
    "SELECT * FROM my_dataset\n",
    "WHERE ( Group = 'x' AND purchases < 20 )\n",
    "OR ( region = 'Monastir' AND purchases < 200 ) \n",
    "---------------------------------------------------------------\n",
    "12- \n",
    "SELECT count(gender), max(revenu), min(revenu), avg(revenu), count(behavior)\n",
    "FROM my_dataset\n",
    "WHERE region IN ('TUNIS', 'ARIANA','BEN AAROUS' ,'MANOUBA') \n",
    "--------------------------------------------------------------------------------\n",
    "14- \n",
    "SELECT *\n",
    "FROM my_dataset\n",
    "WHERE Age BETWEEN 18 AND 24 \n",
    "--------------------------------------------------------------------------------\n",
    "15- \n",
    "#la liste des clients qui ont des purchases plus de 40 :\n",
    "\n",
    "SELECT c_ID, SUM(purchases)\n",
    "FROM my_dataset\n",
    "GROUP BY c_ID\n",
    "HAVING SUM(purchases) > 40  \n",
    "\n",
    "SELECT region, SUM(purchases)\n",
    "FROM my_dataset\n",
    "GROUP BY region\n",
    "HAVING SUM(purchases) > 40  \n",
    "\n",
    "SELECT Group, SUM(purchases)\n",
    "FROM my_dataset\n",
    "GROUP BY Group \n",
    "HAVING SUM(purchases) > 40  \n",
    "\n",
    "-------------------------------------------------------------------------------------------------\n",
    "16- \n",
    "we can compute a moving average that averages the previous three periods for example :\n",
    "\n",
    "select period, \n",
    "       purchases, \n",
    "       avg(purchases) over (order by period rows between 3 preceding and current row)\n",
    "from my_dataset;\n",
    " \n",
    "---------------------------------------------------------------------------------------------------\n",
    "17- \n",
    "Top client Per Region    : it gives like a bonus or gold client per region ! ((Graph to show in Map the top client )) \n",
    "select *\n",
    "from\n",
    "(\n",
    "     select region, \n",
    "            c_ID, \n",
    "            rank() over(partition by region order by sum(purchases) desc) as ranking\n",
    "     from my_dataset \n",
    "     group by region, \n",
    "              c_ID \n",
    "\n",
    ") temp\n",
    "where ranking = 1\n",
    "------------------------------------------------------------------------------------------------------\n",
    "18- \n",
    "#select top 10  purchases\t\n",
    "SELECT TOP (10) c_ID, \n",
    "                purchases, \n",
    "                region, \n",
    "                Group\n",
    "FROM My_dataset\n",
    "ORDER BY purchases;\n",
    "-------------------------------------------------------------------------------------------------------\n",
    "19- \n",
    "#the top K purchasess along with their ranking.( K = 10 , TOP 10 ) \n",
    " \n",
    " SELECT c_ID, purchases, \n",
    "        RANK() OVER(ORDER BY purchases DESC),\n",
    "        DENSE_RANK() OVER(ORDER BY purchases DESC),\n",
    "        ROW_NUMBER() OVER(ORDER BY purchases DESC)  \n",
    " FROM my_dataset\n",
    " FETCH FIRST K ROWS ONLY\n",
    "-------------------------------------------------------------------------------------------------------\n",
    "20- \n",
    "find out which region//GROUP//SUBSCRIPTION has the highest average spening//behavior. The following query groups the data by region, determines the average purchases for each region, and ranks the resulting averages. \n",
    "\n",
    "SELECT region, INT(AVG(purchases)) AS AVERAGE, \n",
    "         RANK() OVER(ORDER BY AVG(purchases) DESC) AS AVG_purchases \n",
    "   FROM My_dataset \n",
    "   GROUP BY  region \n",
    "\n",
    "SELECT Group, INT(AVG(purchases)) AS AVERAGE, \n",
    "         RANK() OVER(ORDER BY AVG(purchases) DESC) AS AVG_purchases \n",
    "   FROM My_dataset \n",
    "   GROUP BY  Group\n",
    "\n",
    "SELECT Subscription, INT(AVG(purchases)) AS AVERAGE, \n",
    "         RANK() OVER(ORDER BY AVG(purchases) DESC) AS AVG_purchases \n",
    "   FROM My_dataset \n",
    "   GROUP BY  Subscription \n",
    "----------------------------------------------------------------------------------------------------------\n",
    "21- \n",
    "The list of employees along with how their behavior//purchases ranks within their regions. \n",
    "\n",
    "\n",
    "SELECT c_ID, region, behavior, \n",
    "        DENSE_RANK() OVER(PARTITION BY region ORDER BY behavior DESC) \n",
    "          AS behavior_RANK_IN_region \n",
    "   FROM my_dataset\n",
    "   WHERE region IN ('TUNIS', 'ARIANA','BEN AAROUS' ,'MANOUBA')  \n",
    "\n",
    "SELECT c_ID, region, purchases, \n",
    "        DENSE_RANK() OVER(PARTITION BY region ORDER BY purchases DESC) \n",
    "          AS purchases_RANK_IN_region \n",
    "   FROM my_dataset\n",
    "   WHERE region IN ('TUNIS', 'ARIANA','BEN AAROUS' ,'MANOUBA')  "
   ]
  },
  {
   "cell_type": "markdown",
   "id": "mature-railway",
   "metadata": {
    "papermill": {
     "duration": 0.02168,
     "end_time": "2021-06-03T10:06:58.045015",
     "exception": false,
     "start_time": "2021-06-03T10:06:58.023335",
     "status": "completed"
    },
    "tags": []
   },
   "source": [
    "# CREDITDS : "
   ]
  },
  {
   "cell_type": "markdown",
   "id": "careful-teaching",
   "metadata": {
    "papermill": {
     "duration": 0.021141,
     "end_time": "2021-06-03T10:06:58.087733",
     "exception": false,
     "start_time": "2021-06-03T10:06:58.066592",
     "status": "completed"
    },
    "tags": []
   },
   "source": [
    "[GitHub SQL-for-Data-Science](https://github.com/trentparkinson/SQL-for-Data-Science)"
   ]
  }
 ],
 "metadata": {
  "kernelspec": {
   "display_name": "Python 3",
   "language": "python",
   "name": "python3"
  },
  "language_info": {
   "codemirror_mode": {
    "name": "ipython",
    "version": 3
   },
   "file_extension": ".py",
   "mimetype": "text/x-python",
   "name": "python",
   "nbconvert_exporter": "python",
   "pygments_lexer": "ipython3",
   "version": "3.7.10"
  },
  "papermill": {
   "default_parameters": {},
   "duration": 29.660381,
   "end_time": "2021-06-03T10:06:59.123698",
   "environment_variables": {},
   "exception": null,
   "input_path": "__notebook__.ipynb",
   "output_path": "__notebook__.ipynb",
   "parameters": {},
   "start_time": "2021-06-03T10:06:29.463317",
   "version": "2.3.3"
  }
 },
 "nbformat": 4,
 "nbformat_minor": 5
}
