{
 "cells": [
  {
   "cell_type": "markdown",
   "metadata": {
    "papermill": {
     "duration": 0.014871,
     "end_time": "2020-12-21T18:55:20.087716",
     "exception": false,
     "start_time": "2020-12-21T18:55:20.072845",
     "status": "completed"
    },
    "tags": []
   },
   "source": [
    "## Introduction\n",
    "Greetings from the Kaggle bot! This is an automatically-generated kernel with starter code demonstrating how to read in the data and begin exploring. If you're inspired to dig deeper, click the blue \"Fork Notebook\" button at the top of this kernel to begin editing."
   ]
  },
  {
   "cell_type": "markdown",
   "metadata": {
    "papermill": {
     "duration": 0.011799,
     "end_time": "2020-12-21T18:55:20.111630",
     "exception": false,
     "start_time": "2020-12-21T18:55:20.099831",
     "status": "completed"
    },
    "tags": []
   },
   "source": [
    "## Exploratory Analysis\n",
    "To begin this exploratory analysis, first import libraries and define functions for plotting the data using `matplotlib`. Depending on the data, not all plots will be made. (Hey, I'm just a simple kerneling bot, not a Kaggle Competitions Grandmaster!)"
   ]
  },
  {
   "cell_type": "code",
   "execution_count": 1,
   "metadata": {
    "_kg_hide-input": false,
    "collapsed": false,
    "execution": {
     "iopub.execute_input": "2020-12-21T18:55:20.138937Z",
     "iopub.status.busy": "2020-12-21T18:55:20.138263Z",
     "iopub.status.idle": "2020-12-21T18:55:21.036426Z",
     "shell.execute_reply": "2020-12-21T18:55:21.037011Z"
    },
    "papermill": {
     "duration": 0.913637,
     "end_time": "2020-12-21T18:55:21.037218",
     "exception": false,
     "start_time": "2020-12-21T18:55:20.123581",
     "status": "completed"
    },
    "tags": []
   },
   "outputs": [],
   "source": [
    "from mpl_toolkits.mplot3d import Axes3D\n",
    "from sklearn.preprocessing import StandardScaler\n",
    "import matplotlib.pyplot as plt # plotting\n",
    "import numpy as np # linear algebra\n",
    "import os # accessing directory structure\n",
    "import pandas as pd # data processing, CSV file I/O (e.g. pd.read_csv)\n"
   ]
  },
  {
   "cell_type": "markdown",
   "metadata": {
    "papermill": {
     "duration": 0.012525,
     "end_time": "2020-12-21T18:55:21.062974",
     "exception": false,
     "start_time": "2020-12-21T18:55:21.050449",
     "status": "completed"
    },
    "tags": []
   },
   "source": [
    "There is 1 csv file in the current version of the dataset:\n"
   ]
  },
  {
   "cell_type": "code",
   "execution_count": 2,
   "metadata": {
    "_kg_hide-input": false,
    "collapsed": false,
    "execution": {
     "iopub.execute_input": "2020-12-21T18:55:21.090857Z",
     "iopub.status.busy": "2020-12-21T18:55:21.090209Z",
     "iopub.status.idle": "2020-12-21T18:55:21.104351Z",
     "shell.execute_reply": "2020-12-21T18:55:21.103835Z"
    },
    "papermill": {
     "duration": 0.029019,
     "end_time": "2020-12-21T18:55:21.104464",
     "exception": false,
     "start_time": "2020-12-21T18:55:21.075445",
     "status": "completed"
    },
    "tags": []
   },
   "outputs": [
    {
     "name": "stdout",
     "output_type": "stream",
     "text": [
      "/kaggle/input/home_sdf_marketing_sample_for_amazon_com-product_details__20200101_20200331__30k_data.csv\n"
     ]
    }
   ],
   "source": [
    "for dirname, _, filenames in os.walk('/kaggle/input'):\n",
    "    for filename in filenames:\n",
    "        print(os.path.join(dirname, filename))\n"
   ]
  },
  {
   "cell_type": "markdown",
   "metadata": {
    "papermill": {
     "duration": 0.012624,
     "end_time": "2020-12-21T18:55:21.130166",
     "exception": false,
     "start_time": "2020-12-21T18:55:21.117542",
     "status": "completed"
    },
    "tags": []
   },
   "source": [
    "The next hidden code cells define functions for plotting data. Click on the \"Code\" button in the published kernel to reveal the hidden code."
   ]
  },
  {
   "cell_type": "code",
   "execution_count": 3,
   "metadata": {
    "_kg_hide-input": true,
    "collapsed": true,
    "execution": {
     "iopub.execute_input": "2020-12-21T18:55:21.164593Z",
     "iopub.status.busy": "2020-12-21T18:55:21.163873Z",
     "iopub.status.idle": "2020-12-21T18:55:21.173037Z",
     "shell.execute_reply": "2020-12-21T18:55:21.172479Z"
    },
    "papermill": {
     "duration": 0.030139,
     "end_time": "2020-12-21T18:55:21.173183",
     "exception": false,
     "start_time": "2020-12-21T18:55:21.143044",
     "status": "completed"
    },
    "tags": []
   },
   "outputs": [],
   "source": [
    "# Distribution graphs (histogram/bar graph) of column data\n",
    "def plotPerColumnDistribution(df, nGraphShown, nGraphPerRow):\n",
    "    nunique = df.nunique()\n",
    "    df = df[[col for col in df if nunique[col] > 1 and nunique[col] < 50]] # For displaying purposes, pick columns that have between 1 and 50 unique values\n",
    "    nRow, nCol = df.shape\n",
    "    columnNames = list(df)\n",
    "    nGraphRow = (nCol + nGraphPerRow - 1) / nGraphPerRow\n",
    "    plt.figure(num = None, figsize = (6 * nGraphPerRow, 8 * nGraphRow), dpi = 80, facecolor = 'w', edgecolor = 'k')\n",
    "    for i in range(min(nCol, nGraphShown)):\n",
    "        plt.subplot(nGraphRow, nGraphPerRow, i + 1)\n",
    "        columnDf = df.iloc[:, i]\n",
    "        if (not np.issubdtype(type(columnDf.iloc[0]), np.number)):\n",
    "            valueCounts = columnDf.value_counts()\n",
    "            valueCounts.plot.bar()\n",
    "        else:\n",
    "            columnDf.hist()\n",
    "        plt.ylabel('counts')\n",
    "        plt.xticks(rotation = 90)\n",
    "        plt.title(f'{columnNames[i]} (column {i})')\n",
    "    plt.tight_layout(pad = 1.0, w_pad = 1.0, h_pad = 1.0)\n",
    "    plt.show()\n"
   ]
  },
  {
   "cell_type": "code",
   "execution_count": 4,
   "metadata": {
    "_kg_hide-input": true,
    "collapsed": true,
    "execution": {
     "iopub.execute_input": "2020-12-21T18:55:21.211172Z",
     "iopub.status.busy": "2020-12-21T18:55:21.210300Z",
     "iopub.status.idle": "2020-12-21T18:55:21.213358Z",
     "shell.execute_reply": "2020-12-21T18:55:21.212815Z"
    },
    "papermill": {
     "duration": 0.027233,
     "end_time": "2020-12-21T18:55:21.213466",
     "exception": false,
     "start_time": "2020-12-21T18:55:21.186233",
     "status": "completed"
    },
    "tags": []
   },
   "outputs": [],
   "source": [
    "# Correlation matrix\n",
    "def plotCorrelationMatrix(df, graphWidth):\n",
    "    filename = df.dataframeName\n",
    "    df = df.dropna('columns') # drop columns with NaN\n",
    "    df = df[[col for col in df if df[col].nunique() > 1]] # keep columns where there are more than 1 unique values\n",
    "    if df.shape[1] < 2:\n",
    "        print(f'No correlation plots shown: The number of non-NaN or constant columns ({df.shape[1]}) is less than 2')\n",
    "        return\n",
    "    corr = df.corr()\n",
    "    plt.figure(num=None, figsize=(graphWidth, graphWidth), dpi=80, facecolor='w', edgecolor='k')\n",
    "    corrMat = plt.matshow(corr, fignum = 1)\n",
    "    plt.xticks(range(len(corr.columns)), corr.columns, rotation=90)\n",
    "    plt.yticks(range(len(corr.columns)), corr.columns)\n",
    "    plt.gca().xaxis.tick_bottom()\n",
    "    plt.colorbar(corrMat)\n",
    "    plt.title(f'Correlation Matrix for {filename}', fontsize=15)\n",
    "    plt.show()\n"
   ]
  },
  {
   "cell_type": "code",
   "execution_count": 5,
   "metadata": {
    "_kg_hide-input": true,
    "collapsed": true,
    "execution": {
     "iopub.execute_input": "2020-12-21T18:55:21.252123Z",
     "iopub.status.busy": "2020-12-21T18:55:21.251485Z",
     "iopub.status.idle": "2020-12-21T18:55:21.254678Z",
     "shell.execute_reply": "2020-12-21T18:55:21.254188Z"
    },
    "papermill": {
     "duration": 0.028157,
     "end_time": "2020-12-21T18:55:21.254788",
     "exception": false,
     "start_time": "2020-12-21T18:55:21.226631",
     "status": "completed"
    },
    "tags": []
   },
   "outputs": [],
   "source": [
    "# Scatter and density plots\n",
    "def plotScatterMatrix(df, plotSize, textSize):\n",
    "    df = df.select_dtypes(include =[np.number]) # keep only numerical columns\n",
    "    # Remove rows and columns that would lead to df being singular\n",
    "    df = df.dropna('columns')\n",
    "    df = df[[col for col in df if df[col].nunique() > 1]] # keep columns where there are more than 1 unique values\n",
    "    columnNames = list(df)\n",
    "    if len(columnNames) > 10: # reduce the number of columns for matrix inversion of kernel density plots\n",
    "        columnNames = columnNames[:10]\n",
    "    df = df[columnNames]\n",
    "    ax = pd.plotting.scatter_matrix(df, alpha=0.75, figsize=[plotSize, plotSize], diagonal='kde')\n",
    "    corrs = df.corr().values\n",
    "    for i, j in zip(*plt.np.triu_indices_from(ax, k = 1)):\n",
    "        ax[i, j].annotate('Corr. coef = %.3f' % corrs[i, j], (0.8, 0.2), xycoords='axes fraction', ha='center', va='center', size=textSize)\n",
    "    plt.suptitle('Scatter and Density Plot')\n",
    "    plt.show()\n"
   ]
  },
  {
   "cell_type": "markdown",
   "metadata": {
    "papermill": {
     "duration": 0.013196,
     "end_time": "2020-12-21T18:55:21.281732",
     "exception": false,
     "start_time": "2020-12-21T18:55:21.268536",
     "status": "completed"
    },
    "tags": []
   },
   "source": [
    "Now you're ready to read in the data and use the plotting functions to visualize the data."
   ]
  },
  {
   "cell_type": "markdown",
   "metadata": {
    "papermill": {
     "duration": 0.013274,
     "end_time": "2020-12-21T18:55:21.308693",
     "exception": false,
     "start_time": "2020-12-21T18:55:21.295419",
     "status": "completed"
    },
    "tags": []
   },
   "source": [
    "### Let's check 1st file: /kaggle/input/home_sdf_marketing_sample_for_amazon_com-product_details__20200101_20200331__30k_data.csv"
   ]
  },
  {
   "cell_type": "code",
   "execution_count": 6,
   "metadata": {
    "_kg_hide-input": false,
    "collapsed": false,
    "execution": {
     "iopub.execute_input": "2020-12-21T18:55:21.339498Z",
     "iopub.status.busy": "2020-12-21T18:55:21.338447Z",
     "iopub.status.idle": "2020-12-21T18:55:21.370818Z",
     "shell.execute_reply": "2020-12-21T18:55:21.371389Z"
    },
    "papermill": {
     "duration": 0.049287,
     "end_time": "2020-12-21T18:55:21.371525",
     "exception": false,
     "start_time": "2020-12-21T18:55:21.322238",
     "status": "completed"
    },
    "tags": []
   },
   "outputs": [
    {
     "name": "stdout",
     "output_type": "stream",
     "text": [
      "There are 1000 rows and 6 columns\n"
     ]
    }
   ],
   "source": [
    "nRowsRead = 1000 # specify 'None' if want to read whole file\n",
    "# home_sdf_marketing_sample_for_amazon_com-product_details__20200101_20200331__30k_data.csv may have more rows in reality, but we are only loading/previewing the first 1000 rows\n",
    "df1 = pd.read_csv('/kaggle/input/home_sdf_marketing_sample_for_amazon_com-product_details__20200101_20200331__30k_data.csv', delimiter=',', nrows = nRowsRead)\n",
    "df1.dataframeName = 'home_sdf_marketing_sample_for_amazon_com-product_details__20200101_20200331__30k_data.csv'\n",
    "nRow, nCol = df1.shape\n",
    "print(f'There are {nRow} rows and {nCol} columns')"
   ]
  },
  {
   "cell_type": "markdown",
   "metadata": {
    "papermill": {
     "duration": 0.01331,
     "end_time": "2020-12-21T18:55:21.398572",
     "exception": false,
     "start_time": "2020-12-21T18:55:21.385262",
     "status": "completed"
    },
    "tags": []
   },
   "source": [
    "Let's take a quick look at what the data looks like:"
   ]
  },
  {
   "cell_type": "code",
   "execution_count": 7,
   "metadata": {
    "_kg_hide-input": false,
    "collapsed": false,
    "execution": {
     "iopub.execute_input": "2020-12-21T18:55:21.429924Z",
     "iopub.status.busy": "2020-12-21T18:55:21.428947Z",
     "iopub.status.idle": "2020-12-21T18:55:21.448955Z",
     "shell.execute_reply": "2020-12-21T18:55:21.449481Z"
    },
    "papermill": {
     "duration": 0.037205,
     "end_time": "2020-12-21T18:55:21.449620",
     "exception": false,
     "start_time": "2020-12-21T18:55:21.412415",
     "status": "completed"
    },
    "tags": []
   },
   "outputs": [
    {
     "data": {
      "text/html": [
       "<div>\n",
       "<style scoped>\n",
       "    .dataframe tbody tr th:only-of-type {\n",
       "        vertical-align: middle;\n",
       "    }\n",
       "\n",
       "    .dataframe tbody tr th {\n",
       "        vertical-align: top;\n",
       "    }\n",
       "\n",
       "    .dataframe thead th {\n",
       "        text-align: right;\n",
       "    }\n",
       "</style>\n",
       "<table border=\"1\" class=\"dataframe\">\n",
       "  <thead>\n",
       "    <tr style=\"text-align: right;\">\n",
       "      <th></th>\n",
       "      <th>Uniq Id</th>\n",
       "      <th>Crawl Timestamp</th>\n",
       "      <th>Pageurl</th>\n",
       "      <th>Ean</th>\n",
       "      <th>Lowest Price</th>\n",
       "      <th>Date Time Of Crawl Completion</th>\n",
       "    </tr>\n",
       "  </thead>\n",
       "  <tbody>\n",
       "    <tr>\n",
       "      <th>0</th>\n",
       "      <td>1f51b463efeeec29811233340ca3de27</td>\n",
       "      <td>2020-03-05 17:45:30 +0000</td>\n",
       "      <td>https://www.amazon.com/gp/offer-listing/080213...</td>\n",
       "      <td>9780471148562</td>\n",
       "      <td>1.95</td>\n",
       "      <td>2020-03-05 17:45:30 +0000</td>\n",
       "    </tr>\n",
       "    <tr>\n",
       "      <th>1</th>\n",
       "      <td>b53dfbfbc4dcf00194c4802fbee92770</td>\n",
       "      <td>2020-03-05 18:41:42 +0000</td>\n",
       "      <td>https://www.amazon.com/gp/offer-listing/145555...</td>\n",
       "      <td>9780742564114</td>\n",
       "      <td>7.81</td>\n",
       "      <td>2020-03-05 18:41:42 +0000</td>\n",
       "    </tr>\n",
       "    <tr>\n",
       "      <th>2</th>\n",
       "      <td>2a356475af8893e2d875953a4f2e443e</td>\n",
       "      <td>2020-02-25 00:27:44 +0000</td>\n",
       "      <td>https://www.amazon.com/gp/offer-listing/080241...</td>\n",
       "      <td>9780802411983</td>\n",
       "      <td>26.22</td>\n",
       "      <td>2020-02-25 00:27:44 +0000</td>\n",
       "    </tr>\n",
       "    <tr>\n",
       "      <th>3</th>\n",
       "      <td>9e928d20e25643e8881f80c20438de1b</td>\n",
       "      <td>2020-02-24 20:24:45 +0000</td>\n",
       "      <td>https://www.amazon.com/gp/offer-listing/039331...</td>\n",
       "      <td>9780393312836</td>\n",
       "      <td>6.39</td>\n",
       "      <td>2020-02-24 20:24:45 +0000</td>\n",
       "    </tr>\n",
       "    <tr>\n",
       "      <th>4</th>\n",
       "      <td>9793786ca66d79d182f3ea3a18cf8b42</td>\n",
       "      <td>2020-03-05 14:32:27 +0000</td>\n",
       "      <td>https://www.amazon.com/gp/offer-listing/B000HT...</td>\n",
       "      <td>9780140277722</td>\n",
       "      <td>4.00</td>\n",
       "      <td>2020-03-05 14:32:27 +0000</td>\n",
       "    </tr>\n",
       "  </tbody>\n",
       "</table>\n",
       "</div>"
      ],
      "text/plain": [
       "                            Uniq Id            Crawl Timestamp  \\\n",
       "0  1f51b463efeeec29811233340ca3de27  2020-03-05 17:45:30 +0000   \n",
       "1  b53dfbfbc4dcf00194c4802fbee92770  2020-03-05 18:41:42 +0000   \n",
       "2  2a356475af8893e2d875953a4f2e443e  2020-02-25 00:27:44 +0000   \n",
       "3  9e928d20e25643e8881f80c20438de1b  2020-02-24 20:24:45 +0000   \n",
       "4  9793786ca66d79d182f3ea3a18cf8b42  2020-03-05 14:32:27 +0000   \n",
       "\n",
       "                                             Pageurl            Ean  \\\n",
       "0  https://www.amazon.com/gp/offer-listing/080213...  9780471148562   \n",
       "1  https://www.amazon.com/gp/offer-listing/145555...  9780742564114   \n",
       "2  https://www.amazon.com/gp/offer-listing/080241...  9780802411983   \n",
       "3  https://www.amazon.com/gp/offer-listing/039331...  9780393312836   \n",
       "4  https://www.amazon.com/gp/offer-listing/B000HT...  9780140277722   \n",
       "\n",
       "   Lowest Price Date Time Of Crawl Completion  \n",
       "0          1.95     2020-03-05 17:45:30 +0000  \n",
       "1          7.81     2020-03-05 18:41:42 +0000  \n",
       "2         26.22     2020-02-25 00:27:44 +0000  \n",
       "3          6.39     2020-02-24 20:24:45 +0000  \n",
       "4          4.00     2020-03-05 14:32:27 +0000  "
      ]
     },
     "execution_count": 7,
     "metadata": {},
     "output_type": "execute_result"
    }
   ],
   "source": [
    "df1.head(5)"
   ]
  },
  {
   "cell_type": "markdown",
   "metadata": {
    "papermill": {
     "duration": 0.013968,
     "end_time": "2020-12-21T18:55:21.478054",
     "exception": false,
     "start_time": "2020-12-21T18:55:21.464086",
     "status": "completed"
    },
    "tags": []
   },
   "source": [
    "Distribution graphs (histogram/bar graph) of sampled columns:"
   ]
  },
  {
   "cell_type": "code",
   "execution_count": 8,
   "metadata": {
    "_kg_hide-input": false,
    "collapsed": false,
    "execution": {
     "iopub.execute_input": "2020-12-21T18:55:21.511036Z",
     "iopub.status.busy": "2020-12-21T18:55:21.510056Z",
     "iopub.status.idle": "2020-12-21T18:55:21.567696Z",
     "shell.execute_reply": "2020-12-21T18:55:21.568260Z"
    },
    "papermill": {
     "duration": 0.075623,
     "end_time": "2020-12-21T18:55:21.568402",
     "exception": false,
     "start_time": "2020-12-21T18:55:21.492779",
     "status": "completed"
    },
    "tags": []
   },
   "outputs": [
    {
     "data": {
      "text/plain": [
       "<Figure size 2400x512 with 0 Axes>"
      ]
     },
     "metadata": {},
     "output_type": "display_data"
    }
   ],
   "source": [
    "plotPerColumnDistribution(df1, 10, 5)"
   ]
  },
  {
   "cell_type": "markdown",
   "metadata": {
    "papermill": {
     "duration": 0.015222,
     "end_time": "2020-12-21T18:55:21.598668",
     "exception": false,
     "start_time": "2020-12-21T18:55:21.583446",
     "status": "completed"
    },
    "tags": []
   },
   "source": [
    "Correlation matrix:"
   ]
  },
  {
   "cell_type": "code",
   "execution_count": 9,
   "metadata": {
    "_kg_hide-input": false,
    "collapsed": false,
    "execution": {
     "iopub.execute_input": "2020-12-21T18:55:21.632403Z",
     "iopub.status.busy": "2020-12-21T18:55:21.631450Z",
     "iopub.status.idle": "2020-12-21T18:55:21.884774Z",
     "shell.execute_reply": "2020-12-21T18:55:21.884250Z"
    },
    "papermill": {
     "duration": 0.271178,
     "end_time": "2020-12-21T18:55:21.884890",
     "exception": false,
     "start_time": "2020-12-21T18:55:21.613712",
     "status": "completed"
    },
    "tags": []
   },
   "outputs": [
    {
     "data": {
      "image/png": "[encoded data removed]",
      "text/plain": [
       "<Figure size 640x640 with 2 Axes>"
      ]
     },
     "metadata": {},
     "output_type": "display_data"
    }
   ],
   "source": [
    "plotCorrelationMatrix(df1, 8)"
   ]
  },
  {
   "cell_type": "markdown",
   "metadata": {
    "papermill": {
     "duration": 0.015841,
     "end_time": "2020-12-21T18:55:21.917194",
     "exception": false,
     "start_time": "2020-12-21T18:55:21.901353",
     "status": "completed"
    },
    "tags": []
   },
   "source": [
    "Scatter and density plots:"
   ]
  },
  {
   "cell_type": "code",
   "execution_count": 10,
   "metadata": {
    "_kg_hide-input": false,
    "collapsed": false,
    "execution": {
     "iopub.execute_input": "2020-12-21T18:55:21.958520Z",
     "iopub.status.busy": "2020-12-21T18:55:21.957489Z",
     "iopub.status.idle": "2020-12-21T18:55:22.547959Z",
     "shell.execute_reply": "2020-12-21T18:55:22.547062Z"
    },
    "papermill": {
     "duration": 0.614877,
     "end_time": "2020-12-21T18:55:22.548097",
     "exception": false,
     "start_time": "2020-12-21T18:55:21.933220",
     "status": "completed"
    },
    "tags": []
   },
   "outputs": [
    {
     "data": {
      "image/png": "[encoded data removed]",
      "text/plain": [
       "<Figure size 432x432 with 4 Axes>"
      ]
     },
     "metadata": {
      "needs_background": "light"
     },
     "output_type": "display_data"
    }
   ],
   "source": [
    "plotScatterMatrix(df1, 6, 15)"
   ]
  },
  {
   "cell_type": "markdown",
   "metadata": {
    "papermill": {
     "duration": 0.017438,
     "end_time": "2020-12-21T18:55:22.584021",
     "exception": false,
     "start_time": "2020-12-21T18:55:22.566583",
     "status": "completed"
    },
    "tags": []
   },
   "source": [
    "## Conclusion\n",
    "This concludes your starter analysis! To go forward from here, click the blue \"Fork Notebook\" button at the top of this kernel. This will create a copy of the code and environment for you to edit. Delete, modify, and add code as you please. Happy Kaggling!"
   ]
  }
 ],
 "metadata": {
  "kernelspec": {
   "display_name": "Python 3",
   "language": "python",
   "name": "python3"
  },
  "language_info": {
   "codemirror_mode": {
    "name": "ipython",
    "version": 3
   },
   "file_extension": ".py",
   "mimetype": "text/x-python",
   "name": "python",
   "nbconvert_exporter": "python",
   "pygments_lexer": "ipython3",
   "version": "3.7.6"
  },
  "papermill": {
   "duration": 6.965283,
   "end_time": "2020-12-21T18:55:22.710853",
   "environment_variables": {},
   "exception": null,
   "input_path": "__notebook__.ipynb",
   "output_path": "__notebook__.ipynb",
   "parameters": {},
   "start_time": "2020-12-21T18:55:15.745570",
   "version": "2.1.0"
  }
 },
 "nbformat": 4,
 "nbformat_minor": 4
}
