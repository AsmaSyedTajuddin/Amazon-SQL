{
 "cells": [
  {
   "cell_type": "code",
   "execution_count": 1,
   "id": "53876338",
   "metadata": {
    "execution": {
     "iopub.execute_input": "2021-08-14T13:07:16.964277Z",
     "iopub.status.busy": "2021-08-14T13:07:16.963652Z",
     "iopub.status.idle": "2021-08-14T13:07:19.411998Z",
     "shell.execute_reply": "2021-08-14T13:07:19.411292Z",
     "shell.execute_reply.started": "2021-08-14T13:03:41.804525Z"
    },
    "papermill": {
     "duration": 2.477014,
     "end_time": "2021-08-14T13:07:19.412174",
     "exception": false,
     "start_time": "2021-08-14T13:07:16.935160",
     "status": "completed"
    },
    "tags": []
   },
   "outputs": [],
   "source": [
    "import pandas as pd\r\n",
    "import plotly.express as px\r\n",
    "import seaborn as sns\r\n",
    "import sqlite3"
   ]
  },
  {
   "cell_type": "markdown",
   "id": "47a3cc83",
   "metadata": {
    "papermill": {
     "duration": 0.014353,
     "end_time": "2021-08-14T13:07:19.444423",
     "exception": false,
     "start_time": "2021-08-14T13:07:19.430070",
     "status": "completed"
    },
    "tags": []
   },
   "source": [
    "## Database connection"
   ]
  },
  {
   "cell_type": "code",
   "execution_count": 2,
   "id": "9c29bef5",
   "metadata": {
    "execution": {
     "iopub.execute_input": "2021-08-14T13:07:19.481500Z",
     "iopub.status.busy": "2021-08-14T13:07:19.480580Z",
     "iopub.status.idle": "2021-08-14T13:07:19.501713Z",
     "shell.execute_reply": "2021-08-14T13:07:19.502192Z",
     "shell.execute_reply.started": "2021-08-14T13:03:44.562646Z"
    },
    "papermill": {
     "duration": 0.042578,
     "end_time": "2021-08-14T13:07:19.502370",
     "exception": false,
     "start_time": "2021-08-14T13:07:19.459792",
     "status": "completed"
    },
    "tags": []
   },
   "outputs": [
    {
     "data": {
      "text/plain": [
       "<sqlite3.Cursor at 0x7fa5c62b26c0>"
      ]
     },
     "execution_count": 2,
     "metadata": {},
     "output_type": "execute_result"
    }
   ],
   "source": [
    "con = sqlite3.connect(r'../input/amazon-customers-data/database.sqlite')\r\n",
    "cur = con.cursor()\r\n",
    "\r\n",
    "cur.execute('''\r\n",
    "            SELECT *\r\n",
    "            FROM Reviews\r\n",
    "            LIMIT 1000; ''')"
   ]
  },
  {
   "cell_type": "markdown",
   "id": "b945f04d",
   "metadata": {
    "papermill": {
     "duration": 0.015942,
     "end_time": "2021-08-14T13:07:19.534374",
     "exception": false,
     "start_time": "2021-08-14T13:07:19.518432",
     "status": "completed"
    },
    "tags": []
   },
   "source": [
    "## Create a dataframe"
   ]
  },
  {
   "cell_type": "code",
   "execution_count": 3,
   "id": "a71ca654",
   "metadata": {
    "execution": {
     "iopub.execute_input": "2021-08-14T13:07:19.569185Z",
     "iopub.status.busy": "2021-08-14T13:07:19.568489Z",
     "iopub.status.idle": "2021-08-14T13:07:19.596560Z",
     "shell.execute_reply": "2021-08-14T13:07:19.596020Z",
     "shell.execute_reply.started": "2021-08-14T13:03:44.598147Z"
    },
    "papermill": {
     "duration": 0.046761,
     "end_time": "2021-08-14T13:07:19.596705",
     "exception": false,
     "start_time": "2021-08-14T13:07:19.549944",
     "status": "completed"
    },
    "tags": []
   },
   "outputs": [],
   "source": [
    "colunas = [i[0] for i in cur.description]\r\n",
    "df = pd.DataFrame(cur.fetchall(), columns=colunas)"
   ]
  },
  {
   "cell_type": "code",
   "execution_count": 4,
   "id": "b5c6c579",
   "metadata": {
    "execution": {
     "iopub.execute_input": "2021-08-14T13:07:19.637414Z",
     "iopub.status.busy": "2021-08-14T13:07:19.636431Z",
     "iopub.status.idle": "2021-08-14T13:07:19.657736Z",
     "shell.execute_reply": "2021-08-14T13:07:19.657235Z",
     "shell.execute_reply.started": "2021-08-14T13:03:44.633996Z"
    },
    "papermill": {
     "duration": 0.045909,
     "end_time": "2021-08-14T13:07:19.657874",
     "exception": false,
     "start_time": "2021-08-14T13:07:19.611965",
     "status": "completed"
    },
    "tags": []
   },
   "outputs": [
    {
     "name": "stdout",
     "output_type": "stream",
     "text": [
      "(1000, 10)\n"
     ]
    },
    {
     "data": {
      "text/html": [
       "<div>\n",
       "<style scoped>\n",
       "    .dataframe tbody tr th:only-of-type {\n",
       "        vertical-align: middle;\n",
       "    }\n",
       "\n",
       "    .dataframe tbody tr th {\n",
       "        vertical-align: top;\n",
       "    }\n",
       "\n",
       "    .dataframe thead th {\n",
       "        text-align: right;\n",
       "    }\n",
       "</style>\n",
       "<table border=\"1\" class=\"dataframe\">\n",
       "  <thead>\n",
       "    <tr style=\"text-align: right;\">\n",
       "      <th></th>\n",
       "      <th>Id</th>\n",
       "      <th>ProductId</th>\n",
       "      <th>UserId</th>\n",
       "      <th>ProfileName</th>\n",
       "      <th>HelpfulnessNumerator</th>\n",
       "      <th>HelpfulnessDenominator</th>\n",
       "      <th>Score</th>\n",
       "      <th>Time</th>\n",
       "      <th>Summary</th>\n",
       "      <th>Text</th>\n",
       "    </tr>\n",
       "  </thead>\n",
       "  <tbody>\n",
       "    <tr>\n",
       "      <th>0</th>\n",
       "      <td>1</td>\n",
       "      <td>B001E4KFG0</td>\n",
       "      <td>A3SGXH7AUHU8GW</td>\n",
       "      <td>delmartian</td>\n",
       "      <td>1</td>\n",
       "      <td>1</td>\n",
       "      <td>5</td>\n",
       "      <td>1303862400</td>\n",
       "      <td>Good Quality Dog Food</td>\n",
       "      <td>I have bought several of the Vitality canned d...</td>\n",
       "    </tr>\n",
       "    <tr>\n",
       "      <th>1</th>\n",
       "      <td>2</td>\n",
       "      <td>B00813GRG4</td>\n",
       "      <td>A1D87F6ZCVE5NK</td>\n",
       "      <td>dll pa</td>\n",
       "      <td>0</td>\n",
       "      <td>0</td>\n",
       "      <td>1</td>\n",
       "      <td>1346976000</td>\n",
       "      <td>Not as Advertised</td>\n",
       "      <td>Product arrived labeled as Jumbo Salted Peanut...</td>\n",
       "    </tr>\n",
       "    <tr>\n",
       "      <th>2</th>\n",
       "      <td>3</td>\n",
       "      <td>B000LQOCH0</td>\n",
       "      <td>ABXLMWJIXXAIN</td>\n",
       "      <td>Natalia Corres \"Natalia Corres\"</td>\n",
       "      <td>1</td>\n",
       "      <td>1</td>\n",
       "      <td>4</td>\n",
       "      <td>1219017600</td>\n",
       "      <td>\"Delight\" says it all</td>\n",
       "      <td>This is a confection that has been around a fe...</td>\n",
       "    </tr>\n",
       "    <tr>\n",
       "      <th>3</th>\n",
       "      <td>4</td>\n",
       "      <td>B000UA0QIQ</td>\n",
       "      <td>A395BORC6FGVXV</td>\n",
       "      <td>Karl</td>\n",
       "      <td>3</td>\n",
       "      <td>3</td>\n",
       "      <td>2</td>\n",
       "      <td>1307923200</td>\n",
       "      <td>Cough Medicine</td>\n",
       "      <td>If you are looking for the secret ingredient i...</td>\n",
       "    </tr>\n",
       "    <tr>\n",
       "      <th>4</th>\n",
       "      <td>5</td>\n",
       "      <td>B006K2ZZ7K</td>\n",
       "      <td>A1UQRSCLF8GW1T</td>\n",
       "      <td>Michael D. Bigham \"M. Wassir\"</td>\n",
       "      <td>0</td>\n",
       "      <td>0</td>\n",
       "      <td>5</td>\n",
       "      <td>1350777600</td>\n",
       "      <td>Great taffy</td>\n",
       "      <td>Great taffy at a great price.  There was a wid...</td>\n",
       "    </tr>\n",
       "  </tbody>\n",
       "</table>\n",
       "</div>"
      ],
      "text/plain": [
       "   Id   ProductId          UserId                      ProfileName  \\\n",
       "0   1  B001E4KFG0  A3SGXH7AUHU8GW                       delmartian   \n",
       "1   2  B00813GRG4  A1D87F6ZCVE5NK                           dll pa   \n",
       "2   3  B000LQOCH0   ABXLMWJIXXAIN  Natalia Corres \"Natalia Corres\"   \n",
       "3   4  B000UA0QIQ  A395BORC6FGVXV                             Karl   \n",
       "4   5  B006K2ZZ7K  A1UQRSCLF8GW1T    Michael D. Bigham \"M. Wassir\"   \n",
       "\n",
       "   HelpfulnessNumerator  HelpfulnessDenominator  Score        Time  \\\n",
       "0                     1                       1      5  1303862400   \n",
       "1                     0                       0      1  1346976000   \n",
       "2                     1                       1      4  1219017600   \n",
       "3                     3                       3      2  1307923200   \n",
       "4                     0                       0      5  1350777600   \n",
       "\n",
       "                 Summary                                               Text  \n",
       "0  Good Quality Dog Food  I have bought several of the Vitality canned d...  \n",
       "1      Not as Advertised  Product arrived labeled as Jumbo Salted Peanut...  \n",
       "2  \"Delight\" says it all  This is a confection that has been around a fe...  \n",
       "3         Cough Medicine  If you are looking for the secret ingredient i...  \n",
       "4            Great taffy  Great taffy at a great price.  There was a wid...  "
      ]
     },
     "execution_count": 4,
     "metadata": {},
     "output_type": "execute_result"
    }
   ],
   "source": [
    "print(df.shape)\r\n",
    "df.head(5)"
   ]
  },
  {
   "cell_type": "markdown",
   "id": "d0a20d0d",
   "metadata": {
    "papermill": {
     "duration": 0.015388,
     "end_time": "2021-08-14T13:07:19.689040",
     "exception": false,
     "start_time": "2021-08-14T13:07:19.673652",
     "status": "completed"
    },
    "tags": []
   },
   "source": [
    "## Exploratory Analysis"
   ]
  },
  {
   "cell_type": "code",
   "execution_count": 5,
   "id": "3be2db70",
   "metadata": {
    "execution": {
     "iopub.execute_input": "2021-08-14T13:07:19.727312Z",
     "iopub.status.busy": "2021-08-14T13:07:19.726506Z",
     "iopub.status.idle": "2021-08-14T13:07:20.918415Z",
     "shell.execute_reply": "2021-08-14T13:07:20.917770Z",
     "shell.execute_reply.started": "2021-08-14T13:03:44.664182Z"
    },
    "papermill": {
     "duration": 1.213777,
     "end_time": "2021-08-14T13:07:20.918552",
     "exception": false,
     "start_time": "2021-08-14T13:07:19.704775",
     "status": "completed"
    },
    "tags": []
   },
   "outputs": [
    {
     "data": {
      "text/html": [
       "        <script type=\"text/javascript\">\n",
       "        window.PlotlyConfig = {MathJaxConfig: 'local'};\n",
       "        if (window.MathJax) {MathJax.Hub.Config({SVG: {font: \"STIX-Web\"}});}\n",
       "        if (typeof require !== 'undefined') {\n",
       "        require.undef(\"plotly\");\n",
       "        requirejs.config({\n",
       "            paths: {\n",
       "                'plotly': ['https://cdn.plot.ly/plotly-2.2.0.min']\n",
       "            }\n",
       "        });\n",
       "        require(['plotly'], function(Plotly) {\n",
       "            window._Plotly = Plotly;\n",
       "        });\n",
       "        }\n",
       "        </script>\n",
       "        "
      ]
     },
     "metadata": {},
     "output_type": "display_data"
    },
    {
     "data": {
      "text/html": [
       "<div>                            <div id=\"eccc7c31-842b-4bac-a9fc-a493397b7fb9\" class=\"plotly-graph-div\" style=\"height:525px; width:100%;\"></div>            <script type=\"text/javascript\">                require([\"plotly\"], function(Plotly) {                    window.PLOTLYENV=window.PLOTLYENV || {};                                    if (document.getElementById(\"eccc7c31-842b-4bac-a9fc-a493397b7fb9\")) {                    Plotly.newPlot(                        \"eccc7c31-842b-4bac-a9fc-a493397b7fb9\",                        [{\"alignmentgroup\":\"True\",\"bingroup\":\"x\",\"hovertemplate\":\"variable=Score<br>value=%{x}<br>count=%{y}<extra></extra>\",\"legendgroup\":\"Score\",\"marker\":{\"color\":\"#636efa\",\"pattern\":{\"shape\":\"\"}},\"name\":\"Score\",\"offsetgroup\":\"Score\",\"orientation\":\"v\",\"showlegend\":true,\"type\":\"histogram\",\"x\":[5,1,4,2,5,4,5,5,5,5,5,5,1,4,5,5,2,5,5,5,5,5,5,5,5,5,1,4,5,5,5,5,4,4,5,4,5,5,4,5,5,5,5,5,5,3,5,3,4,3,1,5,4,3,4,5,5,5,5,5,3,5,1,5,5,5,5,2,3,5,5,5,5,1,2,1,5,5,3,5,5,4,5,3,3,5,5,5,5,5,5,5,5,5,5,5,5,5,5,1,5,4,4,5,5,5,3,5,5,5,2,5,5,5,5,5,5,5,5,5,5,5,5,5,5,5,5,4,5,3,5,2,5,5,5,4,5,5,5,5,4,4,5,5,3,5,2,5,3,5,5,5,4,1,5,5,5,5,5,5,5,3,4,5,1,5,5,1,1,3,5,5,5,5,4,5,5,5,4,4,4,5,3,5,5,5,5,5,4,3,5,5,5,5,4,5,5,3,5,5,2,5,5,4,5,5,5,5,1,5,5,5,2,1,4,5,1,3,5,5,5,5,5,5,2,4,5,5,5,1,5,5,5,1,5,2,5,4,5,5,5,5,5,4,4,2,5,5,5,5,5,3,1,4,1,2,5,1,2,5,5,5,5,3,5,5,5,1,4,4,4,5,3,5,5,4,5,5,5,5,5,5,1,5,5,3,3,5,5,5,3,5,5,5,3,5,4,5,5,5,5,5,5,5,5,1,4,5,5,5,5,1,1,5,5,5,5,5,5,5,5,5,3,3,1,5,5,4,5,5,5,1,5,5,1,1,5,5,5,5,4,5,3,5,3,3,4,5,5,5,5,5,5,5,5,5,5,4,4,5,5,1,5,5,5,5,5,5,4,5,4,5,4,5,5,5,5,5,5,5,3,1,5,5,5,5,4,5,5,4,2,5,5,1,5,5,5,5,5,4,3,1,1,1,5,5,5,5,5,5,5,5,5,5,5,5,5,1,5,4,5,5,4,5,5,4,4,5,5,5,5,5,4,5,4,5,5,5,5,4,3,5,4,5,5,3,4,5,5,5,5,3,5,5,5,5,5,5,5,5,4,4,5,5,5,5,5,5,5,5,4,4,4,4,5,5,5,5,4,5,5,5,5,2,5,4,4,2,3,5,2,5,5,5,5,5,5,4,4,5,5,2,5,4,5,5,5,2,1,1,5,4,3,5,5,5,1,4,3,2,5,3,5,5,5,5,5,5,1,5,5,5,4,3,3,2,5,1,1,5,3,1,4,1,1,1,2,1,4,3,1,1,2,2,1,1,1,1,1,5,1,1,1,5,5,5,1,5,1,5,5,5,5,5,5,5,1,5,5,5,4,5,1,5,5,4,5,5,5,5,5,4,5,2,3,5,5,5,5,5,5,5,5,5,5,5,5,4,5,5,5,4,5,5,5,4,5,5,3,5,2,1,5,1,4,5,4,5,3,5,4,5,3,5,3,3,4,4,5,5,5,5,5,5,5,5,5,5,5,4,5,5,5,5,4,5,5,5,5,4,5,5,5,4,5,5,5,5,5,5,5,5,1,5,5,5,5,4,4,5,5,5,4,4,5,5,5,5,5,5,1,5,5,5,4,5,4,5,5,5,5,5,5,5,5,5,5,5,5,5,5,5,5,5,5,2,1,3,5,4,5,5,5,2,5,2,5,4,5,4,5,5,3,5,1,1,2,1,1,1,1,1,5,4,5,5,1,3,5,5,2,4,5,5,5,5,5,5,5,4,5,1,5,5,5,4,3,5,5,1,4,5,4,5,1,5,3,5,5,5,1,3,4,4,2,1,5,4,2,2,1,1,4,5,5,5,5,5,3,5,5,3,5,3,3,5,5,5,5,5,5,5,4,2,3,5,5,5,5,5,5,5,5,4,5,5,5,5,5,5,5,1,1,5,5,5,3,5,4,5,5,5,3,5,5,5,1,4,5,5,3,5,5,5,5,2,4,5,5,5,3,5,5,5,4,5,5,2,5,5,5,2,1,5,2,1,5,4,2,1,4,4,5,4,5,4,3,5,5,4,5,1,5,5,5,4,2,4,5,3,4,3,4,3,5,5,1,4,5,5,3,5,4,5,1,3,4,5,5,5,1,5,3,3,5,1,5,4,5,4,5,5,3,5,5,5,5,5,5,5,1,2,5,1,5,5,4,1,4,5,4,5,5,5,4,4,5,5,5,1,5,2,2,2,5,3,5,1,5,5,5,5,5,5,4,5,4,5,5,5,5,5,5,5,5,5,5,5,5,5,5,5,5,5,5,5,5,5,1,2],\"xaxis\":\"x\",\"yaxis\":\"y\"}],                        {\"barmode\":\"relative\",\"legend\":{\"title\":{\"text\":\"variable\"},\"tracegroupgap\":0},\"template\":{\"data\":{\"bar\":[{\"error_x\":{\"color\":\"#2a3f5f\"},\"error_y\":{\"color\":\"#2a3f5f\"},\"marker\":{\"line\":{\"color\":\"#E5ECF6\",\"width\":0.5},\"pattern\":{\"fillmode\":\"overlay\",\"size\":10,\"solidity\":0.2}},\"type\":\"bar\"}],\"barpolar\":[{\"marker\":{\"line\":{\"color\":\"#E5ECF6\",\"width\":0.5},\"pattern\":{\"fillmode\":\"overlay\",\"size\":10,\"solidity\":0.2}},\"type\":\"barpolar\"}],\"carpet\":[{\"aaxis\":{\"endlinecolor\":\"#2a3f5f\",\"gridcolor\":\"white\",\"linecolor\":\"white\",\"minorgridcolor\":\"white\",\"startlinecolor\":\"#2a3f5f\"},\"baxis\":{\"endlinecolor\":\"#2a3f5f\",\"gridcolor\":\"white\",\"linecolor\":\"white\",\"minorgridcolor\":\"white\",\"startlinecolor\":\"#2a3f5f\"},\"type\":\"carpet\"}],\"choropleth\":[{\"colorbar\":{\"outlinewidth\":0,\"ticks\":\"\"},\"type\":\"choropleth\"}],\"contour\":[{\"colorbar\":{\"outlinewidth\":0,\"ticks\":\"\"},\"colorscale\":[[0.0,\"#0d0887\"],[0.1111111111111111,\"#46039f\"],[0.2222222222222222,\"#7201a8\"],[0.3333333333333333,\"#9c179e\"],[0.4444444444444444,\"#bd3786\"],[0.5555555555555556,\"#d8576b\"],[0.6666666666666666,\"#ed7953\"],[0.7777777777777778,\"#fb9f3a\"],[0.8888888888888888,\"#fdca26\"],[1.0,\"#f0f921\"]],\"type\":\"contour\"}],\"contourcarpet\":[{\"colorbar\":{\"outlinewidth\":0,\"ticks\":\"\"},\"type\":\"contourcarpet\"}],\"heatmap\":[{\"colorbar\":{\"outlinewidth\":0,\"ticks\":\"\"},\"colorscale\":[[0.0,\"#0d0887\"],[0.1111111111111111,\"#46039f\"],[0.2222222222222222,\"#7201a8\"],[0.3333333333333333,\"#9c179e\"],[0.4444444444444444,\"#bd3786\"],[0.5555555555555556,\"#d8576b\"],[0.6666666666666666,\"#ed7953\"],[0.7777777777777778,\"#fb9f3a\"],[0.8888888888888888,\"#fdca26\"],[1.0,\"#f0f921\"]],\"type\":\"heatmap\"}],\"heatmapgl\":[{\"colorbar\":{\"outlinewidth\":0,\"ticks\":\"\"},\"colorscale\":[[0.0,\"#0d0887\"],[0.1111111111111111,\"#46039f\"],[0.2222222222222222,\"#7201a8\"],[0.3333333333333333,\"#9c179e\"],[0.4444444444444444,\"#bd3786\"],[0.5555555555555556,\"#d8576b\"],[0.6666666666666666,\"#ed7953\"],[0.7777777777777778,\"#fb9f3a\"],[0.8888888888888888,\"#fdca26\"],[1.0,\"#f0f921\"]],\"type\":\"heatmapgl\"}],\"histogram\":[{\"marker\":{\"pattern\":{\"fillmode\":\"overlay\",\"size\":10,\"solidity\":0.2}},\"type\":\"histogram\"}],\"histogram2d\":[{\"colorbar\":{\"outlinewidth\":0,\"ticks\":\"\"},\"colorscale\":[[0.0,\"#0d0887\"],[0.1111111111111111,\"#46039f\"],[0.2222222222222222,\"#7201a8\"],[0.3333333333333333,\"#9c179e\"],[0.4444444444444444,\"#bd3786\"],[0.5555555555555556,\"#d8576b\"],[0.6666666666666666,\"#ed7953\"],[0.7777777777777778,\"#fb9f3a\"],[0.8888888888888888,\"#fdca26\"],[1.0,\"#f0f921\"]],\"type\":\"histogram2d\"}],\"histogram2dcontour\":[{\"colorbar\":{\"outlinewidth\":0,\"ticks\":\"\"},\"colorscale\":[[0.0,\"#0d0887\"],[0.1111111111111111,\"#46039f\"],[0.2222222222222222,\"#7201a8\"],[0.3333333333333333,\"#9c179e\"],[0.4444444444444444,\"#bd3786\"],[0.5555555555555556,\"#d8576b\"],[0.6666666666666666,\"#ed7953\"],[0.7777777777777778,\"#fb9f3a\"],[0.8888888888888888,\"#fdca26\"],[1.0,\"#f0f921\"]],\"type\":\"histogram2dcontour\"}],\"mesh3d\":[{\"colorbar\":{\"outlinewidth\":0,\"ticks\":\"\"},\"type\":\"mesh3d\"}],\"parcoords\":[{\"line\":{\"colorbar\":{\"outlinewidth\":0,\"ticks\":\"\"}},\"type\":\"parcoords\"}],\"pie\":[{\"automargin\":true,\"type\":\"pie\"}],\"scatter\":[{\"marker\":{\"colorbar\":{\"outlinewidth\":0,\"ticks\":\"\"}},\"type\":\"scatter\"}],\"scatter3d\":[{\"line\":{\"colorbar\":{\"outlinewidth\":0,\"ticks\":\"\"}},\"marker\":{\"colorbar\":{\"outlinewidth\":0,\"ticks\":\"\"}},\"type\":\"scatter3d\"}],\"scattercarpet\":[{\"marker\":{\"colorbar\":{\"outlinewidth\":0,\"ticks\":\"\"}},\"type\":\"scattercarpet\"}],\"scattergeo\":[{\"marker\":{\"colorbar\":{\"outlinewidth\":0,\"ticks\":\"\"}},\"type\":\"scattergeo\"}],\"scattergl\":[{\"marker\":{\"colorbar\":{\"outlinewidth\":0,\"ticks\":\"\"}},\"type\":\"scattergl\"}],\"scattermapbox\":[{\"marker\":{\"colorbar\":{\"outlinewidth\":0,\"ticks\":\"\"}},\"type\":\"scattermapbox\"}],\"scatterpolar\":[{\"marker\":{\"colorbar\":{\"outlinewidth\":0,\"ticks\":\"\"}},\"type\":\"scatterpolar\"}],\"scatterpolargl\":[{\"marker\":{\"colorbar\":{\"outlinewidth\":0,\"ticks\":\"\"}},\"type\":\"scatterpolargl\"}],\"scatterternary\":[{\"marker\":{\"colorbar\":{\"outlinewidth\":0,\"ticks\":\"\"}},\"type\":\"scatterternary\"}],\"surface\":[{\"colorbar\":{\"outlinewidth\":0,\"ticks\":\"\"},\"colorscale\":[[0.0,\"#0d0887\"],[0.1111111111111111,\"#46039f\"],[0.2222222222222222,\"#7201a8\"],[0.3333333333333333,\"#9c179e\"],[0.4444444444444444,\"#bd3786\"],[0.5555555555555556,\"#d8576b\"],[0.6666666666666666,\"#ed7953\"],[0.7777777777777778,\"#fb9f3a\"],[0.8888888888888888,\"#fdca26\"],[1.0,\"#f0f921\"]],\"type\":\"surface\"}],\"table\":[{\"cells\":{\"fill\":{\"color\":\"#EBF0F8\"},\"line\":{\"color\":\"white\"}},\"header\":{\"fill\":{\"color\":\"#C8D4E3\"},\"line\":{\"color\":\"white\"}},\"type\":\"table\"}]},\"layout\":{\"annotationdefaults\":{\"arrowcolor\":\"#2a3f5f\",\"arrowhead\":0,\"arrowwidth\":1},\"autotypenumbers\":\"strict\",\"coloraxis\":{\"colorbar\":{\"outlinewidth\":0,\"ticks\":\"\"}},\"colorscale\":{\"diverging\":[[0,\"#8e0152\"],[0.1,\"#c51b7d\"],[0.2,\"#de77ae\"],[0.3,\"#f1b6da\"],[0.4,\"#fde0ef\"],[0.5,\"#f7f7f7\"],[0.6,\"#e6f5d0\"],[0.7,\"#b8e186\"],[0.8,\"#7fbc41\"],[0.9,\"#4d9221\"],[1,\"#276419\"]],\"sequential\":[[0.0,\"#0d0887\"],[0.1111111111111111,\"#46039f\"],[0.2222222222222222,\"#7201a8\"],[0.3333333333333333,\"#9c179e\"],[0.4444444444444444,\"#bd3786\"],[0.5555555555555556,\"#d8576b\"],[0.6666666666666666,\"#ed7953\"],[0.7777777777777778,\"#fb9f3a\"],[0.8888888888888888,\"#fdca26\"],[1.0,\"#f0f921\"]],\"sequentialminus\":[[0.0,\"#0d0887\"],[0.1111111111111111,\"#46039f\"],[0.2222222222222222,\"#7201a8\"],[0.3333333333333333,\"#9c179e\"],[0.4444444444444444,\"#bd3786\"],[0.5555555555555556,\"#d8576b\"],[0.6666666666666666,\"#ed7953\"],[0.7777777777777778,\"#fb9f3a\"],[0.8888888888888888,\"#fdca26\"],[1.0,\"#f0f921\"]]},\"colorway\":[\"#636efa\",\"#EF553B\",\"#00cc96\",\"#ab63fa\",\"#FFA15A\",\"#19d3f3\",\"#FF6692\",\"#B6E880\",\"#FF97FF\",\"#FECB52\"],\"font\":{\"color\":\"#2a3f5f\"},\"geo\":{\"bgcolor\":\"white\",\"lakecolor\":\"white\",\"landcolor\":\"#E5ECF6\",\"showlakes\":true,\"showland\":true,\"subunitcolor\":\"white\"},\"hoverlabel\":{\"align\":\"left\"},\"hovermode\":\"closest\",\"mapbox\":{\"style\":\"light\"},\"paper_bgcolor\":\"white\",\"plot_bgcolor\":\"#E5ECF6\",\"polar\":{\"angularaxis\":{\"gridcolor\":\"white\",\"linecolor\":\"white\",\"ticks\":\"\"},\"bgcolor\":\"#E5ECF6\",\"radialaxis\":{\"gridcolor\":\"white\",\"linecolor\":\"white\",\"ticks\":\"\"}},\"scene\":{\"xaxis\":{\"backgroundcolor\":\"#E5ECF6\",\"gridcolor\":\"white\",\"gridwidth\":2,\"linecolor\":\"white\",\"showbackground\":true,\"ticks\":\"\",\"zerolinecolor\":\"white\"},\"yaxis\":{\"backgroundcolor\":\"#E5ECF6\",\"gridcolor\":\"white\",\"gridwidth\":2,\"linecolor\":\"white\",\"showbackground\":true,\"ticks\":\"\",\"zerolinecolor\":\"white\"},\"zaxis\":{\"backgroundcolor\":\"#E5ECF6\",\"gridcolor\":\"white\",\"gridwidth\":2,\"linecolor\":\"white\",\"showbackground\":true,\"ticks\":\"\",\"zerolinecolor\":\"white\"}},\"shapedefaults\":{\"line\":{\"color\":\"#2a3f5f\"}},\"ternary\":{\"aaxis\":{\"gridcolor\":\"white\",\"linecolor\":\"white\",\"ticks\":\"\"},\"baxis\":{\"gridcolor\":\"white\",\"linecolor\":\"white\",\"ticks\":\"\"},\"bgcolor\":\"#E5ECF6\",\"caxis\":{\"gridcolor\":\"white\",\"linecolor\":\"white\",\"ticks\":\"\"}},\"title\":{\"x\":0.05},\"xaxis\":{\"automargin\":true,\"gridcolor\":\"white\",\"linecolor\":\"white\",\"ticks\":\"\",\"title\":{\"standoff\":15},\"zerolinecolor\":\"white\",\"zerolinewidth\":2},\"yaxis\":{\"automargin\":true,\"gridcolor\":\"white\",\"linecolor\":\"white\",\"ticks\":\"\",\"title\":{\"standoff\":15},\"zerolinecolor\":\"white\",\"zerolinewidth\":2}}},\"title\":{\"text\":\"Score Distribution\"},\"xaxis\":{\"anchor\":\"y\",\"domain\":[0.0,1.0],\"title\":{\"text\":\"value\"}},\"yaxis\":{\"anchor\":\"x\",\"domain\":[0.0,1.0],\"title\":{\"text\":\"count\"}}},                        {\"responsive\": true}                    ).then(function(){\n",
       "                            \n",
       "var gd = document.getElementById('eccc7c31-842b-4bac-a9fc-a493397b7fb9');\n",
       "var x = new MutationObserver(function (mutations, observer) {{\n",
       "        var display = window.getComputedStyle(gd).display;\n",
       "        if (!display || display === 'none') {{\n",
       "            console.log([gd, 'removed!']);\n",
       "            Plotly.purge(gd);\n",
       "            observer.disconnect();\n",
       "        }}\n",
       "}});\n",
       "\n",
       "// Listen for the removal of the full notebook cells\n",
       "var notebookContainer = gd.closest('#notebook-container');\n",
       "if (notebookContainer) {{\n",
       "    x.observe(notebookContainer, {childList: true});\n",
       "}}\n",
       "\n",
       "// Listen for the clearing of the current output cell\n",
       "var outputEl = gd.closest('.output');\n",
       "if (outputEl) {{\n",
       "    x.observe(outputEl, {childList: true});\n",
       "}}\n",
       "\n",
       "                        })                };                });            </script>        </div>"
      ]
     },
     "metadata": {},
     "output_type": "display_data"
    }
   ],
   "source": [
    "px.histogram(df['Score'], title='Score Distribution')"
   ]
  },
  {
   "cell_type": "markdown",
   "id": "d3d0157d",
   "metadata": {
    "papermill": {
     "duration": 0.01647,
     "end_time": "2021-08-14T13:07:20.952837",
     "exception": false,
     "start_time": "2021-08-14T13:07:20.936367",
     "status": "completed"
    },
    "tags": []
   },
   "source": [
    "### Sentiment Analysis"
   ]
  },
  {
   "cell_type": "code",
   "execution_count": 6,
   "id": "b283d208",
   "metadata": {
    "execution": {
     "iopub.execute_input": "2021-08-14T13:07:20.994343Z",
     "iopub.status.busy": "2021-08-14T13:07:20.993650Z",
     "iopub.status.idle": "2021-08-14T13:08:37.117921Z",
     "shell.execute_reply": "2021-08-14T13:08:37.118424Z",
     "shell.execute_reply.started": "2021-08-14T13:03:45.864946Z"
    },
    "papermill": {
     "duration": 76.148943,
     "end_time": "2021-08-14T13:08:37.118625",
     "exception": false,
     "start_time": "2021-08-14T13:07:20.969682",
     "status": "completed"
    },
    "tags": []
   },
   "outputs": [
    {
     "name": "stdout",
     "output_type": "stream",
     "text": [
      "Requirement already satisfied: pip in /opt/conda/lib/python3.7/site-packages (21.1.2)\r\n",
      "Collecting pip\r\n",
      "  Downloading pip-21.2.4-py3-none-any.whl (1.6 MB)\r\n",
      "\u001b[K     |████████████████████████████████| 1.6 MB 5.3 MB/s \r\n",
      "\u001b[?25hRequirement already satisfied: setuptools in /opt/conda/lib/python3.7/site-packages (49.6.0.post20210108)\r\n",
      "Collecting setuptools\r\n",
      "  Downloading setuptools-57.4.0-py3-none-any.whl (819 kB)\r\n",
      "\u001b[K     |████████████████████████████████| 819 kB 48.0 MB/s \r\n",
      "\u001b[?25hRequirement already satisfied: wheel in /opt/conda/lib/python3.7/site-packages (0.36.2)\r\n",
      "Collecting wheel\r\n",
      "  Downloading wheel-0.37.0-py2.py3-none-any.whl (35 kB)\r\n",
      "Installing collected packages: wheel, setuptools, pip\r\n",
      "  Attempting uninstall: wheel\r\n",
      "    Found existing installation: wheel 0.36.2\r\n",
      "    Uninstalling wheel-0.36.2:\r\n",
      "      Successfully uninstalled wheel-0.36.2\r\n",
      "  Attempting uninstall: setuptools\r\n",
      "    Found existing installation: setuptools 49.6.0.post20210108\r\n",
      "    Uninstalling setuptools-49.6.0.post20210108:\r\n",
      "      Successfully uninstalled setuptools-49.6.0.post20210108\r\n",
      "  Attempting uninstall: pip\r\n",
      "    Found existing installation: pip 21.1.2\r\n",
      "    Uninstalling pip-21.1.2:\r\n",
      "      Successfully uninstalled pip-21.1.2\r\n",
      "\u001b[31mERROR: pip's dependency resolver does not currently take into account all the packages that are installed. This behaviour is the source of the following dependency conflicts.\r\n",
      "pyldavis 3.3.1 requires numpy>=1.20.0, but you have numpy 1.19.5 which is incompatible.\r\n",
      "gcsfs 2021.6.0 requires fsspec==2021.06.0, but you have fsspec 2021.6.1 which is incompatible.\r\n",
      "earthengine-api 0.1.272 requires google-api-python-client<2,>=1.12.1, but you have google-api-python-client 1.8.0 which is incompatible.\u001b[0m\r\n",
      "Successfully installed pip-21.2.4 setuptools-57.4.0 wheel-0.37.0\r\n",
      "\u001b[33mWARNING: Running pip as root will break packages and permissions. You should install packages reliably by using venv: https://pip.pypa.io/warnings/venv\u001b[0m\r\n",
      "Requirement already satisfied: spacy in /opt/conda/lib/python3.7/site-packages (2.3.7)\r\n",
      "Collecting spacy\r\n",
      "  Downloading spacy-3.1.1-cp37-cp37m-manylinux_2_17_x86_64.manylinux2014_x86_64.whl (6.4 MB)\r\n",
      "\u001b[K     |████████████████████████████████| 6.4 MB 4.1 MB/s \r\n",
      "\u001b[?25hRequirement already satisfied: preshed<3.1.0,>=3.0.2 in /opt/conda/lib/python3.7/site-packages (from spacy) (3.0.5)\r\n",
      "Requirement already satisfied: murmurhash<1.1.0,>=0.28.0 in /opt/conda/lib/python3.7/site-packages (from spacy) (1.0.5)\r\n",
      "Collecting thinc<8.1.0,>=8.0.8\r\n",
      "  Downloading thinc-8.0.8-cp37-cp37m-manylinux_2_17_x86_64.manylinux2014_x86_64.whl (621 kB)\r\n",
      "\u001b[K     |████████████████████████████████| 621 kB 61.4 MB/s \r\n",
      "\u001b[?25hRequirement already satisfied: typing-extensions<4.0.0.0,>=3.7.4 in /opt/conda/lib/python3.7/site-packages (from spacy) (3.7.4.3)\r\n",
      "Requirement already satisfied: tqdm<5.0.0,>=4.38.0 in /opt/conda/lib/python3.7/site-packages (from spacy) (4.61.1)\r\n",
      "Requirement already satisfied: jinja2 in /opt/conda/lib/python3.7/site-packages (from spacy) (3.0.1)\r\n",
      "Requirement already satisfied: requests<3.0.0,>=2.13.0 in /opt/conda/lib/python3.7/site-packages (from spacy) (2.25.1)\r\n",
      "Requirement already satisfied: blis<0.8.0,>=0.4.0 in /opt/conda/lib/python3.7/site-packages (from spacy) (0.7.4)\r\n",
      "Collecting catalogue<2.1.0,>=2.0.4\r\n",
      "  Downloading catalogue-2.0.5-py3-none-any.whl (17 kB)\r\n",
      "Collecting srsly<3.0.0,>=2.4.1\r\n",
      "  Downloading srsly-2.4.1-cp37-cp37m-manylinux2014_x86_64.whl (456 kB)\r\n",
      "\u001b[K     |████████████████████████████████| 456 kB 71.6 MB/s \r\n",
      "\u001b[?25hCollecting pathy>=0.3.5\r\n",
      "  Downloading pathy-0.6.0-py3-none-any.whl (42 kB)\r\n",
      "\u001b[K     |████████████████████████████████| 42 kB 922 kB/s \r\n",
      "\u001b[?25hRequirement already satisfied: numpy>=1.15.0 in /opt/conda/lib/python3.7/site-packages (from spacy) (1.19.5)\r\n",
      "Collecting spacy-legacy<3.1.0,>=3.0.7\r\n",
      "  Downloading spacy_legacy-3.0.8-py2.py3-none-any.whl (14 kB)\r\n",
      "Requirement already satisfied: wasabi<1.1.0,>=0.8.1 in /opt/conda/lib/python3.7/site-packages (from spacy) (0.8.2)\r\n",
      "Requirement already satisfied: setuptools in /opt/conda/lib/python3.7/site-packages (from spacy) (57.4.0)\r\n",
      "Requirement already satisfied: pydantic!=1.8,!=1.8.1,<1.9.0,>=1.7.4 in /opt/conda/lib/python3.7/site-packages (from spacy) (1.8.2)\r\n",
      "Requirement already satisfied: cymem<2.1.0,>=2.0.2 in /opt/conda/lib/python3.7/site-packages (from spacy) (2.0.5)\r\n",
      "Collecting typer<0.4.0,>=0.3.0\r\n",
      "  Downloading typer-0.3.2-py3-none-any.whl (21 kB)\r\n",
      "Requirement already satisfied: packaging>=20.0 in /opt/conda/lib/python3.7/site-packages (from spacy) (20.9)\r\n",
      "Requirement already satisfied: zipp>=0.5 in /opt/conda/lib/python3.7/site-packages (from catalogue<2.1.0,>=2.0.4->spacy) (3.4.1)\r\n",
      "Requirement already satisfied: pyparsing>=2.0.2 in /opt/conda/lib/python3.7/site-packages (from packaging>=20.0->spacy) (2.4.7)\r\n",
      "Requirement already satisfied: smart-open<6.0.0,>=5.0.0 in /opt/conda/lib/python3.7/site-packages (from pathy>=0.3.5->spacy) (5.1.0)\r\n",
      "Requirement already satisfied: chardet<5,>=3.0.2 in /opt/conda/lib/python3.7/site-packages (from requests<3.0.0,>=2.13.0->spacy) (4.0.0)\r\n",
      "Requirement already satisfied: idna<3,>=2.5 in /opt/conda/lib/python3.7/site-packages (from requests<3.0.0,>=2.13.0->spacy) (2.10)\r\n",
      "Requirement already satisfied: certifi>=2017.4.17 in /opt/conda/lib/python3.7/site-packages (from requests<3.0.0,>=2.13.0->spacy) (2021.5.30)\r\n",
      "Requirement already satisfied: urllib3<1.27,>=1.21.1 in /opt/conda/lib/python3.7/site-packages (from requests<3.0.0,>=2.13.0->spacy) (1.26.5)\r\n",
      "Requirement already satisfied: click<7.2.0,>=7.1.1 in /opt/conda/lib/python3.7/site-packages (from typer<0.4.0,>=0.3.0->spacy) (7.1.2)\r\n",
      "Requirement already satisfied: MarkupSafe>=2.0 in /opt/conda/lib/python3.7/site-packages (from jinja2->spacy) (2.0.1)\r\n",
      "Installing collected packages: catalogue, typer, srsly, thinc, spacy-legacy, pathy, spacy\r\n",
      "  Attempting uninstall: catalogue\r\n",
      "    Found existing installation: catalogue 1.0.0\r\n",
      "    Uninstalling catalogue-1.0.0:\r\n",
      "      Successfully uninstalled catalogue-1.0.0\r\n",
      "  Attempting uninstall: srsly\r\n",
      "    Found existing installation: srsly 1.0.5\r\n",
      "    Uninstalling srsly-1.0.5:\r\n",
      "      Successfully uninstalled srsly-1.0.5\r\n",
      "  Attempting uninstall: thinc\r\n",
      "    Found existing installation: thinc 7.4.5\r\n",
      "    Uninstalling thinc-7.4.5:\r\n",
      "      Successfully uninstalled thinc-7.4.5\r\n",
      "  Attempting uninstall: spacy\r\n",
      "    Found existing installation: spacy 2.3.7\r\n",
      "    Uninstalling spacy-2.3.7:\r\n",
      "      Successfully uninstalled spacy-2.3.7\r\n",
      "\u001b[31mERROR: pip's dependency resolver does not currently take into account all the packages that are installed. This behaviour is the source of the following dependency conflicts.\r\n",
      "fastai 2.2.7 requires spacy<3, but you have spacy 3.1.1 which is incompatible.\r\n",
      "en-core-web-sm 2.3.1 requires spacy<2.4.0,>=2.3.0, but you have spacy 3.1.1 which is incompatible.\r\n",
      "en-core-web-lg 2.3.1 requires spacy<2.4.0,>=2.3.0, but you have spacy 3.1.1 which is incompatible.\r\n",
      "allennlp 2.5.0 requires spacy<3.1,>=2.1.0, but you have spacy 3.1.1 which is incompatible.\u001b[0m\r\n",
      "Successfully installed catalogue-2.0.5 pathy-0.6.0 spacy-3.1.1 spacy-legacy-3.0.8 srsly-2.4.1 thinc-8.0.8 typer-0.3.2\r\n",
      "\u001b[33mWARNING: Running pip as the 'root' user can result in broken permissions and conflicting behaviour with the system package manager. It is recommended to use a virtual environment instead: https://pip.pypa.io/warnings/venv\u001b[0m\r\n",
      "2021-08-14 13:08:12.028455: W tensorflow/stream_executor/platform/default/dso_loader.cc:60] Could not load dynamic library 'libcudart.so.11.0'; dlerror: libcudart.so.11.0: cannot open shared object file: No such file or directory; LD_LIBRARY_PATH: /opt/conda/lib\r\n",
      "2021-08-14 13:08:12.028594: I tensorflow/stream_executor/cuda/cudart_stub.cc:29] Ignore above cudart dlerror if you do not have a GPU set up on your machine.\r\n",
      "Collecting en-core-web-sm==3.1.0\r\n",
      "  Downloading https://github.com/explosion/spacy-models/releases/download/en_core_web_sm-3.1.0/en_core_web_sm-3.1.0-py3-none-any.whl (13.6 MB)\r\n",
      "\u001b[K     |████████████████████████████████| 13.6 MB 5.0 MB/s \r\n",
      "\u001b[?25hRequirement already satisfied: spacy<3.2.0,>=3.1.0 in /opt/conda/lib/python3.7/site-packages (from en-core-web-sm==3.1.0) (3.1.1)\r\n",
      "Requirement already satisfied: typer<0.4.0,>=0.3.0 in /opt/conda/lib/python3.7/site-packages (from spacy<3.2.0,>=3.1.0->en-core-web-sm==3.1.0) (0.3.2)\r\n",
      "Requirement already satisfied: pathy>=0.3.5 in /opt/conda/lib/python3.7/site-packages (from spacy<3.2.0,>=3.1.0->en-core-web-sm==3.1.0) (0.6.0)\r\n",
      "Requirement already satisfied: spacy-legacy<3.1.0,>=3.0.7 in /opt/conda/lib/python3.7/site-packages (from spacy<3.2.0,>=3.1.0->en-core-web-sm==3.1.0) (3.0.8)\r\n",
      "Requirement already satisfied: srsly<3.0.0,>=2.4.1 in /opt/conda/lib/python3.7/site-packages (from spacy<3.2.0,>=3.1.0->en-core-web-sm==3.1.0) (2.4.1)\r\n",
      "Requirement already satisfied: cymem<2.1.0,>=2.0.2 in /opt/conda/lib/python3.7/site-packages (from spacy<3.2.0,>=3.1.0->en-core-web-sm==3.1.0) (2.0.5)\r\n",
      "Requirement already satisfied: setuptools in /opt/conda/lib/python3.7/site-packages (from spacy<3.2.0,>=3.1.0->en-core-web-sm==3.1.0) (57.4.0)\r\n",
      "Requirement already satisfied: murmurhash<1.1.0,>=0.28.0 in /opt/conda/lib/python3.7/site-packages (from spacy<3.2.0,>=3.1.0->en-core-web-sm==3.1.0) (1.0.5)\r\n",
      "Requirement already satisfied: tqdm<5.0.0,>=4.38.0 in /opt/conda/lib/python3.7/site-packages (from spacy<3.2.0,>=3.1.0->en-core-web-sm==3.1.0) (4.61.1)\r\n",
      "Requirement already satisfied: thinc<8.1.0,>=8.0.8 in /opt/conda/lib/python3.7/site-packages (from spacy<3.2.0,>=3.1.0->en-core-web-sm==3.1.0) (8.0.8)\r\n",
      "Requirement already satisfied: typing-extensions<4.0.0.0,>=3.7.4 in /opt/conda/lib/python3.7/site-packages (from spacy<3.2.0,>=3.1.0->en-core-web-sm==3.1.0) (3.7.4.3)\r\n",
      "Requirement already satisfied: blis<0.8.0,>=0.4.0 in /opt/conda/lib/python3.7/site-packages (from spacy<3.2.0,>=3.1.0->en-core-web-sm==3.1.0) (0.7.4)\r\n",
      "Requirement already satisfied: requests<3.0.0,>=2.13.0 in /opt/conda/lib/python3.7/site-packages (from spacy<3.2.0,>=3.1.0->en-core-web-sm==3.1.0) (2.25.1)\r\n",
      "Requirement already satisfied: pydantic!=1.8,!=1.8.1,<1.9.0,>=1.7.4 in /opt/conda/lib/python3.7/site-packages (from spacy<3.2.0,>=3.1.0->en-core-web-sm==3.1.0) (1.8.2)\r\n",
      "Requirement already satisfied: catalogue<2.1.0,>=2.0.4 in /opt/conda/lib/python3.7/site-packages (from spacy<3.2.0,>=3.1.0->en-core-web-sm==3.1.0) (2.0.5)\r\n",
      "Requirement already satisfied: numpy>=1.15.0 in /opt/conda/lib/python3.7/site-packages (from spacy<3.2.0,>=3.1.0->en-core-web-sm==3.1.0) (1.19.5)\r\n",
      "Requirement already satisfied: wasabi<1.1.0,>=0.8.1 in /opt/conda/lib/python3.7/site-packages (from spacy<3.2.0,>=3.1.0->en-core-web-sm==3.1.0) (0.8.2)\r\n",
      "Requirement already satisfied: preshed<3.1.0,>=3.0.2 in /opt/conda/lib/python3.7/site-packages (from spacy<3.2.0,>=3.1.0->en-core-web-sm==3.1.0) (3.0.5)\r\n",
      "Requirement already satisfied: jinja2 in /opt/conda/lib/python3.7/site-packages (from spacy<3.2.0,>=3.1.0->en-core-web-sm==3.1.0) (3.0.1)\r\n",
      "Requirement already satisfied: packaging>=20.0 in /opt/conda/lib/python3.7/site-packages (from spacy<3.2.0,>=3.1.0->en-core-web-sm==3.1.0) (20.9)\r\n",
      "Requirement already satisfied: zipp>=0.5 in /opt/conda/lib/python3.7/site-packages (from catalogue<2.1.0,>=2.0.4->spacy<3.2.0,>=3.1.0->en-core-web-sm==3.1.0) (3.4.1)\r\n",
      "Requirement already satisfied: pyparsing>=2.0.2 in /opt/conda/lib/python3.7/site-packages (from packaging>=20.0->spacy<3.2.0,>=3.1.0->en-core-web-sm==3.1.0) (2.4.7)\r\n",
      "Requirement already satisfied: smart-open<6.0.0,>=5.0.0 in /opt/conda/lib/python3.7/site-packages (from pathy>=0.3.5->spacy<3.2.0,>=3.1.0->en-core-web-sm==3.1.0) (5.1.0)\r\n",
      "Requirement already satisfied: chardet<5,>=3.0.2 in /opt/conda/lib/python3.7/site-packages (from requests<3.0.0,>=2.13.0->spacy<3.2.0,>=3.1.0->en-core-web-sm==3.1.0) (4.0.0)\r\n",
      "Requirement already satisfied: certifi>=2017.4.17 in /opt/conda/lib/python3.7/site-packages (from requests<3.0.0,>=2.13.0->spacy<3.2.0,>=3.1.0->en-core-web-sm==3.1.0) (2021.5.30)\r\n",
      "Requirement already satisfied: urllib3<1.27,>=1.21.1 in /opt/conda/lib/python3.7/site-packages (from requests<3.0.0,>=2.13.0->spacy<3.2.0,>=3.1.0->en-core-web-sm==3.1.0) (1.26.5)\r\n",
      "Requirement already satisfied: idna<3,>=2.5 in /opt/conda/lib/python3.7/site-packages (from requests<3.0.0,>=2.13.0->spacy<3.2.0,>=3.1.0->en-core-web-sm==3.1.0) (2.10)\r\n",
      "Requirement already satisfied: click<7.2.0,>=7.1.1 in /opt/conda/lib/python3.7/site-packages (from typer<0.4.0,>=0.3.0->spacy<3.2.0,>=3.1.0->en-core-web-sm==3.1.0) (7.1.2)\r\n",
      "Requirement already satisfied: MarkupSafe>=2.0 in /opt/conda/lib/python3.7/site-packages (from jinja2->spacy<3.2.0,>=3.1.0->en-core-web-sm==3.1.0) (2.0.1)\r\n",
      "Installing collected packages: en-core-web-sm\r\n",
      "  Attempting uninstall: en-core-web-sm\r\n",
      "    Found existing installation: en-core-web-sm 2.3.1\r\n",
      "    Uninstalling en-core-web-sm-2.3.1:\r\n",
      "      Successfully uninstalled en-core-web-sm-2.3.1\r\n",
      "Successfully installed en-core-web-sm-3.1.0\r\n",
      "\u001b[33mWARNING: Running pip as the 'root' user can result in broken permissions and conflicting behaviour with the system package manager. It is recommended to use a virtual environment instead: https://pip.pypa.io/warnings/venv\u001b[0m\r\n",
      "\u001b[38;5;2m✔ Download and installation successful\u001b[0m\r\n",
      "You can now load the package via spacy.load('en_core_web_sm')\r\n",
      "Requirement already satisfied: pip in /opt/conda/lib/python3.7/site-packages (21.2.4)\r\n",
      "Collecting install\r\n",
      "  Downloading install-1.3.4-py3-none-any.whl (3.1 kB)\r\n",
      "Collecting spacytextblob\r\n",
      "  Downloading spacytextblob-3.0.1-py3-none-any.whl (4.1 kB)\r\n",
      "Requirement already satisfied: textblob<0.16.0,>=0.15.3 in /opt/conda/lib/python3.7/site-packages (from spacytextblob) (0.15.3)\r\n",
      "Requirement already satisfied: spacy<4.0,>=3.0 in /opt/conda/lib/python3.7/site-packages (from spacytextblob) (3.1.1)\r\n",
      "Requirement already satisfied: pydantic!=1.8,!=1.8.1,<1.9.0,>=1.7.4 in /opt/conda/lib/python3.7/site-packages (from spacy<4.0,>=3.0->spacytextblob) (1.8.2)\r\n",
      "Requirement already satisfied: packaging>=20.0 in /opt/conda/lib/python3.7/site-packages (from spacy<4.0,>=3.0->spacytextblob) (20.9)\r\n",
      "Requirement already satisfied: jinja2 in /opt/conda/lib/python3.7/site-packages (from spacy<4.0,>=3.0->spacytextblob) (3.0.1)\r\n",
      "Requirement already satisfied: cymem<2.1.0,>=2.0.2 in /opt/conda/lib/python3.7/site-packages (from spacy<4.0,>=3.0->spacytextblob) (2.0.5)\r\n",
      "Requirement already satisfied: wasabi<1.1.0,>=0.8.1 in /opt/conda/lib/python3.7/site-packages (from spacy<4.0,>=3.0->spacytextblob) (0.8.2)\r\n",
      "Requirement already satisfied: murmurhash<1.1.0,>=0.28.0 in /opt/conda/lib/python3.7/site-packages (from spacy<4.0,>=3.0->spacytextblob) (1.0.5)\r\n",
      "Requirement already satisfied: typer<0.4.0,>=0.3.0 in /opt/conda/lib/python3.7/site-packages (from spacy<4.0,>=3.0->spacytextblob) (0.3.2)\r\n",
      "Requirement already satisfied: setuptools in /opt/conda/lib/python3.7/site-packages (from spacy<4.0,>=3.0->spacytextblob) (57.4.0)\r\n",
      "Requirement already satisfied: blis<0.8.0,>=0.4.0 in /opt/conda/lib/python3.7/site-packages (from spacy<4.0,>=3.0->spacytextblob) (0.7.4)\r\n",
      "Requirement already satisfied: requests<3.0.0,>=2.13.0 in /opt/conda/lib/python3.7/site-packages (from spacy<4.0,>=3.0->spacytextblob) (2.25.1)\r\n",
      "Requirement already satisfied: pathy>=0.3.5 in /opt/conda/lib/python3.7/site-packages (from spacy<4.0,>=3.0->spacytextblob) (0.6.0)\r\n",
      "Requirement already satisfied: tqdm<5.0.0,>=4.38.0 in /opt/conda/lib/python3.7/site-packages (from spacy<4.0,>=3.0->spacytextblob) (4.61.1)\r\n",
      "Requirement already satisfied: thinc<8.1.0,>=8.0.8 in /opt/conda/lib/python3.7/site-packages (from spacy<4.0,>=3.0->spacytextblob) (8.0.8)\r\n",
      "Requirement already satisfied: typing-extensions<4.0.0.0,>=3.7.4 in /opt/conda/lib/python3.7/site-packages (from spacy<4.0,>=3.0->spacytextblob) (3.7.4.3)\r\n",
      "Requirement already satisfied: preshed<3.1.0,>=3.0.2 in /opt/conda/lib/python3.7/site-packages (from spacy<4.0,>=3.0->spacytextblob) (3.0.5)\r\n",
      "Requirement already satisfied: spacy-legacy<3.1.0,>=3.0.7 in /opt/conda/lib/python3.7/site-packages (from spacy<4.0,>=3.0->spacytextblob) (3.0.8)\r\n",
      "Requirement already satisfied: numpy>=1.15.0 in /opt/conda/lib/python3.7/site-packages (from spacy<4.0,>=3.0->spacytextblob) (1.19.5)\r\n",
      "Requirement already satisfied: srsly<3.0.0,>=2.4.1 in /opt/conda/lib/python3.7/site-packages (from spacy<4.0,>=3.0->spacytextblob) (2.4.1)\r\n",
      "Requirement already satisfied: catalogue<2.1.0,>=2.0.4 in /opt/conda/lib/python3.7/site-packages (from spacy<4.0,>=3.0->spacytextblob) (2.0.5)\r\n",
      "Requirement already satisfied: zipp>=0.5 in /opt/conda/lib/python3.7/site-packages (from catalogue<2.1.0,>=2.0.4->spacy<4.0,>=3.0->spacytextblob) (3.4.1)\r\n",
      "Requirement already satisfied: pyparsing>=2.0.2 in /opt/conda/lib/python3.7/site-packages (from packaging>=20.0->spacy<4.0,>=3.0->spacytextblob) (2.4.7)\r\n",
      "Requirement already satisfied: smart-open<6.0.0,>=5.0.0 in /opt/conda/lib/python3.7/site-packages (from pathy>=0.3.5->spacy<4.0,>=3.0->spacytextblob) (5.1.0)\r\n",
      "Requirement already satisfied: chardet<5,>=3.0.2 in /opt/conda/lib/python3.7/site-packages (from requests<3.0.0,>=2.13.0->spacy<4.0,>=3.0->spacytextblob) (4.0.0)\r\n",
      "Requirement already satisfied: certifi>=2017.4.17 in /opt/conda/lib/python3.7/site-packages (from requests<3.0.0,>=2.13.0->spacy<4.0,>=3.0->spacytextblob) (2021.5.30)\r\n",
      "Requirement already satisfied: urllib3<1.27,>=1.21.1 in /opt/conda/lib/python3.7/site-packages (from requests<3.0.0,>=2.13.0->spacy<4.0,>=3.0->spacytextblob) (1.26.5)\r\n",
      "Requirement already satisfied: idna<3,>=2.5 in /opt/conda/lib/python3.7/site-packages (from requests<3.0.0,>=2.13.0->spacy<4.0,>=3.0->spacytextblob) (2.10)\r\n",
      "Requirement already satisfied: nltk>=3.1 in /opt/conda/lib/python3.7/site-packages (from textblob<0.16.0,>=0.15.3->spacytextblob) (3.2.4)\r\n",
      "Requirement already satisfied: six in /opt/conda/lib/python3.7/site-packages (from nltk>=3.1->textblob<0.16.0,>=0.15.3->spacytextblob) (1.15.0)\r\n",
      "Requirement already satisfied: click<7.2.0,>=7.1.1 in /opt/conda/lib/python3.7/site-packages (from typer<0.4.0,>=0.3.0->spacy<4.0,>=3.0->spacytextblob) (7.1.2)\r\n",
      "Requirement already satisfied: MarkupSafe>=2.0 in /opt/conda/lib/python3.7/site-packages (from jinja2->spacy<4.0,>=3.0->spacytextblob) (2.0.1)\r\n",
      "Installing collected packages: spacytextblob, install\r\n",
      "Successfully installed install-1.3.4 spacytextblob-3.0.1\r\n",
      "\u001b[33mWARNING: Running pip as the 'root' user can result in broken permissions and conflicting behaviour with the system package manager. It is recommended to use a virtual environment instead: https://pip.pypa.io/warnings/venv\u001b[0m\r\n"
     ]
    }
   ],
   "source": [
    "!pip install -U pip setuptools wheel\n",
    "!pip install -U spacy\n",
    "!python -m spacy download en_core_web_sm\n",
    "!pip install pip install spacytextblob"
   ]
  },
  {
   "cell_type": "code",
   "execution_count": 7,
   "id": "a1eb6b5b",
   "metadata": {
    "execution": {
     "iopub.execute_input": "2021-08-14T13:08:37.222449Z",
     "iopub.status.busy": "2021-08-14T13:08:37.221781Z",
     "iopub.status.idle": "2021-08-14T13:08:42.670080Z",
     "shell.execute_reply": "2021-08-14T13:08:42.669494Z",
     "shell.execute_reply.started": "2021-08-14T13:05:05.614271Z"
    },
    "papermill": {
     "duration": 5.501643,
     "end_time": "2021-08-14T13:08:42.670219",
     "exception": false,
     "start_time": "2021-08-14T13:08:37.168576",
     "status": "completed"
    },
    "tags": []
   },
   "outputs": [
    {
     "data": {
      "text/plain": [
       "<spacytextblob.spacytextblob.SpacyTextBlob at 0x7fa559240b90>"
      ]
     },
     "execution_count": 7,
     "metadata": {},
     "output_type": "execute_result"
    }
   ],
   "source": [
    "import spacy\r\n",
    "from spacytextblob.spacytextblob import SpacyTextBlob\r\n",
    "\r\n",
    "nlp = spacy.load(\"en_core_web_sm\")\r\n",
    "nlp.add_pipe('spacytextblob')"
   ]
  },
  {
   "cell_type": "code",
   "execution_count": 8,
   "id": "148a3b86",
   "metadata": {
    "execution": {
     "iopub.execute_input": "2021-08-14T13:08:42.777425Z",
     "iopub.status.busy": "2021-08-14T13:08:42.776757Z",
     "iopub.status.idle": "2021-08-14T13:09:04.289975Z",
     "shell.execute_reply": "2021-08-14T13:09:04.289219Z",
     "shell.execute_reply.started": "2021-08-14T13:05:11.695498Z"
    },
    "papermill": {
     "duration": 21.570702,
     "end_time": "2021-08-14T13:09:04.290132",
     "exception": false,
     "start_time": "2021-08-14T13:08:42.719430",
     "status": "completed"
    },
    "tags": []
   },
   "outputs": [],
   "source": [
    "sentimento = []\r\n",
    "for n in df['Text']:\r\n",
    "    doc = nlp(n)\r\n",
    "    sentimento.append(doc._.polarity)"
   ]
  },
  {
   "cell_type": "code",
   "execution_count": 9,
   "id": "492192b6",
   "metadata": {
    "execution": {
     "iopub.execute_input": "2021-08-14T13:09:04.395456Z",
     "iopub.status.busy": "2021-08-14T13:09:04.394718Z",
     "iopub.status.idle": "2021-08-14T13:09:04.402748Z",
     "shell.execute_reply": "2021-08-14T13:09:04.403214Z",
     "shell.execute_reply.started": "2021-08-14T13:05:34.180710Z"
    },
    "papermill": {
     "duration": 0.061333,
     "end_time": "2021-08-14T13:09:04.403432",
     "exception": false,
     "start_time": "2021-08-14T13:09:04.342099",
     "status": "completed"
    },
    "tags": []
   },
   "outputs": [],
   "source": [
    "sentimento = pd.DataFrame(sentimento, columns=['Sentimento'])\r\n",
    "df2 = pd.concat([df,sentimento], axis=1)"
   ]
  },
  {
   "cell_type": "code",
   "execution_count": 10,
   "id": "cdaf3cf2",
   "metadata": {
    "execution": {
     "iopub.execute_input": "2021-08-14T13:09:04.509832Z",
     "iopub.status.busy": "2021-08-14T13:09:04.509096Z",
     "iopub.status.idle": "2021-08-14T13:09:04.521850Z",
     "shell.execute_reply": "2021-08-14T13:09:04.522436Z",
     "shell.execute_reply.started": "2021-08-14T13:05:34.193293Z"
    },
    "papermill": {
     "duration": 0.070942,
     "end_time": "2021-08-14T13:09:04.522629",
     "exception": false,
     "start_time": "2021-08-14T13:09:04.451687",
     "status": "completed"
    },
    "tags": []
   },
   "outputs": [],
   "source": [
    "humor = []\r\n",
    "for n in df2['Sentimento']:\r\n",
    "    if n >= 0.5:\r\n",
    "        humor.append(\"Very good\")\r\n",
    "    elif n > 0.1 and n < 0.5:\r\n",
    "        humor.append(\"Good\")\r\n",
    "    elif n <= 0.1 and n >= -0.1:\r\n",
    "        humor.append(\"Neuter\")\r\n",
    "    elif n < -0.1 and n > -0.5:\r\n",
    "        humor.append(\"bad\")\r\n",
    "    else:\r\n",
    "        humor.append(\"Very bad\")\r\n",
    "\r\n",
    "humor = pd.DataFrame(humor, columns=['Humor'])\r\n",
    "df3 = pd.concat([df2, humor], axis=1)"
   ]
  },
  {
   "cell_type": "code",
   "execution_count": 11,
   "id": "5bd143a4",
   "metadata": {
    "execution": {
     "iopub.execute_input": "2021-08-14T13:09:04.651208Z",
     "iopub.status.busy": "2021-08-14T13:09:04.650546Z",
     "iopub.status.idle": "2021-08-14T13:09:04.676029Z",
     "shell.execute_reply": "2021-08-14T13:09:04.675516Z",
     "shell.execute_reply.started": "2021-08-14T13:05:34.209228Z"
    },
    "papermill": {
     "duration": 0.092767,
     "end_time": "2021-08-14T13:09:04.676170",
     "exception": false,
     "start_time": "2021-08-14T13:09:04.583403",
     "status": "completed"
    },
    "tags": []
   },
   "outputs": [
    {
     "data": {
      "text/html": [
       "<div>\n",
       "<style scoped>\n",
       "    .dataframe tbody tr th:only-of-type {\n",
       "        vertical-align: middle;\n",
       "    }\n",
       "\n",
       "    .dataframe tbody tr th {\n",
       "        vertical-align: top;\n",
       "    }\n",
       "\n",
       "    .dataframe thead th {\n",
       "        text-align: right;\n",
       "    }\n",
       "</style>\n",
       "<table border=\"1\" class=\"dataframe\">\n",
       "  <thead>\n",
       "    <tr style=\"text-align: right;\">\n",
       "      <th></th>\n",
       "      <th>Id</th>\n",
       "      <th>ProductId</th>\n",
       "      <th>UserId</th>\n",
       "      <th>ProfileName</th>\n",
       "      <th>HelpfulnessNumerator</th>\n",
       "      <th>HelpfulnessDenominator</th>\n",
       "      <th>Score</th>\n",
       "      <th>Time</th>\n",
       "      <th>Summary</th>\n",
       "      <th>Text</th>\n",
       "      <th>Sentimento</th>\n",
       "      <th>Humor</th>\n",
       "    </tr>\n",
       "  </thead>\n",
       "  <tbody>\n",
       "    <tr>\n",
       "      <th>0</th>\n",
       "      <td>1</td>\n",
       "      <td>B001E4KFG0</td>\n",
       "      <td>A3SGXH7AUHU8GW</td>\n",
       "      <td>delmartian</td>\n",
       "      <td>1</td>\n",
       "      <td>1</td>\n",
       "      <td>5</td>\n",
       "      <td>1303862400</td>\n",
       "      <td>Good Quality Dog Food</td>\n",
       "      <td>I have bought several of the Vitality canned d...</td>\n",
       "      <td>0.450000</td>\n",
       "      <td>Good</td>\n",
       "    </tr>\n",
       "    <tr>\n",
       "      <th>1</th>\n",
       "      <td>2</td>\n",
       "      <td>B00813GRG4</td>\n",
       "      <td>A1D87F6ZCVE5NK</td>\n",
       "      <td>dll pa</td>\n",
       "      <td>0</td>\n",
       "      <td>0</td>\n",
       "      <td>1</td>\n",
       "      <td>1346976000</td>\n",
       "      <td>Not as Advertised</td>\n",
       "      <td>Product arrived labeled as Jumbo Salted Peanut...</td>\n",
       "      <td>-0.033333</td>\n",
       "      <td>Neuter</td>\n",
       "    </tr>\n",
       "    <tr>\n",
       "      <th>2</th>\n",
       "      <td>3</td>\n",
       "      <td>B000LQOCH0</td>\n",
       "      <td>ABXLMWJIXXAIN</td>\n",
       "      <td>Natalia Corres \"Natalia Corres\"</td>\n",
       "      <td>1</td>\n",
       "      <td>1</td>\n",
       "      <td>4</td>\n",
       "      <td>1219017600</td>\n",
       "      <td>\"Delight\" says it all</td>\n",
       "      <td>This is a confection that has been around a fe...</td>\n",
       "      <td>0.133571</td>\n",
       "      <td>Good</td>\n",
       "    </tr>\n",
       "    <tr>\n",
       "      <th>3</th>\n",
       "      <td>4</td>\n",
       "      <td>B000UA0QIQ</td>\n",
       "      <td>A395BORC6FGVXV</td>\n",
       "      <td>Karl</td>\n",
       "      <td>3</td>\n",
       "      <td>3</td>\n",
       "      <td>2</td>\n",
       "      <td>1307923200</td>\n",
       "      <td>Cough Medicine</td>\n",
       "      <td>If you are looking for the secret ingredient i...</td>\n",
       "      <td>0.166667</td>\n",
       "      <td>Good</td>\n",
       "    </tr>\n",
       "    <tr>\n",
       "      <th>4</th>\n",
       "      <td>5</td>\n",
       "      <td>B006K2ZZ7K</td>\n",
       "      <td>A1UQRSCLF8GW1T</td>\n",
       "      <td>Michael D. Bigham \"M. Wassir\"</td>\n",
       "      <td>0</td>\n",
       "      <td>0</td>\n",
       "      <td>5</td>\n",
       "      <td>1350777600</td>\n",
       "      <td>Great taffy</td>\n",
       "      <td>Great taffy at a great price.  There was a wid...</td>\n",
       "      <td>0.483333</td>\n",
       "      <td>Good</td>\n",
       "    </tr>\n",
       "  </tbody>\n",
       "</table>\n",
       "</div>"
      ],
      "text/plain": [
       "   Id   ProductId          UserId                      ProfileName  \\\n",
       "0   1  B001E4KFG0  A3SGXH7AUHU8GW                       delmartian   \n",
       "1   2  B00813GRG4  A1D87F6ZCVE5NK                           dll pa   \n",
       "2   3  B000LQOCH0   ABXLMWJIXXAIN  Natalia Corres \"Natalia Corres\"   \n",
       "3   4  B000UA0QIQ  A395BORC6FGVXV                             Karl   \n",
       "4   5  B006K2ZZ7K  A1UQRSCLF8GW1T    Michael D. Bigham \"M. Wassir\"   \n",
       "\n",
       "   HelpfulnessNumerator  HelpfulnessDenominator  Score        Time  \\\n",
       "0                     1                       1      5  1303862400   \n",
       "1                     0                       0      1  1346976000   \n",
       "2                     1                       1      4  1219017600   \n",
       "3                     3                       3      2  1307923200   \n",
       "4                     0                       0      5  1350777600   \n",
       "\n",
       "                 Summary                                               Text  \\\n",
       "0  Good Quality Dog Food  I have bought several of the Vitality canned d...   \n",
       "1      Not as Advertised  Product arrived labeled as Jumbo Salted Peanut...   \n",
       "2  \"Delight\" says it all  This is a confection that has been around a fe...   \n",
       "3         Cough Medicine  If you are looking for the secret ingredient i...   \n",
       "4            Great taffy  Great taffy at a great price.  There was a wid...   \n",
       "\n",
       "   Sentimento   Humor  \n",
       "0    0.450000    Good  \n",
       "1   -0.033333  Neuter  \n",
       "2    0.133571    Good  \n",
       "3    0.166667    Good  \n",
       "4    0.483333    Good  "
      ]
     },
     "execution_count": 11,
     "metadata": {},
     "output_type": "execute_result"
    }
   ],
   "source": [
    "df3.head()"
   ]
  },
  {
   "cell_type": "code",
   "execution_count": 12,
   "id": "af8ca460",
   "metadata": {
    "execution": {
     "iopub.execute_input": "2021-08-14T13:09:04.792705Z",
     "iopub.status.busy": "2021-08-14T13:09:04.791983Z",
     "iopub.status.idle": "2021-08-14T13:09:04.884905Z",
     "shell.execute_reply": "2021-08-14T13:09:04.885395Z",
     "shell.execute_reply.started": "2021-08-14T13:05:34.237508Z"
    },
    "papermill": {
     "duration": 0.156214,
     "end_time": "2021-08-14T13:09:04.885574",
     "exception": false,
     "start_time": "2021-08-14T13:09:04.729360",
     "status": "completed"
    },
    "tags": []
   },
   "outputs": [
    {
     "data": {
      "text/html": [
       "<div>                            <div id=\"314aa4a5-0ed5-4232-91af-3d51398089d2\" class=\"plotly-graph-div\" style=\"height:525px; width:100%;\"></div>            <script type=\"text/javascript\">                require([\"plotly\"], function(Plotly) {                    window.PLOTLYENV=window.PLOTLYENV || {};                                    if (document.getElementById(\"314aa4a5-0ed5-4232-91af-3d51398089d2\")) {                    Plotly.newPlot(                        \"314aa4a5-0ed5-4232-91af-3d51398089d2\",                        [{\"alignmentgroup\":\"True\",\"bingroup\":\"x\",\"hovertemplate\":\"variable=Humor<br>value=%{x}<br>count=%{y}<extra></extra>\",\"legendgroup\":\"Humor\",\"marker\":{\"color\":\"#636efa\",\"pattern\":{\"shape\":\"\"}},\"name\":\"Humor\",\"offsetgroup\":\"Humor\",\"orientation\":\"v\",\"showlegend\":true,\"type\":\"histogram\",\"x\":[\"Good\",\"Neuter\",\"Good\",\"Good\",\"Good\",\"Good\",\"Good\",\"Good\",\"Good\",\"Good\",\"Good\",\"Neuter\",\"Good\",\"Very good\",\"Very bad\",\"Good\",\"Very good\",\"Good\",\"Good\",\"Good\",\"Good\",\"Good\",\"Good\",\"Good\",\"Good\",\"Neuter\",\"Neuter\",\"Good\",\"Good\",\"Good\",\"Good\",\"Very good\",\"Good\",\"Good\",\"Good\",\"Good\",\"Good\",\"Neuter\",\"Good\",\"Good\",\"Good\",\"Neuter\",\"Very good\",\"Very good\",\"Good\",\"Good\",\"Good\",\"Very good\",\"Good\",\"Neuter\",\"bad\",\"Good\",\"bad\",\"Neuter\",\"Good\",\"Good\",\"Good\",\"Very good\",\"Very good\",\"Good\",\"Good\",\"Good\",\"Very bad\",\"Good\",\"Neuter\",\"Good\",\"Good\",\"Neuter\",\"Neuter\",\"bad\",\"Good\",\"Good\",\"Good\",\"Neuter\",\"Very good\",\"Neuter\",\"Good\",\"Neuter\",\"Good\",\"Good\",\"Good\",\"Good\",\"Good\",\"Good\",\"Good\",\"Good\",\"Good\",\"Good\",\"Neuter\",\"Good\",\"Good\",\"Good\",\"Good\",\"Neuter\",\"Neuter\",\"Good\",\"Good\",\"Neuter\",\"Neuter\",\"bad\",\"Neuter\",\"Good\",\"Good\",\"Good\",\"Very good\",\"Very good\",\"Very good\",\"Good\",\"Good\",\"Good\",\"Neuter\",\"Good\",\"Good\",\"Very good\",\"Neuter\",\"Very good\",\"Good\",\"Good\",\"Good\",\"Good\",\"Very good\",\"Neuter\",\"Neuter\",\"Neuter\",\"Neuter\",\"Neuter\",\"Good\",\"Neuter\",\"Good\",\"Neuter\",\"Good\",\"Good\",\"Good\",\"Good\",\"Good\",\"bad\",\"Good\",\"Good\",\"bad\",\"Good\",\"Neuter\",\"Good\",\"Good\",\"Good\",\"Good\",\"Good\",\"Neuter\",\"Good\",\"Good\",\"Very good\",\"Good\",\"Good\",\"Good\",\"Neuter\",\"Very good\",\"Good\",\"Neuter\",\"Very good\",\"Good\",\"bad\",\"Very good\",\"Neuter\",\"Good\",\"Good\",\"Neuter\",\"Neuter\",\"Very good\",\"Neuter\",\"Neuter\",\"Neuter\",\"Good\",\"Neuter\",\"Good\",\"Good\",\"Good\",\"Good\",\"Good\",\"Good\",\"Good\",\"Neuter\",\"Good\",\"Very good\",\"Good\",\"Good\",\"Very good\",\"Neuter\",\"Good\",\"Good\",\"Neuter\",\"Good\",\"Very good\",\"Good\",\"Good\",\"Neuter\",\"Good\",\"Good\",\"Good\",\"Good\",\"Very good\",\"Very good\",\"Neuter\",\"Good\",\"Very good\",\"Good\",\"Good\",\"Good\",\"Good\",\"Good\",\"Good\",\"Good\",\"Good\",\"Neuter\",\"Neuter\",\"Neuter\",\"Good\",\"Good\",\"bad\",\"Good\",\"Good\",\"Good\",\"Good\",\"Good\",\"Good\",\"Very good\",\"Neuter\",\"Neuter\",\"Neuter\",\"Neuter\",\"Neuter\",\"Good\",\"Good\",\"Neuter\",\"Very good\",\"bad\",\"Good\",\"Neuter\",\"Good\",\"Good\",\"Good\",\"Good\",\"Good\",\"Good\",\"Neuter\",\"Neuter\",\"Very good\",\"Neuter\",\"Good\",\"Good\",\"Good\",\"Good\",\"Good\",\"Neuter\",\"bad\",\"Neuter\",\"Very bad\",\"Good\",\"Very good\",\"Neuter\",\"Good\",\"Good\",\"Good\",\"Good\",\"Neuter\",\"Neuter\",\"Neuter\",\"Good\",\"Neuter\",\"Neuter\",\"Good\",\"Good\",\"Neuter\",\"Neuter\",\"Good\",\"Good\",\"Good\",\"Neuter\",\"Good\",\"Good\",\"Good\",\"Very good\",\"Neuter\",\"Good\",\"Good\",\"Good\",\"Neuter\",\"Good\",\"Good\",\"Good\",\"Good\",\"Very good\",\"Good\",\"Good\",\"Neuter\",\"Good\",\"Very good\",\"bad\",\"Neuter\",\"Neuter\",\"Good\",\"Good\",\"Good\",\"Very good\",\"Good\",\"Neuter\",\"Good\",\"bad\",\"Good\",\"Very good\",\"Good\",\"Good\",\"Very good\",\"Good\",\"bad\",\"Good\",\"Good\",\"Neuter\",\"Good\",\"Good\",\"Good\",\"Neuter\",\"Good\",\"Neuter\",\"Good\",\"Neuter\",\"Good\",\"Very good\",\"Good\",\"Good\",\"Neuter\",\"Very good\",\"Very good\",\"Very bad\",\"Good\",\"Good\",\"Very bad\",\"Neuter\",\"Very good\",\"Good\",\"Very good\",\"Good\",\"Neuter\",\"Good\",\"bad\",\"Good\",\"Good\",\"Good\",\"Good\",\"Good\",\"Very good\",\"Neuter\",\"Good\",\"Good\",\"Good\",\"Good\",\"Good\",\"Good\",\"Good\",\"Good\",\"Good\",\"Good\",\"Good\",\"bad\",\"Good\",\"Very good\",\"Good\",\"bad\",\"Very good\",\"Good\",\"Good\",\"Good\",\"Neuter\",\"Good\",\"Neuter\",\"Very good\",\"Good\",\"Good\",\"Good\",\"Good\",\"Good\",\"Good\",\"bad\",\"bad\",\"Good\",\"Good\",\"Neuter\",\"Good\",\"Good\",\"Good\",\"Neuter\",\"Good\",\"Neuter\",\"Good\",\"Good\",\"Very bad\",\"Good\",\"Very good\",\"Good\",\"Very good\",\"Good\",\"Very good\",\"Good\",\"Good\",\"bad\",\"Neuter\",\"Very good\",\"Good\",\"Neuter\",\"Good\",\"Good\",\"Good\",\"Good\",\"Good\",\"Very good\",\"Neuter\",\"Good\",\"Good\",\"Good\",\"Neuter\",\"Good\",\"Neuter\",\"Good\",\"Good\",\"Neuter\",\"Very good\",\"Good\",\"Good\",\"Good\",\"Good\",\"Good\",\"Good\",\"Good\",\"Good\",\"Good\",\"Good\",\"Good\",\"Good\",\"Good\",\"Good\",\"Good\",\"Neuter\",\"Neuter\",\"Good\",\"Good\",\"Neuter\",\"Good\",\"Good\",\"Neuter\",\"Good\",\"Good\",\"Good\",\"Good\",\"Good\",\"Very good\",\"Very good\",\"Good\",\"bad\",\"Good\",\"Good\",\"Good\",\"Good\",\"Good\",\"Good\",\"Good\",\"Good\",\"Good\",\"Good\",\"Good\",\"Good\",\"bad\",\"Neuter\",\"Good\",\"Good\",\"Very good\",\"Good\",\"Good\",\"Good\",\"Good\",\"Neuter\",\"Good\",\"Very good\",\"Good\",\"Good\",\"Good\",\"Neuter\",\"Very good\",\"Good\",\"Good\",\"bad\",\"Good\",\"Good\",\"Neuter\",\"Good\",\"Good\",\"bad\",\"Very good\",\"Good\",\"Very good\",\"Good\",\"Good\",\"Very good\",\"Good\",\"Very good\",\"Very good\",\"Good\",\"Good\",\"Very good\",\"Good\",\"bad\",\"bad\",\"Very good\",\"Good\",\"Good\",\"Good\",\"Good\",\"Neuter\",\"Good\",\"Good\",\"Very good\",\"Very good\",\"Neuter\",\"Very good\",\"Neuter\",\"Good\",\"Good\",\"Good\",\"Good\",\"Good\",\"Good\",\"Good\",\"Good\",\"Good\",\"Good\",\"Good\",\"Good\",\"Good\",\"Neuter\",\"Good\",\"Neuter\",\"Neuter\",\"Good\",\"Good\",\"Neuter\",\"Neuter\",\"Neuter\",\"Neuter\",\"Very bad\",\"Neuter\",\"Neuter\",\"Very good\",\"Very good\",\"Good\",\"Neuter\",\"Good\",\"Neuter\",\"Neuter\",\"bad\",\"Good\",\"Good\",\"Good\",\"Good\",\"Neuter\",\"Neuter\",\"bad\",\"Good\",\"Good\",\"Good\",\"bad\",\"Neuter\",\"Good\",\"Very good\",\"Good\",\"Good\",\"Good\",\"bad\",\"Good\",\"Good\",\"Good\",\"Good\",\"Very good\",\"Good\",\"Neuter\",\"Very good\",\"Neuter\",\"Neuter\",\"Good\",\"Good\",\"Good\",\"Good\",\"Good\",\"Good\",\"Very good\",\"Good\",\"Good\",\"Good\",\"Neuter\",\"Good\",\"Good\",\"Good\",\"Very good\",\"Good\",\"bad\",\"Very good\",\"Good\",\"Good\",\"Good\",\"Good\",\"Very good\",\"Good\",\"Neuter\",\"Good\",\"Good\",\"Good\",\"Good\",\"Good\",\"Good\",\"Good\",\"Very good\",\"Very good\",\"Neuter\",\"Very good\",\"Good\",\"bad\",\"Good\",\"Good\",\"Good\",\"Good\",\"Good\",\"Good\",\"Neuter\",\"Good\",\"Good\",\"Very good\",\"Good\",\"Good\",\"Good\",\"Neuter\",\"Good\",\"Good\",\"Very good\",\"Good\",\"Good\",\"Good\",\"Good\",\"Good\",\"Good\",\"Good\",\"Neuter\",\"Good\",\"Good\",\"Good\",\"Good\",\"Good\",\"Good\",\"Good\",\"Good\",\"Very good\",\"Very good\",\"Good\",\"Good\",\"Neuter\",\"Good\",\"Very good\",\"Good\",\"Good\",\"Good\",\"Good\",\"Very good\",\"Good\",\"Good\",\"Very good\",\"Very good\",\"Good\",\"Neuter\",\"Good\",\"Good\",\"Good\",\"Good\",\"Very good\",\"Good\",\"Good\",\"Good\",\"Good\",\"Neuter\",\"Neuter\",\"Good\",\"Good\",\"Good\",\"Very good\",\"Good\",\"Good\",\"Good\",\"Neuter\",\"Good\",\"Good\",\"Good\",\"Good\",\"Good\",\"Good\",\"Neuter\",\"Good\",\"Good\",\"Very good\",\"Good\",\"Very good\",\"Good\",\"Good\",\"Good\",\"Very good\",\"Very good\",\"Neuter\",\"Good\",\"Neuter\",\"Good\",\"Neuter\",\"Good\",\"Good\",\"Neuter\",\"Neuter\",\"Neuter\",\"Good\",\"Good\",\"Good\",\"Good\",\"Good\",\"Very good\",\"Good\",\"Good\",\"Neuter\",\"Good\",\"Neuter\",\"Good\",\"Good\",\"Good\",\"Good\",\"Neuter\",\"Good\",\"Neuter\",\"Neuter\",\"Neuter\",\"bad\",\"Neuter\",\"Neuter\",\"Good\",\"Good\",\"Good\",\"Good\",\"Good\",\"Good\",\"Neuter\",\"Good\",\"bad\",\"Good\",\"Good\",\"Neuter\",\"Good\",\"Good\",\"Good\",\"Good\",\"Good\",\"Good\",\"Good\",\"Good\",\"Good\",\"Good\",\"Good\",\"Good\",\"Good\",\"Good\",\"Neuter\",\"Good\",\"Neuter\",\"Good\",\"Good\",\"Good\",\"bad\",\"Very good\",\"Neuter\",\"Good\",\"Good\",\"Very good\",\"Neuter\",\"Good\",\"Neuter\",\"Neuter\",\"Good\",\"Neuter\",\"Good\",\"Good\",\"Neuter\",\"Good\",\"Good\",\"Good\",\"Very good\",\"Good\",\"Good\",\"Good\",\"Very good\",\"Neuter\",\"Neuter\",\"Good\",\"Good\",\"Good\",\"Good\",\"Good\",\"Good\",\"Good\",\"Good\",\"Neuter\",\"Good\",\"Very good\",\"Good\",\"Good\",\"Neuter\",\"Neuter\",\"Neuter\",\"Good\",\"Good\",\"Very good\",\"Good\",\"Neuter\",\"Neuter\",\"Good\",\"Good\",\"Neuter\",\"Good\",\"Very good\",\"Good\",\"Good\",\"Good\",\"Good\",\"Good\",\"bad\",\"Good\",\"Neuter\",\"Good\",\"Good\",\"Good\",\"Good\",\"Good\",\"Neuter\",\"Good\",\"Good\",\"Good\",\"Good\",\"Good\",\"Good\",\"Good\",\"Good\",\"Very good\",\"Good\",\"Good\",\"Neuter\",\"Good\",\"Good\",\"Very good\",\"Good\",\"Good\",\"Good\",\"Good\",\"Good\",\"Good\",\"Good\",\"Neuter\",\"Very good\",\"Good\",\"Good\",\"Good\",\"Good\",\"Good\",\"Good\",\"Good\",\"Neuter\",\"Neuter\",\"Good\",\"Neuter\",\"Good\",\"Good\",\"Good\",\"Neuter\",\"Neuter\",\"Good\",\"Good\",\"Very good\",\"Neuter\",\"Good\",\"Good\",\"Good\",\"Good\",\"Good\",\"Good\",\"Very good\",\"bad\",\"Good\",\"Good\",\"Good\",\"Good\",\"Good\",\"Good\",\"bad\",\"Good\",\"Good\",\"Good\",\"Good\",\"Good\",\"Neuter\",\"Good\",\"Neuter\",\"Good\",\"Very good\",\"Neuter\",\"bad\",\"Good\",\"Good\",\"Good\",\"Neuter\",\"Neuter\",\"Good\",\"Good\",\"Very good\",\"Very good\",\"Good\",\"Good\",\"Good\",\"Good\",\"Good\",\"Neuter\",\"Good\",\"Very good\",\"Good\",\"Good\",\"Good\",\"Good\",\"Neuter\",\"Neuter\",\"Very good\",\"Neuter\",\"Good\",\"Good\",\"Good\",\"Very good\",\"Good\",\"Neuter\",\"Good\",\"Good\",\"Good\",\"Very good\",\"Neuter\",\"Good\",\"Good\",\"Good\",\"Very good\",\"Good\",\"Good\",\"Good\",\"Neuter\",\"Good\",\"Good\",\"Good\",\"Neuter\",\"Good\",\"Very good\",\"Good\",\"bad\",\"Good\",\"Good\",\"Good\",\"Good\",\"bad\",\"Very good\",\"Good\",\"Good\",\"Very good\",\"Good\",\"Good\",\"Good\",\"Good\",\"Good\",\"Good\",\"Good\",\"Good\",\"Very good\",\"Good\",\"Neuter\",\"Good\",\"Very good\",\"Very good\",\"Good\",\"Good\",\"Good\",\"Good\",\"Good\",\"Good\",\"Good\",\"Good\",\"Very good\",\"Good\",\"Good\",\"Good\",\"Neuter\",\"Good\"],\"xaxis\":\"x\",\"yaxis\":\"y\"}],                        {\"barmode\":\"relative\",\"legend\":{\"title\":{\"text\":\"variable\"},\"tracegroupgap\":0},\"template\":{\"data\":{\"bar\":[{\"error_x\":{\"color\":\"#2a3f5f\"},\"error_y\":{\"color\":\"#2a3f5f\"},\"marker\":{\"line\":{\"color\":\"#E5ECF6\",\"width\":0.5},\"pattern\":{\"fillmode\":\"overlay\",\"size\":10,\"solidity\":0.2}},\"type\":\"bar\"}],\"barpolar\":[{\"marker\":{\"line\":{\"color\":\"#E5ECF6\",\"width\":0.5},\"pattern\":{\"fillmode\":\"overlay\",\"size\":10,\"solidity\":0.2}},\"type\":\"barpolar\"}],\"carpet\":[{\"aaxis\":{\"endlinecolor\":\"#2a3f5f\",\"gridcolor\":\"white\",\"linecolor\":\"white\",\"minorgridcolor\":\"white\",\"startlinecolor\":\"#2a3f5f\"},\"baxis\":{\"endlinecolor\":\"#2a3f5f\",\"gridcolor\":\"white\",\"linecolor\":\"white\",\"minorgridcolor\":\"white\",\"startlinecolor\":\"#2a3f5f\"},\"type\":\"carpet\"}],\"choropleth\":[{\"colorbar\":{\"outlinewidth\":0,\"ticks\":\"\"},\"type\":\"choropleth\"}],\"contour\":[{\"colorbar\":{\"outlinewidth\":0,\"ticks\":\"\"},\"colorscale\":[[0.0,\"#0d0887\"],[0.1111111111111111,\"#46039f\"],[0.2222222222222222,\"#7201a8\"],[0.3333333333333333,\"#9c179e\"],[0.4444444444444444,\"#bd3786\"],[0.5555555555555556,\"#d8576b\"],[0.6666666666666666,\"#ed7953\"],[0.7777777777777778,\"#fb9f3a\"],[0.8888888888888888,\"#fdca26\"],[1.0,\"#f0f921\"]],\"type\":\"contour\"}],\"contourcarpet\":[{\"colorbar\":{\"outlinewidth\":0,\"ticks\":\"\"},\"type\":\"contourcarpet\"}],\"heatmap\":[{\"colorbar\":{\"outlinewidth\":0,\"ticks\":\"\"},\"colorscale\":[[0.0,\"#0d0887\"],[0.1111111111111111,\"#46039f\"],[0.2222222222222222,\"#7201a8\"],[0.3333333333333333,\"#9c179e\"],[0.4444444444444444,\"#bd3786\"],[0.5555555555555556,\"#d8576b\"],[0.6666666666666666,\"#ed7953\"],[0.7777777777777778,\"#fb9f3a\"],[0.8888888888888888,\"#fdca26\"],[1.0,\"#f0f921\"]],\"type\":\"heatmap\"}],\"heatmapgl\":[{\"colorbar\":{\"outlinewidth\":0,\"ticks\":\"\"},\"colorscale\":[[0.0,\"#0d0887\"],[0.1111111111111111,\"#46039f\"],[0.2222222222222222,\"#7201a8\"],[0.3333333333333333,\"#9c179e\"],[0.4444444444444444,\"#bd3786\"],[0.5555555555555556,\"#d8576b\"],[0.6666666666666666,\"#ed7953\"],[0.7777777777777778,\"#fb9f3a\"],[0.8888888888888888,\"#fdca26\"],[1.0,\"#f0f921\"]],\"type\":\"heatmapgl\"}],\"histogram\":[{\"marker\":{\"pattern\":{\"fillmode\":\"overlay\",\"size\":10,\"solidity\":0.2}},\"type\":\"histogram\"}],\"histogram2d\":[{\"colorbar\":{\"outlinewidth\":0,\"ticks\":\"\"},\"colorscale\":[[0.0,\"#0d0887\"],[0.1111111111111111,\"#46039f\"],[0.2222222222222222,\"#7201a8\"],[0.3333333333333333,\"#9c179e\"],[0.4444444444444444,\"#bd3786\"],[0.5555555555555556,\"#d8576b\"],[0.6666666666666666,\"#ed7953\"],[0.7777777777777778,\"#fb9f3a\"],[0.8888888888888888,\"#fdca26\"],[1.0,\"#f0f921\"]],\"type\":\"histogram2d\"}],\"histogram2dcontour\":[{\"colorbar\":{\"outlinewidth\":0,\"ticks\":\"\"},\"colorscale\":[[0.0,\"#0d0887\"],[0.1111111111111111,\"#46039f\"],[0.2222222222222222,\"#7201a8\"],[0.3333333333333333,\"#9c179e\"],[0.4444444444444444,\"#bd3786\"],[0.5555555555555556,\"#d8576b\"],[0.6666666666666666,\"#ed7953\"],[0.7777777777777778,\"#fb9f3a\"],[0.8888888888888888,\"#fdca26\"],[1.0,\"#f0f921\"]],\"type\":\"histogram2dcontour\"}],\"mesh3d\":[{\"colorbar\":{\"outlinewidth\":0,\"ticks\":\"\"},\"type\":\"mesh3d\"}],\"parcoords\":[{\"line\":{\"colorbar\":{\"outlinewidth\":0,\"ticks\":\"\"}},\"type\":\"parcoords\"}],\"pie\":[{\"automargin\":true,\"type\":\"pie\"}],\"scatter\":[{\"marker\":{\"colorbar\":{\"outlinewidth\":0,\"ticks\":\"\"}},\"type\":\"scatter\"}],\"scatter3d\":[{\"line\":{\"colorbar\":{\"outlinewidth\":0,\"ticks\":\"\"}},\"marker\":{\"colorbar\":{\"outlinewidth\":0,\"ticks\":\"\"}},\"type\":\"scatter3d\"}],\"scattercarpet\":[{\"marker\":{\"colorbar\":{\"outlinewidth\":0,\"ticks\":\"\"}},\"type\":\"scattercarpet\"}],\"scattergeo\":[{\"marker\":{\"colorbar\":{\"outlinewidth\":0,\"ticks\":\"\"}},\"type\":\"scattergeo\"}],\"scattergl\":[{\"marker\":{\"colorbar\":{\"outlinewidth\":0,\"ticks\":\"\"}},\"type\":\"scattergl\"}],\"scattermapbox\":[{\"marker\":{\"colorbar\":{\"outlinewidth\":0,\"ticks\":\"\"}},\"type\":\"scattermapbox\"}],\"scatterpolar\":[{\"marker\":{\"colorbar\":{\"outlinewidth\":0,\"ticks\":\"\"}},\"type\":\"scatterpolar\"}],\"scatterpolargl\":[{\"marker\":{\"colorbar\":{\"outlinewidth\":0,\"ticks\":\"\"}},\"type\":\"scatterpolargl\"}],\"scatterternary\":[{\"marker\":{\"colorbar\":{\"outlinewidth\":0,\"ticks\":\"\"}},\"type\":\"scatterternary\"}],\"surface\":[{\"colorbar\":{\"outlinewidth\":0,\"ticks\":\"\"},\"colorscale\":[[0.0,\"#0d0887\"],[0.1111111111111111,\"#46039f\"],[0.2222222222222222,\"#7201a8\"],[0.3333333333333333,\"#9c179e\"],[0.4444444444444444,\"#bd3786\"],[0.5555555555555556,\"#d8576b\"],[0.6666666666666666,\"#ed7953\"],[0.7777777777777778,\"#fb9f3a\"],[0.8888888888888888,\"#fdca26\"],[1.0,\"#f0f921\"]],\"type\":\"surface\"}],\"table\":[{\"cells\":{\"fill\":{\"color\":\"#EBF0F8\"},\"line\":{\"color\":\"white\"}},\"header\":{\"fill\":{\"color\":\"#C8D4E3\"},\"line\":{\"color\":\"white\"}},\"type\":\"table\"}]},\"layout\":{\"annotationdefaults\":{\"arrowcolor\":\"#2a3f5f\",\"arrowhead\":0,\"arrowwidth\":1},\"autotypenumbers\":\"strict\",\"coloraxis\":{\"colorbar\":{\"outlinewidth\":0,\"ticks\":\"\"}},\"colorscale\":{\"diverging\":[[0,\"#8e0152\"],[0.1,\"#c51b7d\"],[0.2,\"#de77ae\"],[0.3,\"#f1b6da\"],[0.4,\"#fde0ef\"],[0.5,\"#f7f7f7\"],[0.6,\"#e6f5d0\"],[0.7,\"#b8e186\"],[0.8,\"#7fbc41\"],[0.9,\"#4d9221\"],[1,\"#276419\"]],\"sequential\":[[0.0,\"#0d0887\"],[0.1111111111111111,\"#46039f\"],[0.2222222222222222,\"#7201a8\"],[0.3333333333333333,\"#9c179e\"],[0.4444444444444444,\"#bd3786\"],[0.5555555555555556,\"#d8576b\"],[0.6666666666666666,\"#ed7953\"],[0.7777777777777778,\"#fb9f3a\"],[0.8888888888888888,\"#fdca26\"],[1.0,\"#f0f921\"]],\"sequentialminus\":[[0.0,\"#0d0887\"],[0.1111111111111111,\"#46039f\"],[0.2222222222222222,\"#7201a8\"],[0.3333333333333333,\"#9c179e\"],[0.4444444444444444,\"#bd3786\"],[0.5555555555555556,\"#d8576b\"],[0.6666666666666666,\"#ed7953\"],[0.7777777777777778,\"#fb9f3a\"],[0.8888888888888888,\"#fdca26\"],[1.0,\"#f0f921\"]]},\"colorway\":[\"#636efa\",\"#EF553B\",\"#00cc96\",\"#ab63fa\",\"#FFA15A\",\"#19d3f3\",\"#FF6692\",\"#B6E880\",\"#FF97FF\",\"#FECB52\"],\"font\":{\"color\":\"#2a3f5f\"},\"geo\":{\"bgcolor\":\"white\",\"lakecolor\":\"white\",\"landcolor\":\"#E5ECF6\",\"showlakes\":true,\"showland\":true,\"subunitcolor\":\"white\"},\"hoverlabel\":{\"align\":\"left\"},\"hovermode\":\"closest\",\"mapbox\":{\"style\":\"light\"},\"paper_bgcolor\":\"white\",\"plot_bgcolor\":\"#E5ECF6\",\"polar\":{\"angularaxis\":{\"gridcolor\":\"white\",\"linecolor\":\"white\",\"ticks\":\"\"},\"bgcolor\":\"#E5ECF6\",\"radialaxis\":{\"gridcolor\":\"white\",\"linecolor\":\"white\",\"ticks\":\"\"}},\"scene\":{\"xaxis\":{\"backgroundcolor\":\"#E5ECF6\",\"gridcolor\":\"white\",\"gridwidth\":2,\"linecolor\":\"white\",\"showbackground\":true,\"ticks\":\"\",\"zerolinecolor\":\"white\"},\"yaxis\":{\"backgroundcolor\":\"#E5ECF6\",\"gridcolor\":\"white\",\"gridwidth\":2,\"linecolor\":\"white\",\"showbackground\":true,\"ticks\":\"\",\"zerolinecolor\":\"white\"},\"zaxis\":{\"backgroundcolor\":\"#E5ECF6\",\"gridcolor\":\"white\",\"gridwidth\":2,\"linecolor\":\"white\",\"showbackground\":true,\"ticks\":\"\",\"zerolinecolor\":\"white\"}},\"shapedefaults\":{\"line\":{\"color\":\"#2a3f5f\"}},\"ternary\":{\"aaxis\":{\"gridcolor\":\"white\",\"linecolor\":\"white\",\"ticks\":\"\"},\"baxis\":{\"gridcolor\":\"white\",\"linecolor\":\"white\",\"ticks\":\"\"},\"bgcolor\":\"#E5ECF6\",\"caxis\":{\"gridcolor\":\"white\",\"linecolor\":\"white\",\"ticks\":\"\"}},\"title\":{\"x\":0.05},\"xaxis\":{\"automargin\":true,\"gridcolor\":\"white\",\"linecolor\":\"white\",\"ticks\":\"\",\"title\":{\"standoff\":15},\"zerolinecolor\":\"white\",\"zerolinewidth\":2},\"yaxis\":{\"automargin\":true,\"gridcolor\":\"white\",\"linecolor\":\"white\",\"ticks\":\"\",\"title\":{\"standoff\":15},\"zerolinecolor\":\"white\",\"zerolinewidth\":2}}},\"title\":{\"text\":\"Humor Distribution\"},\"xaxis\":{\"anchor\":\"y\",\"domain\":[0.0,1.0],\"title\":{\"text\":\"value\"}},\"yaxis\":{\"anchor\":\"x\",\"domain\":[0.0,1.0],\"title\":{\"text\":\"count\"}}},                        {\"responsive\": true}                    ).then(function(){\n",
       "                            \n",
       "var gd = document.getElementById('314aa4a5-0ed5-4232-91af-3d51398089d2');\n",
       "var x = new MutationObserver(function (mutations, observer) {{\n",
       "        var display = window.getComputedStyle(gd).display;\n",
       "        if (!display || display === 'none') {{\n",
       "            console.log([gd, 'removed!']);\n",
       "            Plotly.purge(gd);\n",
       "            observer.disconnect();\n",
       "        }}\n",
       "}});\n",
       "\n",
       "// Listen for the removal of the full notebook cells\n",
       "var notebookContainer = gd.closest('#notebook-container');\n",
       "if (notebookContainer) {{\n",
       "    x.observe(notebookContainer, {childList: true});\n",
       "}}\n",
       "\n",
       "// Listen for the clearing of the current output cell\n",
       "var outputEl = gd.closest('.output');\n",
       "if (outputEl) {{\n",
       "    x.observe(outputEl, {childList: true});\n",
       "}}\n",
       "\n",
       "                        })                };                });            </script>        </div>"
      ]
     },
     "metadata": {},
     "output_type": "display_data"
    }
   ],
   "source": [
    "px.histogram(df3['Humor'], title='Humor Distribution')"
   ]
  },
  {
   "cell_type": "code",
   "execution_count": 13,
   "id": "69dddf3c",
   "metadata": {
    "execution": {
     "iopub.execute_input": "2021-08-14T13:09:04.990720Z",
     "iopub.status.busy": "2021-08-14T13:09:04.989721Z",
     "iopub.status.idle": "2021-08-14T13:09:05.062818Z",
     "shell.execute_reply": "2021-08-14T13:09:05.063388Z",
     "shell.execute_reply.started": "2021-08-14T13:05:34.333851Z"
    },
    "papermill": {
     "duration": 0.127432,
     "end_time": "2021-08-14T13:09:05.063570",
     "exception": false,
     "start_time": "2021-08-14T13:09:04.936138",
     "status": "completed"
    },
    "tags": []
   },
   "outputs": [
    {
     "data": {
      "text/html": [
       "<div>                            <div id=\"994b1c5c-561a-43f9-8341-47d9c938058b\" class=\"plotly-graph-div\" style=\"height:525px; width:100%;\"></div>            <script type=\"text/javascript\">                require([\"plotly\"], function(Plotly) {                    window.PLOTLYENV=window.PLOTLYENV || {};                                    if (document.getElementById(\"994b1c5c-561a-43f9-8341-47d9c938058b\")) {                    Plotly.newPlot(                        \"994b1c5c-561a-43f9-8341-47d9c938058b\",                        [{\"alignmentgroup\":\"True\",\"bingroup\":\"x\",\"hovertemplate\":\"variable=HelpfulnessNumerator<br>value=%{x}<br>count=%{y}<extra></extra>\",\"legendgroup\":\"HelpfulnessNumerator\",\"marker\":{\"color\":\"#636efa\",\"pattern\":{\"shape\":\"\"}},\"name\":\"HelpfulnessNumerator\",\"offsetgroup\":\"HelpfulnessNumerator\",\"orientation\":\"v\",\"showlegend\":true,\"type\":\"histogram\",\"x\":[1,0,1,3,0,0,0,0,1,0,1,4,1,2,4,4,0,0,0,0,0,0,0,0,0,0,0,0,0,1,0,0,19,13,9,3,2,1,0,0,0,0,0,0,0,0,0,1,1,0,0,4,1,0,2,0,2,1,0,0,2,0,2,3,1,1,0,0,0,0,2,1,0,0,0,0,0,0,0,0,1,1,15,5,4,4,1,1,1,0,0,0,0,0,0,0,0,0,0,0,4,2,0,0,0,0,2,2,1,0,2,3,2,1,0,0,2,0,5,4,4,2,1,1,0,0,0,4,4,3,1,2,0,0,0,0,0,0,0,0,0,0,0,0,0,2,2,0,0,3,0,0,0,1,1,0,1,0,17,3,2,1,0,0,0,1,2,1,1,0,0,3,3,0,5,1,0,0,0,8,6,1,0,3,3,0,2,0,1,0,0,0,0,2,2,1,3,2,2,0,0,0,0,0,1,1,0,1,0,2,2,1,0,3,0,0,1,0,5,3,0,0,0,0,1,0,1,1,1,0,0,0,0,0,0,0,0,0,0,0,3,1,1,2,0,1,1,0,0,0,2,0,0,0,1,3,0,2,1,0,1,1,2,4,6,1,1,0,0,0,0,0,0,0,0,0,1,0,0,0,0,0,0,3,1,1,0,13,6,7,6,3,3,3,5,2,2,1,1,2,0,0,0,0,0,1,0,0,3,2,1,0,1,0,0,0,0,0,0,0,1,4,0,1,5,0,0,0,0,0,0,0,0,1,0,0,0,1,0,2,0,0,0,0,0,0,0,1,1,1,0,0,0,3,2,0,7,1,0,3,2,0,0,1,1,0,0,0,2,1,0,0,0,0,0,2,5,2,0,0,1,7,2,0,1,0,0,0,0,0,1,1,2,0,2,1,1,1,1,0,1,1,0,0,1,6,3,0,1,0,0,0,0,0,0,1,0,0,0,0,0,0,0,0,0,0,0,0,0,0,0,0,0,0,0,0,0,0,0,0,0,0,0,0,0,0,0,0,0,0,0,0,0,0,0,0,0,0,0,0,0,0,0,0,0,0,0,0,0,0,0,0,0,0,0,0,0,0,0,0,0,0,0,0,0,0,0,0,0,0,0,0,0,0,0,0,0,0,0,0,0,3,1,1,1,1,1,1,1,4,2,0,0,0,0,0,0,0,0,0,0,0,43,13,14,4,4,11,20,3,3,3,0,0,0,3,1,1,1,1,1,4,2,0,0,0,1,1,1,1,2,3,1,1,2,0,0,1,0,3,7,7,7,7,7,7,2,2,2,2,2,2,2,2,2,2,4,4,1,1,1,1,1,1,1,1,1,1,1,1,1,1,1,1,1,1,1,1,1,1,1,1,1,1,1,1,1,1,1,1,1,1,1,1,1,3,3,3,3,3,5,5,5,2,2,2,2,2,2,2,2,0,0,0,0,0,0,0,0,0,0,0,0,0,0,0,0,1,0,0,0,0,0,27,12,8,1,1,1,0,0,0,0,0,0,0,0,0,0,0,0,0,1,0,4,5,2,2,2,2,4,4,1,1,1,1,3,3,2,2,0,0,0,0,0,0,0,0,0,0,0,0,0,0,0,0,0,0,0,0,0,0,0,0,0,1,6,0,0,0,0,0,0,3,0,1,0,0,0,0,2,2,0,1,0,2,1,1,0,0,0,0,4,1,2,5,2,0,1,5,0,10,2,1,0,0,0,0,0,0,0,0,4,1,0,0,0,0,0,1,3,0,0,0,0,1,0,0,1,0,0,3,3,1,1,2,0,0,1,1,2,1,1,0,3,1,0,0,0,0,0,0,0,9,9,2,1,1,0,0,0,0,2,3,0,0,2,4,2,2,2,2,1,1,1,0,0,16,12,4,0,11,7,9,1,0,0,0,0,0,0,0,0,0,0,0,0,2,1,1,1,4,2,2,0,0,5,2,2,2,2,2,1,1,1,1,1,0,0,0,0,1,7,3,3,2,2,0,0,0,0,0,0,0,0,0,0,0,0,0,0,1,0,0,1,0,0,0,0,8,6,5,4,3,1,1,1,1,1,1,1,1,1,1,1,1,0,0,0,0,0,0,0,0,0,0,0,0,0,0,0,0,0,0,0,0,0,0,0,0,1,1,1,0,0,0,1,0,0,0,1,1,1,4,3,2,1,1,2,0,0,0,1,1,0,0,0,0,3,1,2,1,0,7,3,1,1,0,0,0,0,3,0,0,0,0,0,2,2,2,2,2,2,2,2,1,1,1,1,2],\"xaxis\":\"x\",\"yaxis\":\"y\"}],                        {\"barmode\":\"relative\",\"legend\":{\"title\":{\"text\":\"variable\"},\"tracegroupgap\":0},\"template\":{\"data\":{\"bar\":[{\"error_x\":{\"color\":\"#2a3f5f\"},\"error_y\":{\"color\":\"#2a3f5f\"},\"marker\":{\"line\":{\"color\":\"#E5ECF6\",\"width\":0.5},\"pattern\":{\"fillmode\":\"overlay\",\"size\":10,\"solidity\":0.2}},\"type\":\"bar\"}],\"barpolar\":[{\"marker\":{\"line\":{\"color\":\"#E5ECF6\",\"width\":0.5},\"pattern\":{\"fillmode\":\"overlay\",\"size\":10,\"solidity\":0.2}},\"type\":\"barpolar\"}],\"carpet\":[{\"aaxis\":{\"endlinecolor\":\"#2a3f5f\",\"gridcolor\":\"white\",\"linecolor\":\"white\",\"minorgridcolor\":\"white\",\"startlinecolor\":\"#2a3f5f\"},\"baxis\":{\"endlinecolor\":\"#2a3f5f\",\"gridcolor\":\"white\",\"linecolor\":\"white\",\"minorgridcolor\":\"white\",\"startlinecolor\":\"#2a3f5f\"},\"type\":\"carpet\"}],\"choropleth\":[{\"colorbar\":{\"outlinewidth\":0,\"ticks\":\"\"},\"type\":\"choropleth\"}],\"contour\":[{\"colorbar\":{\"outlinewidth\":0,\"ticks\":\"\"},\"colorscale\":[[0.0,\"#0d0887\"],[0.1111111111111111,\"#46039f\"],[0.2222222222222222,\"#7201a8\"],[0.3333333333333333,\"#9c179e\"],[0.4444444444444444,\"#bd3786\"],[0.5555555555555556,\"#d8576b\"],[0.6666666666666666,\"#ed7953\"],[0.7777777777777778,\"#fb9f3a\"],[0.8888888888888888,\"#fdca26\"],[1.0,\"#f0f921\"]],\"type\":\"contour\"}],\"contourcarpet\":[{\"colorbar\":{\"outlinewidth\":0,\"ticks\":\"\"},\"type\":\"contourcarpet\"}],\"heatmap\":[{\"colorbar\":{\"outlinewidth\":0,\"ticks\":\"\"},\"colorscale\":[[0.0,\"#0d0887\"],[0.1111111111111111,\"#46039f\"],[0.2222222222222222,\"#7201a8\"],[0.3333333333333333,\"#9c179e\"],[0.4444444444444444,\"#bd3786\"],[0.5555555555555556,\"#d8576b\"],[0.6666666666666666,\"#ed7953\"],[0.7777777777777778,\"#fb9f3a\"],[0.8888888888888888,\"#fdca26\"],[1.0,\"#f0f921\"]],\"type\":\"heatmap\"}],\"heatmapgl\":[{\"colorbar\":{\"outlinewidth\":0,\"ticks\":\"\"},\"colorscale\":[[0.0,\"#0d0887\"],[0.1111111111111111,\"#46039f\"],[0.2222222222222222,\"#7201a8\"],[0.3333333333333333,\"#9c179e\"],[0.4444444444444444,\"#bd3786\"],[0.5555555555555556,\"#d8576b\"],[0.6666666666666666,\"#ed7953\"],[0.7777777777777778,\"#fb9f3a\"],[0.8888888888888888,\"#fdca26\"],[1.0,\"#f0f921\"]],\"type\":\"heatmapgl\"}],\"histogram\":[{\"marker\":{\"pattern\":{\"fillmode\":\"overlay\",\"size\":10,\"solidity\":0.2}},\"type\":\"histogram\"}],\"histogram2d\":[{\"colorbar\":{\"outlinewidth\":0,\"ticks\":\"\"},\"colorscale\":[[0.0,\"#0d0887\"],[0.1111111111111111,\"#46039f\"],[0.2222222222222222,\"#7201a8\"],[0.3333333333333333,\"#9c179e\"],[0.4444444444444444,\"#bd3786\"],[0.5555555555555556,\"#d8576b\"],[0.6666666666666666,\"#ed7953\"],[0.7777777777777778,\"#fb9f3a\"],[0.8888888888888888,\"#fdca26\"],[1.0,\"#f0f921\"]],\"type\":\"histogram2d\"}],\"histogram2dcontour\":[{\"colorbar\":{\"outlinewidth\":0,\"ticks\":\"\"},\"colorscale\":[[0.0,\"#0d0887\"],[0.1111111111111111,\"#46039f\"],[0.2222222222222222,\"#7201a8\"],[0.3333333333333333,\"#9c179e\"],[0.4444444444444444,\"#bd3786\"],[0.5555555555555556,\"#d8576b\"],[0.6666666666666666,\"#ed7953\"],[0.7777777777777778,\"#fb9f3a\"],[0.8888888888888888,\"#fdca26\"],[1.0,\"#f0f921\"]],\"type\":\"histogram2dcontour\"}],\"mesh3d\":[{\"colorbar\":{\"outlinewidth\":0,\"ticks\":\"\"},\"type\":\"mesh3d\"}],\"parcoords\":[{\"line\":{\"colorbar\":{\"outlinewidth\":0,\"ticks\":\"\"}},\"type\":\"parcoords\"}],\"pie\":[{\"automargin\":true,\"type\":\"pie\"}],\"scatter\":[{\"marker\":{\"colorbar\":{\"outlinewidth\":0,\"ticks\":\"\"}},\"type\":\"scatter\"}],\"scatter3d\":[{\"line\":{\"colorbar\":{\"outlinewidth\":0,\"ticks\":\"\"}},\"marker\":{\"colorbar\":{\"outlinewidth\":0,\"ticks\":\"\"}},\"type\":\"scatter3d\"}],\"scattercarpet\":[{\"marker\":{\"colorbar\":{\"outlinewidth\":0,\"ticks\":\"\"}},\"type\":\"scattercarpet\"}],\"scattergeo\":[{\"marker\":{\"colorbar\":{\"outlinewidth\":0,\"ticks\":\"\"}},\"type\":\"scattergeo\"}],\"scattergl\":[{\"marker\":{\"colorbar\":{\"outlinewidth\":0,\"ticks\":\"\"}},\"type\":\"scattergl\"}],\"scattermapbox\":[{\"marker\":{\"colorbar\":{\"outlinewidth\":0,\"ticks\":\"\"}},\"type\":\"scattermapbox\"}],\"scatterpolar\":[{\"marker\":{\"colorbar\":{\"outlinewidth\":0,\"ticks\":\"\"}},\"type\":\"scatterpolar\"}],\"scatterpolargl\":[{\"marker\":{\"colorbar\":{\"outlinewidth\":0,\"ticks\":\"\"}},\"type\":\"scatterpolargl\"}],\"scatterternary\":[{\"marker\":{\"colorbar\":{\"outlinewidth\":0,\"ticks\":\"\"}},\"type\":\"scatterternary\"}],\"surface\":[{\"colorbar\":{\"outlinewidth\":0,\"ticks\":\"\"},\"colorscale\":[[0.0,\"#0d0887\"],[0.1111111111111111,\"#46039f\"],[0.2222222222222222,\"#7201a8\"],[0.3333333333333333,\"#9c179e\"],[0.4444444444444444,\"#bd3786\"],[0.5555555555555556,\"#d8576b\"],[0.6666666666666666,\"#ed7953\"],[0.7777777777777778,\"#fb9f3a\"],[0.8888888888888888,\"#fdca26\"],[1.0,\"#f0f921\"]],\"type\":\"surface\"}],\"table\":[{\"cells\":{\"fill\":{\"color\":\"#EBF0F8\"},\"line\":{\"color\":\"white\"}},\"header\":{\"fill\":{\"color\":\"#C8D4E3\"},\"line\":{\"color\":\"white\"}},\"type\":\"table\"}]},\"layout\":{\"annotationdefaults\":{\"arrowcolor\":\"#2a3f5f\",\"arrowhead\":0,\"arrowwidth\":1},\"autotypenumbers\":\"strict\",\"coloraxis\":{\"colorbar\":{\"outlinewidth\":0,\"ticks\":\"\"}},\"colorscale\":{\"diverging\":[[0,\"#8e0152\"],[0.1,\"#c51b7d\"],[0.2,\"#de77ae\"],[0.3,\"#f1b6da\"],[0.4,\"#fde0ef\"],[0.5,\"#f7f7f7\"],[0.6,\"#e6f5d0\"],[0.7,\"#b8e186\"],[0.8,\"#7fbc41\"],[0.9,\"#4d9221\"],[1,\"#276419\"]],\"sequential\":[[0.0,\"#0d0887\"],[0.1111111111111111,\"#46039f\"],[0.2222222222222222,\"#7201a8\"],[0.3333333333333333,\"#9c179e\"],[0.4444444444444444,\"#bd3786\"],[0.5555555555555556,\"#d8576b\"],[0.6666666666666666,\"#ed7953\"],[0.7777777777777778,\"#fb9f3a\"],[0.8888888888888888,\"#fdca26\"],[1.0,\"#f0f921\"]],\"sequentialminus\":[[0.0,\"#0d0887\"],[0.1111111111111111,\"#46039f\"],[0.2222222222222222,\"#7201a8\"],[0.3333333333333333,\"#9c179e\"],[0.4444444444444444,\"#bd3786\"],[0.5555555555555556,\"#d8576b\"],[0.6666666666666666,\"#ed7953\"],[0.7777777777777778,\"#fb9f3a\"],[0.8888888888888888,\"#fdca26\"],[1.0,\"#f0f921\"]]},\"colorway\":[\"#636efa\",\"#EF553B\",\"#00cc96\",\"#ab63fa\",\"#FFA15A\",\"#19d3f3\",\"#FF6692\",\"#B6E880\",\"#FF97FF\",\"#FECB52\"],\"font\":{\"color\":\"#2a3f5f\"},\"geo\":{\"bgcolor\":\"white\",\"lakecolor\":\"white\",\"landcolor\":\"#E5ECF6\",\"showlakes\":true,\"showland\":true,\"subunitcolor\":\"white\"},\"hoverlabel\":{\"align\":\"left\"},\"hovermode\":\"closest\",\"mapbox\":{\"style\":\"light\"},\"paper_bgcolor\":\"white\",\"plot_bgcolor\":\"#E5ECF6\",\"polar\":{\"angularaxis\":{\"gridcolor\":\"white\",\"linecolor\":\"white\",\"ticks\":\"\"},\"bgcolor\":\"#E5ECF6\",\"radialaxis\":{\"gridcolor\":\"white\",\"linecolor\":\"white\",\"ticks\":\"\"}},\"scene\":{\"xaxis\":{\"backgroundcolor\":\"#E5ECF6\",\"gridcolor\":\"white\",\"gridwidth\":2,\"linecolor\":\"white\",\"showbackground\":true,\"ticks\":\"\",\"zerolinecolor\":\"white\"},\"yaxis\":{\"backgroundcolor\":\"#E5ECF6\",\"gridcolor\":\"white\",\"gridwidth\":2,\"linecolor\":\"white\",\"showbackground\":true,\"ticks\":\"\",\"zerolinecolor\":\"white\"},\"zaxis\":{\"backgroundcolor\":\"#E5ECF6\",\"gridcolor\":\"white\",\"gridwidth\":2,\"linecolor\":\"white\",\"showbackground\":true,\"ticks\":\"\",\"zerolinecolor\":\"white\"}},\"shapedefaults\":{\"line\":{\"color\":\"#2a3f5f\"}},\"ternary\":{\"aaxis\":{\"gridcolor\":\"white\",\"linecolor\":\"white\",\"ticks\":\"\"},\"baxis\":{\"gridcolor\":\"white\",\"linecolor\":\"white\",\"ticks\":\"\"},\"bgcolor\":\"#E5ECF6\",\"caxis\":{\"gridcolor\":\"white\",\"linecolor\":\"white\",\"ticks\":\"\"}},\"title\":{\"x\":0.05},\"xaxis\":{\"automargin\":true,\"gridcolor\":\"white\",\"linecolor\":\"white\",\"ticks\":\"\",\"title\":{\"standoff\":15},\"zerolinecolor\":\"white\",\"zerolinewidth\":2},\"yaxis\":{\"automargin\":true,\"gridcolor\":\"white\",\"linecolor\":\"white\",\"ticks\":\"\",\"title\":{\"standoff\":15},\"zerolinecolor\":\"white\",\"zerolinewidth\":2}}},\"title\":{\"text\":\"Helpfulness Numerator\"},\"xaxis\":{\"anchor\":\"y\",\"domain\":[0.0,1.0],\"title\":{\"text\":\"value\"}},\"yaxis\":{\"anchor\":\"x\",\"domain\":[0.0,1.0],\"title\":{\"text\":\"count\"}}},                        {\"responsive\": true}                    ).then(function(){\n",
       "                            \n",
       "var gd = document.getElementById('994b1c5c-561a-43f9-8341-47d9c938058b');\n",
       "var x = new MutationObserver(function (mutations, observer) {{\n",
       "        var display = window.getComputedStyle(gd).display;\n",
       "        if (!display || display === 'none') {{\n",
       "            console.log([gd, 'removed!']);\n",
       "            Plotly.purge(gd);\n",
       "            observer.disconnect();\n",
       "        }}\n",
       "}});\n",
       "\n",
       "// Listen for the removal of the full notebook cells\n",
       "var notebookContainer = gd.closest('#notebook-container');\n",
       "if (notebookContainer) {{\n",
       "    x.observe(notebookContainer, {childList: true});\n",
       "}}\n",
       "\n",
       "// Listen for the clearing of the current output cell\n",
       "var outputEl = gd.closest('.output');\n",
       "if (outputEl) {{\n",
       "    x.observe(outputEl, {childList: true});\n",
       "}}\n",
       "\n",
       "                        })                };                });            </script>        </div>"
      ]
     },
     "metadata": {},
     "output_type": "display_data"
    }
   ],
   "source": [
    "px.histogram(df3['HelpfulnessNumerator'], title=\"Helpfulness Numerator\")"
   ]
  },
  {
   "cell_type": "code",
   "execution_count": 14,
   "id": "91cd989e",
   "metadata": {
    "execution": {
     "iopub.execute_input": "2021-08-14T13:09:05.170604Z",
     "iopub.status.busy": "2021-08-14T13:09:05.169646Z",
     "iopub.status.idle": "2021-08-14T13:09:05.275841Z",
     "shell.execute_reply": "2021-08-14T13:09:05.276282Z",
     "shell.execute_reply.started": "2021-08-14T13:05:34.413890Z"
    },
    "papermill": {
     "duration": 0.160657,
     "end_time": "2021-08-14T13:09:05.276481",
     "exception": false,
     "start_time": "2021-08-14T13:09:05.115824",
     "status": "completed"
    },
    "tags": []
   },
   "outputs": [
    {
     "data": {
      "text/html": [
       "<div>                            <div id=\"afe5d0c8-1d92-4218-8883-930dd42281de\" class=\"plotly-graph-div\" style=\"height:525px; width:100%;\"></div>            <script type=\"text/javascript\">                require([\"plotly\"], function(Plotly) {                    window.PLOTLYENV=window.PLOTLYENV || {};                                    if (document.getElementById(\"afe5d0c8-1d92-4218-8883-930dd42281de\")) {                    Plotly.newPlot(                        \"afe5d0c8-1d92-4218-8883-930dd42281de\",                        [{\"hovertemplate\":\"Humor=Good<br>Sentimento=%{x}<br>Helpfulness Numerator=%{y}<extra></extra>\",\"legendgroup\":\"Good\",\"marker\":{\"color\":\"#636efa\",\"symbol\":\"circle\"},\"mode\":\"markers\",\"name\":\"Good\",\"orientation\":\"v\",\"showlegend\":true,\"type\":\"scatter\",\"x\":[0.45,0.1335714285714286,0.16666666666666666,0.48333333333333334,0.25740740740740736,0.25083333333333335,0.48600000000000004,0.42857142857142855,0.44999999999999996,0.20859375,0.12992424242424241,0.225,0.4125,0.1284722222222222,0.24,0.4,0.11666666666666665,0.125,0.25,0.3214285714285714,0.14583333333333331,0.38636363636363635,0.20859375,0.2557692307692308,0.2205,0.3661538461538462,0.29333333333333333,0.2261904761904762,0.19791666666666669,0.159375,0.2,0.23194444444444443,0.4666666666666666,0.1708333333333333,0.475,0.3547619047619048,0.3625,0.17247474747474748,0.41825396825396827,0.13888888888888887,0.43333333333333335,0.26666666666666666,0.16499999999999998,0.3291666666666666,0.14907407407407408,0.1523095238095238,0.16374999999999998,0.29398148148148145,0.47433333333333333,0.16666666666666666,0.20000000000000004,0.27999999999999997,0.34750000000000003,0.475,0.1502267573696145,0.1854308390022676,0.23928571428571427,0.3729591836734694,0.2,0.20952380952380953,0.46190476190476193,0.18010204081632653,0.4,0.14925595238095235,0.109375,0.19742063492063494,0.12777777777777777,0.4000000000000001,0.1875,0.2357142857142857,0.40390625,0.3669701213818861,0.34500000000000003,0.11230769230769232,0.15000000000000002,0.35000000000000003,0.11962833914053429,0.2421875,0.20833333333333334,0.20535714285714285,0.3833333333333333,0.1111111111111111,0.20714285714285713,0.15333333333333335,0.25,0.4024305555555555,0.2352272727272727,0.18720238095238098,0.21979166666666666,0.2891666666666666,0.3696969696969697,0.21904761904761905,0.3318576388888889,0.16874999999999998,0.22666666666666666,0.2734848484848485,0.3066666666666667,0.31666666666666665,0.26666666666666666,0.45,0.17894345238095238,0.19955357142857144,0.2,0.35,0.2764835164835165,0.26666666666666666,0.33375,0.19999999999999998,0.3,0.4645833333333333,0.11249999999999998,0.19583333333333333,0.19369047619047622,0.18118279569892473,0.3266666666666666,0.10000000000000002,0.19846938775510203,0.3416666666666667,0.375,0.39974489795918366,0.1375,0.13333333333333333,0.2203125,0.2922222222222221,0.33888888888888885,0.2611111111111111,0.30833333333333335,0.1594047619047619,0.13458333333333333,0.2891564454064453,0.17760416666666667,0.125,0.2104166666666667,0.17958333333333334,0.11967592592592591,0.24185463659147868,0.11142857142857142,0.3302083333333333,0.3541666666666667,0.11166666666666666,0.3,0.2633333333333333,0.21523809523809526,0.12024705581157197,0.21383333333333332,0.30625,0.2325,0.39999999999999997,0.2557606837606837,0.16,0.26406250000000003,0.2555555555555556,0.21988304093567249,0.2000980392156863,0.25833333333333336,0.25,0.42857142857142855,0.47500000000000003,0.325,0.1923076923076923,0.33214285714285713,0.15865384615384615,0.35,0.3559259259259259,0.4699999999999999,0.3958333333333333,0.4117424242424242,0.3892857142857143,0.17777777777777778,0.2902777777777778,0.1043333333333333,0.15833333333333333,0.10650183150183151,0.14945887445887446,0.27,0.21481481481481482,0.16832386363636365,0.20694444444444446,0.149,0.30625,0.4585714285714286,0.17261904761904762,0.26666666666666666,0.13809523809523808,0.2333333333333333,0.15,0.22999999999999998,0.325,0.1625,0.2528769841269841,0.23333333333333336,0.2928571428571428,0.30333333333333334,0.22727272727272727,0.10909992784992785,0.2708333333333333,0.3936363636363637,0.459047619047619,0.2225,0.12626262626262624,0.15234375,0.3939393939393939,0.1313888888888889,0.24375,0.2916666666666667,0.46875,0.39666666666666667,0.4666666666666666,0.35833333333333334,0.11666666666666665,0.375,0.15,0.23988095238095236,0.36000000000000004,0.30124999999999996,0.40625,0.29250000000000004,0.17261904761904762,0.24708333333333332,0.1361111111111111,0.2142857142857143,0.2777551020408163,0.16833333333333336,0.3214285714285714,0.15,0.41500000000000004,0.2641666666666666,0.2755208333333333,0.2458333333333333,0.3333333333333333,0.17991758241758243,0.20511111111111113,0.3464285714285715,0.11166666666666666,0.24,0.45,0.2625,0.10999999999999999,0.38677248677248677,0.3495604395604396,0.1625,0.15266666666666667,0.25350000000000006,0.18269230769230768,0.4416666666666667,0.24000000000000005,0.2755555555555555,0.203125,0.27749999999999997,0.4077380952380953,0.14959207459207458,0.25,0.28250000000000003,0.22857142857142856,0.17878787878787877,0.38055555555555554,0.1314625850340136,0.419047619047619,0.29000000000000004,0.45017361111111115,0.23320802005012534,0.13333333333333333,0.125,0.17738095238095233,0.11481481481481483,0.20748299319727895,0.35833333333333334,0.21212121212121213,0.3958333333333333,0.35670995670995675,0.42857142857142855,0.4125,0.3194444444444445,0.4649305555555556,0.47500000000000003,0.38428571428571423,0.29370748299319727,0.1790719696969697,0.13402777777777775,0.24279513888888893,0.3416666666666667,0.23095238095238096,0.1863095238095238,0.3685714285714286,0.11199752628324057,0.10740740740740741,0.22227272727272726,0.3205357142857143,0.3359375,0.2677301864801865,0.2635288065843622,0.37,0.49000000000000005,0.3281666666666666,0.21666666666666667,0.4178571428571428,0.2542460317460317,0.4333333333333333,0.28750000000000003,0.2333333333333333,0.24285714285714285,0.16904761904761906,0.45,0.2642255892255892,0.3625,0.1625,0.2722222222222222,0.4,0.2704166666666667,0.23611111111111108,0.11481481481481481,0.1833333333333333,0.22063492063492063,0.4235294117647058,0.4604166666666667,0.3680555555555556,0.19444444444444445,0.3051020408163266,0.30357142857142855,0.13958333333333334,0.3706666666666667,0.396875,0.39999999999999997,0.3,0.4232142857142857,0.1013605442176871,0.13318181818181818,0.2290277777777778,0.3125,0.2883333333333334,0.2,0.2,0.16333333333333333,0.165,0.1544717553688141,0.19999999999999998,0.12857142857142856,0.4003367003367004,0.16666666666666666,0.13095238095238093,0.25,0.343939393939394,0.29642857142857143,0.2708333333333333,0.48214285714285715,0.13712121212121212,0.24722222222222223,0.19013492063492066,0.27400793650793653,0.2677301864801865,0.3666666666666667,0.13053385416666669,0.3633741258741259,0.2333333333333333,0.2625,0.19348958333333338,0.2555555555555556,0.10051020408163266,0.3248626373626374,0.35228174603174606,0.24041666666666664,0.33694444444444444,0.22938311688311688,0.25989010989010985,0.275,0.24893939393939393,0.42525341386554627,0.29478034188034186,0.2677301864801865,0.41500000000000004,0.2726190476190476,0.3265922619047619,0.1867216117216117,0.14444444444444446,0.225,0.3833333333333333,0.18970899470899472,0.2373737373737374,0.24983164983164985,0.22093301435406695,0.37481060606060607,0.24019607843137258,0.11686274509803918,0.2805555555555556,0.14275793650793647,0.3670068027210884,0.4028571428571429,0.30883333333333335,0.28529411764705886,0.3068181818181818,0.12573696145124716,0.16666666666666666,0.2916666666666667,0.1769230769230769,0.2633333333333333,0.28500000000000003,0.10539529914529915,0.3797008547008547,0.47222222222222227,0.375,0.27083333333333337,0.190625,0.24618247694334655,0.45833333333333337,0.27,0.1992049808429119,0.1358333333333333,0.22499999999999998,0.25,0.3316666666666667,0.185,0.13333333333333333,0.18616220735785954,0.2978787878787879,0.4107142857142857,0.38333333333333336,0.1025,0.1525,0.38,0.4109523809523809,0.35428571428571426,0.11785714285714284,0.3081632653061224,0.1602380952380952,0.16142316017316014,0.10833333333333334,0.49999999999999994,0.2666666666666667,0.30083333333333334,0.25192307692307697,0.195,0.307,0.24007936507936511,0.44375,0.49000000000000005,0.3466666666666667,0.13571428571428573,0.43125,0.48750000000000004,0.2833333333333333,0.325,0.3175,0.38020833333333337,0.44062500000000004,0.11666666666666667,0.16147959183673471,0.305,0.30740740740740746,0.13333333333333333,0.21151785714285715,0.3380681818181818,0.256171875,0.3666666666666667,0.10666384897154127,0.4180555555555556,0.3,0.1225,0.1767857142857143,0.11111111111111112,0.3375,0.11547049441786283,0.3833333333333333,0.3229166666666667,0.19090659340659347,0.22153333333333336,0.22808641975308644,0.3916666666666666,0.16666666666666666,0.13212095875139354,0.22750000000000004,0.43333333333333335,0.2597222222222222,0.38,0.4,0.41875,0.13999999999999999,0.27361111111111114,0.15523504273504274,0.19666666666666666,0.2708333333333333,0.4493827160493827,0.36718749999999994,0.1708241758241758,0.43333333333333335,0.125,0.36666666666666664,0.2642857142857143,0.40888888888888886,0.192,0.3152777777777778,0.10666666666666665,0.14666666666666667,0.24583333333333332,0.2125,0.10558035714285713,0.12857142857142856,0.21376262626262627,0.39375000000000004,0.38273809523809516,0.39999999999999997,0.4214285714285715,0.4611111111111111,0.2,0.22000000000000003,0.15705128205128208,0.3145,0.4866666666666667,0.26472222222222225,0.2866666666666667,0.4541666666666667,0.25,0.35625,0.3975,0.29047619047619044,0.4083333333333334,0.15416666666666667,0.4,0.16166666666666663,0.39042857142857146,0.2619047619047619,0.4,0.22499999999999998,0.2522943722943723,0.35153061224489796,0.19413919413919414,0.2285714285714286,0.17604166666666665,0.2843537414965987,0.2716346153846154,0.22000000000000003,0.24895833333333334,0.22291666666666665,0.32999999999999996,0.3357142857142857,0.35833333333333334,0.3,0.27999999999999997,0.1693452380952381,0.38375,0.4278571428571428,0.4375,0.23541666666666666,0.30833333333333335,0.39999999999999997,0.2299551638837353,0.43333333333333335,0.3416666666666666,0.15000000000000002,0.15172574955908288,0.3761904761904763,0.2230952380952381,0.14799999999999996,0.3,0.375,0.4216666666666667,0.1275894448688566,0.375,0.3131764069264069,0.23333333333333336,0.22537878787878787,0.30000000000000004,0.29464285714285715,0.1064814814814815,0.41875,0.22666666666666666,0.14583333333333334,0.409375,0.4247916666666667,0.48125,0.2176838235294118,0.13993055555555553,0.4394166666666666,0.2574285714285714,0.3206043956043955,0.2547619047619048,0.22500000000000003,0.44000000000000006,0.4375,0.16722222222222224,0.19863636363636364,0.2989583333333333,0.328125,0.2066575091575092,0.15,0.19055397727272727,0.38888888888888884,0.3022727272727273,0.24196428571428574,0.425,0.20750000000000002,0.37748917748917754,0.22972222222222224,0.44166666666666665,0.28750000000000003,0.25,0.2972222222222222,0.35,0.13999999999999999,0.2152777777777778,0.14305555555555557,0.3979166666666667,0.2218870957692464,0.33749999999999997,0.425,0.4458333333333333,0.221875,0.47500000000000003,0.36190476190476195,0.11708333333333334,0.43333333333333335,0.1351190476190476,0.11666666666666667,0.42870370370370364,0.3916666666666667,0.45999999999999996,0.275,0.10904720279720277,0.165,0.3277777777777778,0.11998511904761905,0.22406250000000005,0.3666666666666667,0.14204545454545453,0.2766208791208791,0.25007812500000004,0.41166666666666674,0.46875,0.20437074829931975,0.24545454545454545,0.2558333333333333,0.2666666666666667,0.4732142857142857,0.3288888888888889,0.35833333333333334,0.2546875,0.14,0.22977564102564105,0.278125,0.3416666666666667,0.15259026687598115],\"xaxis\":\"x\",\"y\":[1,1,3,0,0,0,0,1,0,1,1,4,0,0,0,0,0,0,0,0,0,0,1,0,19,13,9,3,2,0,0,0,0,0,0,1,4,2,0,2,0,2,0,3,1,0,2,1,0,0,0,0,1,1,15,5,4,4,1,1,0,0,0,0,0,0,2,0,0,2,1,0,3,2,2,0,5,4,0,4,1,2,0,0,0,0,0,0,0,0,0,0,2,0,0,0,0,0,0,17,0,0,0,3,0,5,1,0,0,0,6,0,3,2,0,0,0,0,2,1,3,2,0,0,1,1,0,1,0,2,2,0,0,0,5,3,0,0,0,0,0,0,0,0,0,0,3,1,1,0,0,0,2,3,1,0,1,1,1,0,0,0,0,0,1,0,0,0,0,3,1,0,13,6,6,3,3,1,2,0,0,0,0,3,2,0,0,0,0,0,0,1,0,5,0,0,0,1,1,2,0,0,0,0,0,1,0,0,0,3,2,0,7,1,0,3,2,0,1,0,2,1,0,0,2,5,2,0,0,2,0,0,0,0,0,1,2,2,1,1,1,1,6,0,1,0,0,0,0,1,0,0,0,0,0,0,0,0,0,0,0,0,0,0,0,0,0,0,0,0,0,0,0,0,0,0,0,0,0,0,0,0,0,0,0,0,0,0,0,0,0,0,0,0,0,0,0,0,0,0,0,0,0,0,0,0,0,0,0,0,0,1,1,1,2,0,0,0,0,0,43,13,14,4,4,11,20,3,3,3,0,0,0,1,1,1,2,1,0,1,0,3,7,7,7,2,2,2,2,2,2,4,4,1,1,1,1,1,1,1,1,1,1,1,1,1,1,1,1,1,1,1,1,1,1,1,1,1,3,5,5,2,2,2,2,2,2,2,0,0,0,0,0,0,0,0,0,0,0,0,1,0,0,0,0,0,27,12,1,1,0,0,0,0,0,0,0,0,0,4,5,2,2,2,4,4,1,1,3,2,2,0,0,0,0,0,0,0,0,0,0,0,0,0,0,0,0,1,0,0,0,0,3,1,0,0,2,2,0,1,2,4,1,2,5,2,0,5,10,2,0,0,0,0,0,0,0,0,4,1,0,0,0,0,1,0,0,0,0,1,3,1,0,0,1,2,1,0,3,1,0,0,0,0,9,9,2,1,0,0,0,0,2,2,2,1,1,0,16,12,4,0,7,1,0,0,0,0,0,0,0,0,0,0,0,2,1,1,2,2,0,5,2,2,2,2,2,1,1,1,0,0,0,0,3,2,2,0,0,0,0,0,0,0,0,0,0,0,1,0,0,0,8,6,5,4,3,1,1,1,1,1,0,0,0,0,0,0,0,0,0,0,0,0,0,0,0,1,1,0,0,0,0,0,1,1,4,2,1,1,0,0,1,0,0,0,1,2,0,7,3,1,1,0,0,0,3,0,0,2,2,2,2,2,2,2,1,1,1,2],\"yaxis\":\"y\"},{\"hovertemplate\":\"Humor=Neuter<br>Sentimento=%{x}<br>Helpfulness Numerator=%{y}<extra></extra>\",\"legendgroup\":\"Neuter\",\"marker\":{\"color\":\"#EF553B\",\"symbol\":\"circle\"},\"mode\":\"markers\",\"name\":\"Neuter\",\"orientation\":\"v\",\"showlegend\":true,\"type\":\"scatter\",\"x\":[-0.033333333333333326,0.012500000000000002,0.0,0.0,0.045138888888888895,0.0674769071508202,0.05,0.05222222222222221,0.03690476190476192,-0.03249999999999997,0.07783333333333332,0.0055484771962044785,0.0,0.07187499999999998,0.010714285714285723,0.013888888888888892,-0.05555555555555555,0.09500000000000004,-0.030173160173160168,0.06,0.0625,0.04848484848484849,0.09027777777777778,0.02416666666666667,0.03816137566137566,0.0671875,0.09333333333333332,0.05000000000000003,-0.031249999999999944,0.009999999999999998,0.06201878478664193,-0.033333333333333326,0.0,-0.09722222222222221,0.08476190476190476,0.0984375,-0.058333333333333334,0.039999999999999994,0.004166666666666666,0.021212121212121213,-0.05166666666666666,-0.06759259259259259,0.07756410256410257,0.041249999999999995,0.07291666666666667,0.09678130511463845,0.03388888888888887,-0.0432040182040182,0.0,0.004170673076923063,-0.07916666666666666,-0.04895833333333334,0.0,0.0673076923076923,-0.07352941176470587,0.09740740740740741,0.025,-0.033935112506541076,-0.009722222222222215,0.09333333333333335,-0.07333333333333333,0.07261904761904761,0.08283962414397196,0.009615384615384609,0.05583333333333333,0.023057299843014127,0.07195512820512819,-0.004294871794871795,0.007852564102564122,0.0,0.07142857142857142,-0.01785714285714284,0.021809895833333332,0.042857142857142864,0.0,0.04318181818181821,0.041666666666666664,0.0,-0.06284722222222222,0.0939238095238095,0.08714285714285716,0.07708333333333334,0.06250000000000001,0.08082386363636362,0.09083333333333335,0.0,0.024999999999999994,0.06473214285714285,-0.043518518518518526,0.0003571428571428614,-0.06666666666666665,-0.09062500000000001,-0.053125000000000006,-0.02638888888888888,0.0763888888888889,0.010000000000000033,0.005937499999999998,0.09342674868990662,0.011111111111111108,0.0,0.08333333333333333,0.017583333333333333,0.05611111111111112,0.0,0.0,0.04694444444444444,-0.028869047619047614,-0.07142857142857142,0.03246753246753247,0.07453703703703701,-0.017857142857142873,-0.08055555555555555,0.023715277777777776,0.05227272727272729,0.010714285714285716,0.06458333333333334,0.07777777777777779,-0.021390374331550808,-0.07592592592592592,-0.004629629629629626,0.0,0.1,0.08333333333333333,0.033333333333333326,-0.030000000000000006,-0.019140625000000022,-0.07592592592592592,-0.011111111111111112,0.04805555555555555,0.09313186813186815,0.006249999999999978,0.075,0.00416666666666667,0.0875,0.0033333333333333383,0.017803030303030307,-0.09,0.02017045454545454,0.008928571428571425,-0.04999999999999996,0.096875,0.0,0.03571428571428572,0.04333333333333335,-0.03238636363636365,0.0019230769230769162,-0.0993055555555555,0.09972527472527472,-0.02892156862745097,0.0,0.05503968253968255,0.09833333333333337,0.0923611111111111,-0.0025000000000000135,0.0,0.018749999999999992,0.0875,-0.05253623188405796,-0.05000000000000001,0.015714285714285712,0.043619791666666685,-0.09166666666666667,0.04796626984126986,-0.023461538461538478,0.05398860398860398,0.07959183673469387,0.0625,0.024914965986394564,0.04660208212839791,0.04711538461538462,-0.038417366946778705,0.02176829268292683,0.0,0.02768065268065268,0.004999999999999999,0.04544947240259742,-0.034523809523809526,0.0,0.022500000000000003,0.07875,0.008928571428571425,0.0,-0.04999999999999999,0.06000000000000002,0.0625,0.09545454545454547,-0.02340909090909092,0.09479166666666668,-0.027500000000000004,0.06874999999999999,0.033333333333333326,0.07083333333333333,0.0],\"xaxis\":\"x\",\"y\":[0,4,0,0,1,0,0,0,1,0,0,0,0,0,1,0,0,0,0,4,2,0,2,1,1,0,0,4,3,0,2,1,1,1,0,1,1,1,0,3,8,0,1,2,0,1,0,3,1,0,1,1,1,0,0,1,2,1,0,0,2,2,4,6,1,0,0,0,0,0,1,3,2,1,0,0,0,4,1,0,0,0,1,0,0,1,0,1,0,3,0,0,0,0,0,0,0,0,0,0,0,0,0,0,0,3,1,1,4,2,0,0,1,1,3,1,2,7,7,2,1,1,1,1,1,3,2,0,0,0,1,1,1,0,0,0,0,0,6,0,0,0,0,0,1,1,0,0,0,1,1,0,3,0,0,3,1,2,1,0,0,1,2,3,0,2,2,1,9,0,4,1,1,7,3,0,0,0,1,1,1,1,1,0,0,0,0,1,1,3,2,0,1],\"yaxis\":\"y\"},{\"hovertemplate\":\"Humor=Very good<br>Sentimento=%{x}<br>Helpfulness Numerator=%{y}<extra></extra>\",\"legendgroup\":\"Very good\",\"marker\":{\"color\":\"#00cc96\",\"symbol\":\"circle\"},\"mode\":\"markers\",\"name\":\"Very good\",\"orientation\":\"v\",\"showlegend\":true,\"type\":\"scatter\",\"x\":[0.64,0.50625,0.6,0.6875,0.63,0.7,0.625,0.7875,0.5,0.5066666666666666,0.5083333333333334,1.0,0.688888888888889,0.5,0.5399999999999999,0.51,0.5611111111111111,0.6333333333333333,0.7666666666666666,0.725,0.6166666666666667,0.5666666666666667,0.85,0.6166666666666667,0.5,0.8,1.0,0.5340909090909091,0.6833333333333332,0.653888888888889,0.52,0.5277777777777778,0.5,0.5349999999999999,0.5666666666666667,0.5788095238095238,0.5,0.5225,0.8,0.7125,1.0,0.7625,0.5,0.6,0.52,0.6620000000000001,0.5599999999999999,0.513888888888889,0.6583333333333333,0.5,0.63,0.5983333333333334,0.5416666666666666,0.5,0.5133333333333334,0.7,0.5177083333333333,0.5458333333333334,0.5791666666666667,0.5333333333333333,0.6041666666666666,0.725,0.5,0.5,0.6222222222222222,0.5018849206349206,0.7,0.5,0.5,0.5,0.8,0.5,0.61171875,0.5153846153846153,0.8049999999999999,0.5249999999999999,0.5,0.5833333333333334,0.563125,0.7,0.6833333333333332,0.7166666666666668,0.9,0.525,0.7666666666666666,0.6,0.8,0.625,0.78125,0.725,0.5333333333333333,0.5333333333333333,0.9099999999999999,0.5,0.8,0.625,1.0,0.65,0.5,0.5375,0.5333333333333333,0.5428571428571428,0.8,0.85,0.55,0.6138888888888888,0.6,0.6666666666666666,0.5,0.6000000000000001,0.75,0.6,0.54125,0.75,0.890625,0.5377777777777778,0.6161111111111112,0.5666666666666668,0.52375,0.6666666666666666],\"xaxis\":\"x\",\"y\":[2,0,0,0,0,1,1,0,0,0,0,2,1,0,4,3,1,0,2,2,1,3,0,2,0,0,0,0,0,0,0,7,5,0,0,1,0,0,0,0,0,1,1,0,0,1,1,0,1,0,0,0,0,0,0,0,0,0,0,3,1,1,4,0,0,0,1,1,2,1,1,1,1,1,1,3,3,3,0,0,8,1,0,0,0,0,2,3,0,0,0,0,0,1,0,1,0,0,4,0,1,0,1,0,0,1,0,0,0,0,0,0,1,0,3,1,0,0,0,2],\"yaxis\":\"y\"},{\"hovertemplate\":\"Humor=Very bad<br>Sentimento=%{x}<br>Helpfulness Numerator=%{y}<extra></extra>\",\"legendgroup\":\"Very bad\",\"marker\":{\"color\":\"#ab63fa\",\"symbol\":\"circle\"},\"mode\":\"markers\",\"name\":\"Very bad\",\"orientation\":\"v\",\"showlegend\":true,\"type\":\"scatter\",\"x\":[-0.5,-0.78125,-0.5,-0.5,-0.5,-0.8,-1.0],\"xaxis\":\"x\",\"y\":[4,2,1,0,0,0,0],\"yaxis\":\"y\"},{\"hovertemplate\":\"Humor=bad<br>Sentimento=%{x}<br>Helpfulness Numerator=%{y}<extra></extra>\",\"legendgroup\":\"bad\",\"marker\":{\"color\":\"#FFA15A\",\"symbol\":\"circle\"},\"mode\":\"markers\",\"name\":\"bad\",\"orientation\":\"v\",\"showlegend\":true,\"type\":\"scatter\",\"x\":[-0.12499999999999999,-0.1257638888888889,-0.22499999999999992,-0.3533333333333334,-0.10444444444444441,-0.24513888888888888,-0.10729166666666663,-0.25,-0.37857142857142856,-0.4833333333333333,-0.10096153846153846,-0.20039682539682538,-0.125,-0.3333333333333333,-0.115,-0.1875,-0.1270833333333333,-0.2958333333333333,-0.27499999999999997,-0.2333333333333334,-0.14444444444444443,-0.1234375,-0.25,-0.10800264550264552,-0.17833333333333332,-0.17500000000000002,-0.17955627705627705,-0.1442982700892857,-0.13125,-0.1159090909090909,-0.20952380952380947,-0.26944444444444443,-0.415625,-0.3843749999999999,-0.10454545454545455,-0.12916666666666662,-0.1958333333333333,-0.14375000000000002,-0.18888888888888888,-0.30666666666666664],\"xaxis\":\"x\",\"y\":[0,1,0,0,0,0,3,1,0,0,2,1,1,0,0,0,1,7,0,0,0,0,0,1,1,0,7,2,2,1,5,0,0,0,11,1,0,1,1,0],\"yaxis\":\"y\"}],                        {\"legend\":{\"title\":{\"text\":\"Humor\"},\"tracegroupgap\":0},\"margin\":{\"t\":60},\"template\":{\"data\":{\"bar\":[{\"error_x\":{\"color\":\"#2a3f5f\"},\"error_y\":{\"color\":\"#2a3f5f\"},\"marker\":{\"line\":{\"color\":\"#E5ECF6\",\"width\":0.5},\"pattern\":{\"fillmode\":\"overlay\",\"size\":10,\"solidity\":0.2}},\"type\":\"bar\"}],\"barpolar\":[{\"marker\":{\"line\":{\"color\":\"#E5ECF6\",\"width\":0.5},\"pattern\":{\"fillmode\":\"overlay\",\"size\":10,\"solidity\":0.2}},\"type\":\"barpolar\"}],\"carpet\":[{\"aaxis\":{\"endlinecolor\":\"#2a3f5f\",\"gridcolor\":\"white\",\"linecolor\":\"white\",\"minorgridcolor\":\"white\",\"startlinecolor\":\"#2a3f5f\"},\"baxis\":{\"endlinecolor\":\"#2a3f5f\",\"gridcolor\":\"white\",\"linecolor\":\"white\",\"minorgridcolor\":\"white\",\"startlinecolor\":\"#2a3f5f\"},\"type\":\"carpet\"}],\"choropleth\":[{\"colorbar\":{\"outlinewidth\":0,\"ticks\":\"\"},\"type\":\"choropleth\"}],\"contour\":[{\"colorbar\":{\"outlinewidth\":0,\"ticks\":\"\"},\"colorscale\":[[0.0,\"#0d0887\"],[0.1111111111111111,\"#46039f\"],[0.2222222222222222,\"#7201a8\"],[0.3333333333333333,\"#9c179e\"],[0.4444444444444444,\"#bd3786\"],[0.5555555555555556,\"#d8576b\"],[0.6666666666666666,\"#ed7953\"],[0.7777777777777778,\"#fb9f3a\"],[0.8888888888888888,\"#fdca26\"],[1.0,\"#f0f921\"]],\"type\":\"contour\"}],\"contourcarpet\":[{\"colorbar\":{\"outlinewidth\":0,\"ticks\":\"\"},\"type\":\"contourcarpet\"}],\"heatmap\":[{\"colorbar\":{\"outlinewidth\":0,\"ticks\":\"\"},\"colorscale\":[[0.0,\"#0d0887\"],[0.1111111111111111,\"#46039f\"],[0.2222222222222222,\"#7201a8\"],[0.3333333333333333,\"#9c179e\"],[0.4444444444444444,\"#bd3786\"],[0.5555555555555556,\"#d8576b\"],[0.6666666666666666,\"#ed7953\"],[0.7777777777777778,\"#fb9f3a\"],[0.8888888888888888,\"#fdca26\"],[1.0,\"#f0f921\"]],\"type\":\"heatmap\"}],\"heatmapgl\":[{\"colorbar\":{\"outlinewidth\":0,\"ticks\":\"\"},\"colorscale\":[[0.0,\"#0d0887\"],[0.1111111111111111,\"#46039f\"],[0.2222222222222222,\"#7201a8\"],[0.3333333333333333,\"#9c179e\"],[0.4444444444444444,\"#bd3786\"],[0.5555555555555556,\"#d8576b\"],[0.6666666666666666,\"#ed7953\"],[0.7777777777777778,\"#fb9f3a\"],[0.8888888888888888,\"#fdca26\"],[1.0,\"#f0f921\"]],\"type\":\"heatmapgl\"}],\"histogram\":[{\"marker\":{\"pattern\":{\"fillmode\":\"overlay\",\"size\":10,\"solidity\":0.2}},\"type\":\"histogram\"}],\"histogram2d\":[{\"colorbar\":{\"outlinewidth\":0,\"ticks\":\"\"},\"colorscale\":[[0.0,\"#0d0887\"],[0.1111111111111111,\"#46039f\"],[0.2222222222222222,\"#7201a8\"],[0.3333333333333333,\"#9c179e\"],[0.4444444444444444,\"#bd3786\"],[0.5555555555555556,\"#d8576b\"],[0.6666666666666666,\"#ed7953\"],[0.7777777777777778,\"#fb9f3a\"],[0.8888888888888888,\"#fdca26\"],[1.0,\"#f0f921\"]],\"type\":\"histogram2d\"}],\"histogram2dcontour\":[{\"colorbar\":{\"outlinewidth\":0,\"ticks\":\"\"},\"colorscale\":[[0.0,\"#0d0887\"],[0.1111111111111111,\"#46039f\"],[0.2222222222222222,\"#7201a8\"],[0.3333333333333333,\"#9c179e\"],[0.4444444444444444,\"#bd3786\"],[0.5555555555555556,\"#d8576b\"],[0.6666666666666666,\"#ed7953\"],[0.7777777777777778,\"#fb9f3a\"],[0.8888888888888888,\"#fdca26\"],[1.0,\"#f0f921\"]],\"type\":\"histogram2dcontour\"}],\"mesh3d\":[{\"colorbar\":{\"outlinewidth\":0,\"ticks\":\"\"},\"type\":\"mesh3d\"}],\"parcoords\":[{\"line\":{\"colorbar\":{\"outlinewidth\":0,\"ticks\":\"\"}},\"type\":\"parcoords\"}],\"pie\":[{\"automargin\":true,\"type\":\"pie\"}],\"scatter\":[{\"marker\":{\"colorbar\":{\"outlinewidth\":0,\"ticks\":\"\"}},\"type\":\"scatter\"}],\"scatter3d\":[{\"line\":{\"colorbar\":{\"outlinewidth\":0,\"ticks\":\"\"}},\"marker\":{\"colorbar\":{\"outlinewidth\":0,\"ticks\":\"\"}},\"type\":\"scatter3d\"}],\"scattercarpet\":[{\"marker\":{\"colorbar\":{\"outlinewidth\":0,\"ticks\":\"\"}},\"type\":\"scattercarpet\"}],\"scattergeo\":[{\"marker\":{\"colorbar\":{\"outlinewidth\":0,\"ticks\":\"\"}},\"type\":\"scattergeo\"}],\"scattergl\":[{\"marker\":{\"colorbar\":{\"outlinewidth\":0,\"ticks\":\"\"}},\"type\":\"scattergl\"}],\"scattermapbox\":[{\"marker\":{\"colorbar\":{\"outlinewidth\":0,\"ticks\":\"\"}},\"type\":\"scattermapbox\"}],\"scatterpolar\":[{\"marker\":{\"colorbar\":{\"outlinewidth\":0,\"ticks\":\"\"}},\"type\":\"scatterpolar\"}],\"scatterpolargl\":[{\"marker\":{\"colorbar\":{\"outlinewidth\":0,\"ticks\":\"\"}},\"type\":\"scatterpolargl\"}],\"scatterternary\":[{\"marker\":{\"colorbar\":{\"outlinewidth\":0,\"ticks\":\"\"}},\"type\":\"scatterternary\"}],\"surface\":[{\"colorbar\":{\"outlinewidth\":0,\"ticks\":\"\"},\"colorscale\":[[0.0,\"#0d0887\"],[0.1111111111111111,\"#46039f\"],[0.2222222222222222,\"#7201a8\"],[0.3333333333333333,\"#9c179e\"],[0.4444444444444444,\"#bd3786\"],[0.5555555555555556,\"#d8576b\"],[0.6666666666666666,\"#ed7953\"],[0.7777777777777778,\"#fb9f3a\"],[0.8888888888888888,\"#fdca26\"],[1.0,\"#f0f921\"]],\"type\":\"surface\"}],\"table\":[{\"cells\":{\"fill\":{\"color\":\"#EBF0F8\"},\"line\":{\"color\":\"white\"}},\"header\":{\"fill\":{\"color\":\"#C8D4E3\"},\"line\":{\"color\":\"white\"}},\"type\":\"table\"}]},\"layout\":{\"annotationdefaults\":{\"arrowcolor\":\"#2a3f5f\",\"arrowhead\":0,\"arrowwidth\":1},\"autotypenumbers\":\"strict\",\"coloraxis\":{\"colorbar\":{\"outlinewidth\":0,\"ticks\":\"\"}},\"colorscale\":{\"diverging\":[[0,\"#8e0152\"],[0.1,\"#c51b7d\"],[0.2,\"#de77ae\"],[0.3,\"#f1b6da\"],[0.4,\"#fde0ef\"],[0.5,\"#f7f7f7\"],[0.6,\"#e6f5d0\"],[0.7,\"#b8e186\"],[0.8,\"#7fbc41\"],[0.9,\"#4d9221\"],[1,\"#276419\"]],\"sequential\":[[0.0,\"#0d0887\"],[0.1111111111111111,\"#46039f\"],[0.2222222222222222,\"#7201a8\"],[0.3333333333333333,\"#9c179e\"],[0.4444444444444444,\"#bd3786\"],[0.5555555555555556,\"#d8576b\"],[0.6666666666666666,\"#ed7953\"],[0.7777777777777778,\"#fb9f3a\"],[0.8888888888888888,\"#fdca26\"],[1.0,\"#f0f921\"]],\"sequentialminus\":[[0.0,\"#0d0887\"],[0.1111111111111111,\"#46039f\"],[0.2222222222222222,\"#7201a8\"],[0.3333333333333333,\"#9c179e\"],[0.4444444444444444,\"#bd3786\"],[0.5555555555555556,\"#d8576b\"],[0.6666666666666666,\"#ed7953\"],[0.7777777777777778,\"#fb9f3a\"],[0.8888888888888888,\"#fdca26\"],[1.0,\"#f0f921\"]]},\"colorway\":[\"#636efa\",\"#EF553B\",\"#00cc96\",\"#ab63fa\",\"#FFA15A\",\"#19d3f3\",\"#FF6692\",\"#B6E880\",\"#FF97FF\",\"#FECB52\"],\"font\":{\"color\":\"#2a3f5f\"},\"geo\":{\"bgcolor\":\"white\",\"lakecolor\":\"white\",\"landcolor\":\"#E5ECF6\",\"showlakes\":true,\"showland\":true,\"subunitcolor\":\"white\"},\"hoverlabel\":{\"align\":\"left\"},\"hovermode\":\"closest\",\"mapbox\":{\"style\":\"light\"},\"paper_bgcolor\":\"white\",\"plot_bgcolor\":\"#E5ECF6\",\"polar\":{\"angularaxis\":{\"gridcolor\":\"white\",\"linecolor\":\"white\",\"ticks\":\"\"},\"bgcolor\":\"#E5ECF6\",\"radialaxis\":{\"gridcolor\":\"white\",\"linecolor\":\"white\",\"ticks\":\"\"}},\"scene\":{\"xaxis\":{\"backgroundcolor\":\"#E5ECF6\",\"gridcolor\":\"white\",\"gridwidth\":2,\"linecolor\":\"white\",\"showbackground\":true,\"ticks\":\"\",\"zerolinecolor\":\"white\"},\"yaxis\":{\"backgroundcolor\":\"#E5ECF6\",\"gridcolor\":\"white\",\"gridwidth\":2,\"linecolor\":\"white\",\"showbackground\":true,\"ticks\":\"\",\"zerolinecolor\":\"white\"},\"zaxis\":{\"backgroundcolor\":\"#E5ECF6\",\"gridcolor\":\"white\",\"gridwidth\":2,\"linecolor\":\"white\",\"showbackground\":true,\"ticks\":\"\",\"zerolinecolor\":\"white\"}},\"shapedefaults\":{\"line\":{\"color\":\"#2a3f5f\"}},\"ternary\":{\"aaxis\":{\"gridcolor\":\"white\",\"linecolor\":\"white\",\"ticks\":\"\"},\"baxis\":{\"gridcolor\":\"white\",\"linecolor\":\"white\",\"ticks\":\"\"},\"bgcolor\":\"#E5ECF6\",\"caxis\":{\"gridcolor\":\"white\",\"linecolor\":\"white\",\"ticks\":\"\"}},\"title\":{\"x\":0.05},\"xaxis\":{\"automargin\":true,\"gridcolor\":\"white\",\"linecolor\":\"white\",\"ticks\":\"\",\"title\":{\"standoff\":15},\"zerolinecolor\":\"white\",\"zerolinewidth\":2},\"yaxis\":{\"automargin\":true,\"gridcolor\":\"white\",\"linecolor\":\"white\",\"ticks\":\"\",\"title\":{\"standoff\":15},\"zerolinecolor\":\"white\",\"zerolinewidth\":2}}},\"xaxis\":{\"anchor\":\"y\",\"domain\":[0.0,1.0],\"title\":{\"text\":\"Sentimento\"}},\"yaxis\":{\"anchor\":\"x\",\"domain\":[0.0,1.0],\"title\":{\"text\":\"Helpfulness Numerator\"}}},                        {\"responsive\": true}                    ).then(function(){\n",
       "                            \n",
       "var gd = document.getElementById('afe5d0c8-1d92-4218-8883-930dd42281de');\n",
       "var x = new MutationObserver(function (mutations, observer) {{\n",
       "        var display = window.getComputedStyle(gd).display;\n",
       "        if (!display || display === 'none') {{\n",
       "            console.log([gd, 'removed!']);\n",
       "            Plotly.purge(gd);\n",
       "            observer.disconnect();\n",
       "        }}\n",
       "}});\n",
       "\n",
       "// Listen for the removal of the full notebook cells\n",
       "var notebookContainer = gd.closest('#notebook-container');\n",
       "if (notebookContainer) {{\n",
       "    x.observe(notebookContainer, {childList: true});\n",
       "}}\n",
       "\n",
       "// Listen for the clearing of the current output cell\n",
       "var outputEl = gd.closest('.output');\n",
       "if (outputEl) {{\n",
       "    x.observe(outputEl, {childList: true});\n",
       "}}\n",
       "\n",
       "                        })                };                });            </script>        </div>"
      ]
     },
     "metadata": {},
     "output_type": "display_data"
    }
   ],
   "source": [
    "px.scatter(df3, x='Sentimento',\r\n",
    "             y='HelpfulnessNumerator',\r\n",
    "             color='Humor',\r\n",
    "             labels={'HelpfulnessNumerator':'Helpfulness Numerator'})"
   ]
  },
  {
   "cell_type": "code",
   "execution_count": 15,
   "id": "c8fd32c3",
   "metadata": {
    "execution": {
     "iopub.execute_input": "2021-08-14T13:09:05.387209Z",
     "iopub.status.busy": "2021-08-14T13:09:05.386247Z",
     "iopub.status.idle": "2021-08-14T13:09:05.474637Z",
     "shell.execute_reply": "2021-08-14T13:09:05.473937Z",
     "shell.execute_reply.started": "2021-08-14T13:05:34.524310Z"
    },
    "papermill": {
     "duration": 0.143336,
     "end_time": "2021-08-14T13:09:05.474778",
     "exception": false,
     "start_time": "2021-08-14T13:09:05.331442",
     "status": "completed"
    },
    "tags": []
   },
   "outputs": [
    {
     "data": {
      "text/html": [
       "<div>                            <div id=\"beff89c2-4a86-4745-a3d8-e5c3f7180b95\" class=\"plotly-graph-div\" style=\"height:525px; width:100%;\"></div>            <script type=\"text/javascript\">                require([\"plotly\"], function(Plotly) {                    window.PLOTLYENV=window.PLOTLYENV || {};                                    if (document.getElementById(\"beff89c2-4a86-4745-a3d8-e5c3f7180b95\")) {                    Plotly.newPlot(                        \"beff89c2-4a86-4745-a3d8-e5c3f7180b95\",                        [{\"alignmentgroup\":\"True\",\"hovertemplate\":\"Humor=%{x}<br>Helpfulness Denominator=%{y}<extra></extra>\",\"legendgroup\":\"\",\"marker\":{\"color\":\"#636efa\",\"pattern\":{\"shape\":\"\"}},\"name\":\"\",\"offsetgroup\":\"\",\"orientation\":\"v\",\"showlegend\":false,\"textposition\":\"auto\",\"type\":\"bar\",\"x\":[\"Good\",\"Neuter\",\"Very bad\",\"Very good\",\"bad\"],\"xaxis\":\"x\",\"y\":[1.6984375,1.6373056994818653,1.7142857142857142,1.1583333333333334,2.475],\"yaxis\":\"y\"}],                        {\"barmode\":\"relative\",\"legend\":{\"tracegroupgap\":0},\"template\":{\"data\":{\"bar\":[{\"error_x\":{\"color\":\"#2a3f5f\"},\"error_y\":{\"color\":\"#2a3f5f\"},\"marker\":{\"line\":{\"color\":\"#E5ECF6\",\"width\":0.5},\"pattern\":{\"fillmode\":\"overlay\",\"size\":10,\"solidity\":0.2}},\"type\":\"bar\"}],\"barpolar\":[{\"marker\":{\"line\":{\"color\":\"#E5ECF6\",\"width\":0.5},\"pattern\":{\"fillmode\":\"overlay\",\"size\":10,\"solidity\":0.2}},\"type\":\"barpolar\"}],\"carpet\":[{\"aaxis\":{\"endlinecolor\":\"#2a3f5f\",\"gridcolor\":\"white\",\"linecolor\":\"white\",\"minorgridcolor\":\"white\",\"startlinecolor\":\"#2a3f5f\"},\"baxis\":{\"endlinecolor\":\"#2a3f5f\",\"gridcolor\":\"white\",\"linecolor\":\"white\",\"minorgridcolor\":\"white\",\"startlinecolor\":\"#2a3f5f\"},\"type\":\"carpet\"}],\"choropleth\":[{\"colorbar\":{\"outlinewidth\":0,\"ticks\":\"\"},\"type\":\"choropleth\"}],\"contour\":[{\"colorbar\":{\"outlinewidth\":0,\"ticks\":\"\"},\"colorscale\":[[0.0,\"#0d0887\"],[0.1111111111111111,\"#46039f\"],[0.2222222222222222,\"#7201a8\"],[0.3333333333333333,\"#9c179e\"],[0.4444444444444444,\"#bd3786\"],[0.5555555555555556,\"#d8576b\"],[0.6666666666666666,\"#ed7953\"],[0.7777777777777778,\"#fb9f3a\"],[0.8888888888888888,\"#fdca26\"],[1.0,\"#f0f921\"]],\"type\":\"contour\"}],\"contourcarpet\":[{\"colorbar\":{\"outlinewidth\":0,\"ticks\":\"\"},\"type\":\"contourcarpet\"}],\"heatmap\":[{\"colorbar\":{\"outlinewidth\":0,\"ticks\":\"\"},\"colorscale\":[[0.0,\"#0d0887\"],[0.1111111111111111,\"#46039f\"],[0.2222222222222222,\"#7201a8\"],[0.3333333333333333,\"#9c179e\"],[0.4444444444444444,\"#bd3786\"],[0.5555555555555556,\"#d8576b\"],[0.6666666666666666,\"#ed7953\"],[0.7777777777777778,\"#fb9f3a\"],[0.8888888888888888,\"#fdca26\"],[1.0,\"#f0f921\"]],\"type\":\"heatmap\"}],\"heatmapgl\":[{\"colorbar\":{\"outlinewidth\":0,\"ticks\":\"\"},\"colorscale\":[[0.0,\"#0d0887\"],[0.1111111111111111,\"#46039f\"],[0.2222222222222222,\"#7201a8\"],[0.3333333333333333,\"#9c179e\"],[0.4444444444444444,\"#bd3786\"],[0.5555555555555556,\"#d8576b\"],[0.6666666666666666,\"#ed7953\"],[0.7777777777777778,\"#fb9f3a\"],[0.8888888888888888,\"#fdca26\"],[1.0,\"#f0f921\"]],\"type\":\"heatmapgl\"}],\"histogram\":[{\"marker\":{\"pattern\":{\"fillmode\":\"overlay\",\"size\":10,\"solidity\":0.2}},\"type\":\"histogram\"}],\"histogram2d\":[{\"colorbar\":{\"outlinewidth\":0,\"ticks\":\"\"},\"colorscale\":[[0.0,\"#0d0887\"],[0.1111111111111111,\"#46039f\"],[0.2222222222222222,\"#7201a8\"],[0.3333333333333333,\"#9c179e\"],[0.4444444444444444,\"#bd3786\"],[0.5555555555555556,\"#d8576b\"],[0.6666666666666666,\"#ed7953\"],[0.7777777777777778,\"#fb9f3a\"],[0.8888888888888888,\"#fdca26\"],[1.0,\"#f0f921\"]],\"type\":\"histogram2d\"}],\"histogram2dcontour\":[{\"colorbar\":{\"outlinewidth\":0,\"ticks\":\"\"},\"colorscale\":[[0.0,\"#0d0887\"],[0.1111111111111111,\"#46039f\"],[0.2222222222222222,\"#7201a8\"],[0.3333333333333333,\"#9c179e\"],[0.4444444444444444,\"#bd3786\"],[0.5555555555555556,\"#d8576b\"],[0.6666666666666666,\"#ed7953\"],[0.7777777777777778,\"#fb9f3a\"],[0.8888888888888888,\"#fdca26\"],[1.0,\"#f0f921\"]],\"type\":\"histogram2dcontour\"}],\"mesh3d\":[{\"colorbar\":{\"outlinewidth\":0,\"ticks\":\"\"},\"type\":\"mesh3d\"}],\"parcoords\":[{\"line\":{\"colorbar\":{\"outlinewidth\":0,\"ticks\":\"\"}},\"type\":\"parcoords\"}],\"pie\":[{\"automargin\":true,\"type\":\"pie\"}],\"scatter\":[{\"marker\":{\"colorbar\":{\"outlinewidth\":0,\"ticks\":\"\"}},\"type\":\"scatter\"}],\"scatter3d\":[{\"line\":{\"colorbar\":{\"outlinewidth\":0,\"ticks\":\"\"}},\"marker\":{\"colorbar\":{\"outlinewidth\":0,\"ticks\":\"\"}},\"type\":\"scatter3d\"}],\"scattercarpet\":[{\"marker\":{\"colorbar\":{\"outlinewidth\":0,\"ticks\":\"\"}},\"type\":\"scattercarpet\"}],\"scattergeo\":[{\"marker\":{\"colorbar\":{\"outlinewidth\":0,\"ticks\":\"\"}},\"type\":\"scattergeo\"}],\"scattergl\":[{\"marker\":{\"colorbar\":{\"outlinewidth\":0,\"ticks\":\"\"}},\"type\":\"scattergl\"}],\"scattermapbox\":[{\"marker\":{\"colorbar\":{\"outlinewidth\":0,\"ticks\":\"\"}},\"type\":\"scattermapbox\"}],\"scatterpolar\":[{\"marker\":{\"colorbar\":{\"outlinewidth\":0,\"ticks\":\"\"}},\"type\":\"scatterpolar\"}],\"scatterpolargl\":[{\"marker\":{\"colorbar\":{\"outlinewidth\":0,\"ticks\":\"\"}},\"type\":\"scatterpolargl\"}],\"scatterternary\":[{\"marker\":{\"colorbar\":{\"outlinewidth\":0,\"ticks\":\"\"}},\"type\":\"scatterternary\"}],\"surface\":[{\"colorbar\":{\"outlinewidth\":0,\"ticks\":\"\"},\"colorscale\":[[0.0,\"#0d0887\"],[0.1111111111111111,\"#46039f\"],[0.2222222222222222,\"#7201a8\"],[0.3333333333333333,\"#9c179e\"],[0.4444444444444444,\"#bd3786\"],[0.5555555555555556,\"#d8576b\"],[0.6666666666666666,\"#ed7953\"],[0.7777777777777778,\"#fb9f3a\"],[0.8888888888888888,\"#fdca26\"],[1.0,\"#f0f921\"]],\"type\":\"surface\"}],\"table\":[{\"cells\":{\"fill\":{\"color\":\"#EBF0F8\"},\"line\":{\"color\":\"white\"}},\"header\":{\"fill\":{\"color\":\"#C8D4E3\"},\"line\":{\"color\":\"white\"}},\"type\":\"table\"}]},\"layout\":{\"annotationdefaults\":{\"arrowcolor\":\"#2a3f5f\",\"arrowhead\":0,\"arrowwidth\":1},\"autotypenumbers\":\"strict\",\"coloraxis\":{\"colorbar\":{\"outlinewidth\":0,\"ticks\":\"\"}},\"colorscale\":{\"diverging\":[[0,\"#8e0152\"],[0.1,\"#c51b7d\"],[0.2,\"#de77ae\"],[0.3,\"#f1b6da\"],[0.4,\"#fde0ef\"],[0.5,\"#f7f7f7\"],[0.6,\"#e6f5d0\"],[0.7,\"#b8e186\"],[0.8,\"#7fbc41\"],[0.9,\"#4d9221\"],[1,\"#276419\"]],\"sequential\":[[0.0,\"#0d0887\"],[0.1111111111111111,\"#46039f\"],[0.2222222222222222,\"#7201a8\"],[0.3333333333333333,\"#9c179e\"],[0.4444444444444444,\"#bd3786\"],[0.5555555555555556,\"#d8576b\"],[0.6666666666666666,\"#ed7953\"],[0.7777777777777778,\"#fb9f3a\"],[0.8888888888888888,\"#fdca26\"],[1.0,\"#f0f921\"]],\"sequentialminus\":[[0.0,\"#0d0887\"],[0.1111111111111111,\"#46039f\"],[0.2222222222222222,\"#7201a8\"],[0.3333333333333333,\"#9c179e\"],[0.4444444444444444,\"#bd3786\"],[0.5555555555555556,\"#d8576b\"],[0.6666666666666666,\"#ed7953\"],[0.7777777777777778,\"#fb9f3a\"],[0.8888888888888888,\"#fdca26\"],[1.0,\"#f0f921\"]]},\"colorway\":[\"#636efa\",\"#EF553B\",\"#00cc96\",\"#ab63fa\",\"#FFA15A\",\"#19d3f3\",\"#FF6692\",\"#B6E880\",\"#FF97FF\",\"#FECB52\"],\"font\":{\"color\":\"#2a3f5f\"},\"geo\":{\"bgcolor\":\"white\",\"lakecolor\":\"white\",\"landcolor\":\"#E5ECF6\",\"showlakes\":true,\"showland\":true,\"subunitcolor\":\"white\"},\"hoverlabel\":{\"align\":\"left\"},\"hovermode\":\"closest\",\"mapbox\":{\"style\":\"light\"},\"paper_bgcolor\":\"white\",\"plot_bgcolor\":\"#E5ECF6\",\"polar\":{\"angularaxis\":{\"gridcolor\":\"white\",\"linecolor\":\"white\",\"ticks\":\"\"},\"bgcolor\":\"#E5ECF6\",\"radialaxis\":{\"gridcolor\":\"white\",\"linecolor\":\"white\",\"ticks\":\"\"}},\"scene\":{\"xaxis\":{\"backgroundcolor\":\"#E5ECF6\",\"gridcolor\":\"white\",\"gridwidth\":2,\"linecolor\":\"white\",\"showbackground\":true,\"ticks\":\"\",\"zerolinecolor\":\"white\"},\"yaxis\":{\"backgroundcolor\":\"#E5ECF6\",\"gridcolor\":\"white\",\"gridwidth\":2,\"linecolor\":\"white\",\"showbackground\":true,\"ticks\":\"\",\"zerolinecolor\":\"white\"},\"zaxis\":{\"backgroundcolor\":\"#E5ECF6\",\"gridcolor\":\"white\",\"gridwidth\":2,\"linecolor\":\"white\",\"showbackground\":true,\"ticks\":\"\",\"zerolinecolor\":\"white\"}},\"shapedefaults\":{\"line\":{\"color\":\"#2a3f5f\"}},\"ternary\":{\"aaxis\":{\"gridcolor\":\"white\",\"linecolor\":\"white\",\"ticks\":\"\"},\"baxis\":{\"gridcolor\":\"white\",\"linecolor\":\"white\",\"ticks\":\"\"},\"bgcolor\":\"#E5ECF6\",\"caxis\":{\"gridcolor\":\"white\",\"linecolor\":\"white\",\"ticks\":\"\"}},\"title\":{\"x\":0.05},\"xaxis\":{\"automargin\":true,\"gridcolor\":\"white\",\"linecolor\":\"white\",\"ticks\":\"\",\"title\":{\"standoff\":15},\"zerolinecolor\":\"white\",\"zerolinewidth\":2},\"yaxis\":{\"automargin\":true,\"gridcolor\":\"white\",\"linecolor\":\"white\",\"ticks\":\"\",\"title\":{\"standoff\":15},\"zerolinecolor\":\"white\",\"zerolinewidth\":2}}},\"title\":{\"text\":\"Helpfulness Denominator (Mean)\"},\"xaxis\":{\"anchor\":\"y\",\"domain\":[0.0,1.0],\"title\":{\"text\":\"Humor\"}},\"yaxis\":{\"anchor\":\"x\",\"domain\":[0.0,1.0],\"title\":{\"text\":\"Helpfulness Denominator\"}}},                        {\"responsive\": true}                    ).then(function(){\n",
       "                            \n",
       "var gd = document.getElementById('beff89c2-4a86-4745-a3d8-e5c3f7180b95');\n",
       "var x = new MutationObserver(function (mutations, observer) {{\n",
       "        var display = window.getComputedStyle(gd).display;\n",
       "        if (!display || display === 'none') {{\n",
       "            console.log([gd, 'removed!']);\n",
       "            Plotly.purge(gd);\n",
       "            observer.disconnect();\n",
       "        }}\n",
       "}});\n",
       "\n",
       "// Listen for the removal of the full notebook cells\n",
       "var notebookContainer = gd.closest('#notebook-container');\n",
       "if (notebookContainer) {{\n",
       "    x.observe(notebookContainer, {childList: true});\n",
       "}}\n",
       "\n",
       "// Listen for the clearing of the current output cell\n",
       "var outputEl = gd.closest('.output');\n",
       "if (outputEl) {{\n",
       "    x.observe(outputEl, {childList: true});\n",
       "}}\n",
       "\n",
       "                        })                };                });            </script>        </div>"
      ]
     },
     "metadata": {},
     "output_type": "display_data"
    }
   ],
   "source": [
    "px.bar(data_frame=df3.groupby(df3['Humor']).mean(),\r\n",
    "         x=df3.groupby(df3['Humor']).mean().index,\r\n",
    "         y='HelpfulnessDenominator',\r\n",
    "         title=\"Helpfulness Denominator (Mean)\",\r\n",
    "         labels={'x':'Humor', 'HelpfulnessDenominator':'Helpfulness Denominator'})"
   ]
  }
 ],
 "metadata": {
  "kernelspec": {
   "display_name": "Python 3",
   "language": "python",
   "name": "python3"
  },
  "language_info": {
   "codemirror_mode": {
    "name": "ipython",
    "version": 3
   },
   "file_extension": ".py",
   "mimetype": "text/x-python",
   "name": "python",
   "nbconvert_exporter": "python",
   "pygments_lexer": "ipython3",
   "version": "3.7.10"
  },
  "papermill": {
   "default_parameters": {},
   "duration": 118.764146,
   "end_time": "2021-08-14T13:09:07.822822",
   "environment_variables": {},
   "exception": null,
   "input_path": "__notebook__.ipynb",
   "output_path": "__notebook__.ipynb",
   "parameters": {},
   "start_time": "2021-08-14T13:07:09.058676",
   "version": "2.3.3"
  }
 },
 "nbformat": 4,
 "nbformat_minor": 5
}
